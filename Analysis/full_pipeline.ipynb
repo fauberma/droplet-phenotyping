{
 "cells": [
  {
   "cell_type": "markdown",
   "id": "28790032cc8f8d67",
   "metadata": {
    "collapsed": false
   },
   "source": [
    "# Imports"
   ]
  },
  {
   "cell_type": "code",
   "id": "9dbb94b41f3c164f",
   "metadata": {
    "collapsed": false,
    "ExecuteTime": {
     "end_time": "2024-12-19T23:33:17.472461Z",
     "start_time": "2024-12-19T23:33:14.142378Z"
    }
   },
   "source": [
    "import sys\n",
    "import os\n",
    "sys.path.append(os.path.join(os.getcwd(), os.pardir))\n",
    "from Tools.leica_tools import parse_lif\n",
    "from Tools.exp_tools import Experiment\n",
    "from Tools.db_tools import DbManager"
   ],
   "outputs": [],
   "execution_count": 1
  },
  {
   "cell_type": "code",
   "source": "parse_lif('/Volumes/T7/DMI/NKIP_FA_076/NKIP_FA_076.lif')",
   "metadata": {
    "collapsed": false,
    "ExecuteTime": {
     "end_time": "2024-12-05T08:20:34.025007Z",
     "start_time": "2024-12-05T08:20:33.992996Z"
    }
   },
   "id": "bfba379a6574fe19",
   "outputs": [
    {
     "data": {
      "text/plain": [
       "    index                       name           timestamp  t_index  n_channels  \\\n",
       "0       0  TileScan 1/TecRep1 Merged 2024-10-25 03:42:18        0           4   \n",
       "1       0  TileScan 1/TecRep1 Merged 2024-10-25 04:42:25        1           4   \n",
       "2       0  TileScan 1/TecRep1 Merged 2024-10-25 05:42:32        2           4   \n",
       "3       0  TileScan 1/TecRep1 Merged 2024-10-25 06:42:38        3           4   \n",
       "4       0  TileScan 1/TecRep1 Merged 2024-10-25 07:42:45        4           4   \n",
       "5       0  TileScan 1/TecRep1 Merged 2024-10-25 08:42:51        5           4   \n",
       "6       0  TileScan 1/TecRep1 Merged 2024-10-25 09:42:58        6           4   \n",
       "7       0  TileScan 1/TecRep1 Merged 2024-10-25 10:43:04        7           4   \n",
       "8       0  TileScan 1/TecRep1 Merged 2024-10-25 11:43:11        8           4   \n",
       "9       1  TileScan 1/TecRep2 Merged 2024-10-25 03:50:15        0           4   \n",
       "10      1  TileScan 1/TecRep2 Merged 2024-10-25 04:50:22        1           4   \n",
       "11      1  TileScan 1/TecRep2 Merged 2024-10-25 05:50:29        2           4   \n",
       "12      1  TileScan 1/TecRep2 Merged 2024-10-25 06:50:36        3           4   \n",
       "13      1  TileScan 1/TecRep2 Merged 2024-10-25 07:50:42        4           4   \n",
       "14      1  TileScan 1/TecRep2 Merged 2024-10-25 08:50:49        5           4   \n",
       "15      1  TileScan 1/TecRep2 Merged 2024-10-25 09:50:56        6           4   \n",
       "16      1  TileScan 1/TecRep2 Merged 2024-10-25 10:51:02        7           4   \n",
       "17      1  TileScan 1/TecRep2 Merged 2024-10-25 11:51:09        8           4   \n",
       "\n",
       "    bit_depth  resolution  merged  \n",
       "0          16    1.538462    True  \n",
       "1          16    1.538462    True  \n",
       "2          16    1.538462    True  \n",
       "3          16    1.538462    True  \n",
       "4          16    1.538462    True  \n",
       "5          16    1.538462    True  \n",
       "6          16    1.538462    True  \n",
       "7          16    1.538462    True  \n",
       "8          16    1.538462    True  \n",
       "9          16    1.538462    True  \n",
       "10         16    1.538462    True  \n",
       "11         16    1.538462    True  \n",
       "12         16    1.538462    True  \n",
       "13         16    1.538462    True  \n",
       "14         16    1.538462    True  \n",
       "15         16    1.538462    True  \n",
       "16         16    1.538462    True  \n",
       "17         16    1.538462    True  "
      ],
      "text/html": [
       "<div>\n",
       "<style scoped>\n",
       "    .dataframe tbody tr th:only-of-type {\n",
       "        vertical-align: middle;\n",
       "    }\n",
       "\n",
       "    .dataframe tbody tr th {\n",
       "        vertical-align: top;\n",
       "    }\n",
       "\n",
       "    .dataframe thead th {\n",
       "        text-align: right;\n",
       "    }\n",
       "</style>\n",
       "<table border=\"1\" class=\"dataframe\">\n",
       "  <thead>\n",
       "    <tr style=\"text-align: right;\">\n",
       "      <th></th>\n",
       "      <th>index</th>\n",
       "      <th>name</th>\n",
       "      <th>timestamp</th>\n",
       "      <th>t_index</th>\n",
       "      <th>n_channels</th>\n",
       "      <th>bit_depth</th>\n",
       "      <th>resolution</th>\n",
       "      <th>merged</th>\n",
       "    </tr>\n",
       "  </thead>\n",
       "  <tbody>\n",
       "    <tr>\n",
       "      <th>0</th>\n",
       "      <td>0</td>\n",
       "      <td>TileScan 1/TecRep1 Merged</td>\n",
       "      <td>2024-10-25 03:42:18</td>\n",
       "      <td>0</td>\n",
       "      <td>4</td>\n",
       "      <td>16</td>\n",
       "      <td>1.538462</td>\n",
       "      <td>True</td>\n",
       "    </tr>\n",
       "    <tr>\n",
       "      <th>1</th>\n",
       "      <td>0</td>\n",
       "      <td>TileScan 1/TecRep1 Merged</td>\n",
       "      <td>2024-10-25 04:42:25</td>\n",
       "      <td>1</td>\n",
       "      <td>4</td>\n",
       "      <td>16</td>\n",
       "      <td>1.538462</td>\n",
       "      <td>True</td>\n",
       "    </tr>\n",
       "    <tr>\n",
       "      <th>2</th>\n",
       "      <td>0</td>\n",
       "      <td>TileScan 1/TecRep1 Merged</td>\n",
       "      <td>2024-10-25 05:42:32</td>\n",
       "      <td>2</td>\n",
       "      <td>4</td>\n",
       "      <td>16</td>\n",
       "      <td>1.538462</td>\n",
       "      <td>True</td>\n",
       "    </tr>\n",
       "    <tr>\n",
       "      <th>3</th>\n",
       "      <td>0</td>\n",
       "      <td>TileScan 1/TecRep1 Merged</td>\n",
       "      <td>2024-10-25 06:42:38</td>\n",
       "      <td>3</td>\n",
       "      <td>4</td>\n",
       "      <td>16</td>\n",
       "      <td>1.538462</td>\n",
       "      <td>True</td>\n",
       "    </tr>\n",
       "    <tr>\n",
       "      <th>4</th>\n",
       "      <td>0</td>\n",
       "      <td>TileScan 1/TecRep1 Merged</td>\n",
       "      <td>2024-10-25 07:42:45</td>\n",
       "      <td>4</td>\n",
       "      <td>4</td>\n",
       "      <td>16</td>\n",
       "      <td>1.538462</td>\n",
       "      <td>True</td>\n",
       "    </tr>\n",
       "    <tr>\n",
       "      <th>5</th>\n",
       "      <td>0</td>\n",
       "      <td>TileScan 1/TecRep1 Merged</td>\n",
       "      <td>2024-10-25 08:42:51</td>\n",
       "      <td>5</td>\n",
       "      <td>4</td>\n",
       "      <td>16</td>\n",
       "      <td>1.538462</td>\n",
       "      <td>True</td>\n",
       "    </tr>\n",
       "    <tr>\n",
       "      <th>6</th>\n",
       "      <td>0</td>\n",
       "      <td>TileScan 1/TecRep1 Merged</td>\n",
       "      <td>2024-10-25 09:42:58</td>\n",
       "      <td>6</td>\n",
       "      <td>4</td>\n",
       "      <td>16</td>\n",
       "      <td>1.538462</td>\n",
       "      <td>True</td>\n",
       "    </tr>\n",
       "    <tr>\n",
       "      <th>7</th>\n",
       "      <td>0</td>\n",
       "      <td>TileScan 1/TecRep1 Merged</td>\n",
       "      <td>2024-10-25 10:43:04</td>\n",
       "      <td>7</td>\n",
       "      <td>4</td>\n",
       "      <td>16</td>\n",
       "      <td>1.538462</td>\n",
       "      <td>True</td>\n",
       "    </tr>\n",
       "    <tr>\n",
       "      <th>8</th>\n",
       "      <td>0</td>\n",
       "      <td>TileScan 1/TecRep1 Merged</td>\n",
       "      <td>2024-10-25 11:43:11</td>\n",
       "      <td>8</td>\n",
       "      <td>4</td>\n",
       "      <td>16</td>\n",
       "      <td>1.538462</td>\n",
       "      <td>True</td>\n",
       "    </tr>\n",
       "    <tr>\n",
       "      <th>9</th>\n",
       "      <td>1</td>\n",
       "      <td>TileScan 1/TecRep2 Merged</td>\n",
       "      <td>2024-10-25 03:50:15</td>\n",
       "      <td>0</td>\n",
       "      <td>4</td>\n",
       "      <td>16</td>\n",
       "      <td>1.538462</td>\n",
       "      <td>True</td>\n",
       "    </tr>\n",
       "    <tr>\n",
       "      <th>10</th>\n",
       "      <td>1</td>\n",
       "      <td>TileScan 1/TecRep2 Merged</td>\n",
       "      <td>2024-10-25 04:50:22</td>\n",
       "      <td>1</td>\n",
       "      <td>4</td>\n",
       "      <td>16</td>\n",
       "      <td>1.538462</td>\n",
       "      <td>True</td>\n",
       "    </tr>\n",
       "    <tr>\n",
       "      <th>11</th>\n",
       "      <td>1</td>\n",
       "      <td>TileScan 1/TecRep2 Merged</td>\n",
       "      <td>2024-10-25 05:50:29</td>\n",
       "      <td>2</td>\n",
       "      <td>4</td>\n",
       "      <td>16</td>\n",
       "      <td>1.538462</td>\n",
       "      <td>True</td>\n",
       "    </tr>\n",
       "    <tr>\n",
       "      <th>12</th>\n",
       "      <td>1</td>\n",
       "      <td>TileScan 1/TecRep2 Merged</td>\n",
       "      <td>2024-10-25 06:50:36</td>\n",
       "      <td>3</td>\n",
       "      <td>4</td>\n",
       "      <td>16</td>\n",
       "      <td>1.538462</td>\n",
       "      <td>True</td>\n",
       "    </tr>\n",
       "    <tr>\n",
       "      <th>13</th>\n",
       "      <td>1</td>\n",
       "      <td>TileScan 1/TecRep2 Merged</td>\n",
       "      <td>2024-10-25 07:50:42</td>\n",
       "      <td>4</td>\n",
       "      <td>4</td>\n",
       "      <td>16</td>\n",
       "      <td>1.538462</td>\n",
       "      <td>True</td>\n",
       "    </tr>\n",
       "    <tr>\n",
       "      <th>14</th>\n",
       "      <td>1</td>\n",
       "      <td>TileScan 1/TecRep2 Merged</td>\n",
       "      <td>2024-10-25 08:50:49</td>\n",
       "      <td>5</td>\n",
       "      <td>4</td>\n",
       "      <td>16</td>\n",
       "      <td>1.538462</td>\n",
       "      <td>True</td>\n",
       "    </tr>\n",
       "    <tr>\n",
       "      <th>15</th>\n",
       "      <td>1</td>\n",
       "      <td>TileScan 1/TecRep2 Merged</td>\n",
       "      <td>2024-10-25 09:50:56</td>\n",
       "      <td>6</td>\n",
       "      <td>4</td>\n",
       "      <td>16</td>\n",
       "      <td>1.538462</td>\n",
       "      <td>True</td>\n",
       "    </tr>\n",
       "    <tr>\n",
       "      <th>16</th>\n",
       "      <td>1</td>\n",
       "      <td>TileScan 1/TecRep2 Merged</td>\n",
       "      <td>2024-10-25 10:51:02</td>\n",
       "      <td>7</td>\n",
       "      <td>4</td>\n",
       "      <td>16</td>\n",
       "      <td>1.538462</td>\n",
       "      <td>True</td>\n",
       "    </tr>\n",
       "    <tr>\n",
       "      <th>17</th>\n",
       "      <td>1</td>\n",
       "      <td>TileScan 1/TecRep2 Merged</td>\n",
       "      <td>2024-10-25 11:51:09</td>\n",
       "      <td>8</td>\n",
       "      <td>4</td>\n",
       "      <td>16</td>\n",
       "      <td>1.538462</td>\n",
       "      <td>True</td>\n",
       "    </tr>\n",
       "  </tbody>\n",
       "</table>\n",
       "</div>"
      ]
     },
     "execution_count": 30,
     "metadata": {},
     "output_type": "execute_result"
    }
   ],
   "execution_count": 30
  },
  {
   "metadata": {
    "ExecuteTime": {
     "end_time": "2024-12-05T09:33:04.263942Z",
     "start_time": "2024-12-05T09:24:58.113152Z"
    }
   },
   "cell_type": "code",
   "source": [
    "expID = 'NKIP_FA_076'\n",
    "experiment = Experiment(expID)\n",
    "experiment.detect_droplets(mode='sweep')\n",
    "experiment.detect_outliers(model_name='outlier_v3.h5')\n",
    "experiment.cell_count(model_name='cell_count_v3.h5')"
   ],
   "id": "9720d58a8f535525",
   "outputs": [
    {
     "name": "stderr",
     "output_type": "stream",
     "text": [
      "2024-12-05 10:24:58,429 - WARNING - Compiled the loaded model, but the compiled metrics have yet to be built. `model.compile_metrics` will be empty until you train or evaluate the model.\n"
     ]
    },
    {
     "name": "stdout",
     "output_type": "stream",
     "text": [
      "      3/Unknown \u001B[1m0s\u001B[0m 32ms/step"
     ]
    },
    {
     "name": "stderr",
     "output_type": "stream",
     "text": [
      "2024-12-05 10:25:05.081956: W tensorflow/core/framework/local_rendezvous.cc:404] Local rendezvous is aborting with status: OUT_OF_RANGE: End of sequence\n"
     ]
    },
    {
     "name": "stdout",
     "output_type": "stream",
     "text": [
      "\u001B[1m3117/3117\u001B[0m \u001B[32m━━━━━━━━━━━━━━━━━━━━\u001B[0m\u001B[37m\u001B[0m \u001B[1m112s\u001B[0m 36ms/step\n"
     ]
    },
    {
     "name": "stderr",
     "output_type": "stream",
     "text": [
      "2024-12-05 10:26:57.027505: W tensorflow/core/framework/local_rendezvous.cc:404] Local rendezvous is aborting with status: OUT_OF_RANGE: End of sequence\n",
      "/Users/fauberma/mambaforge/envs/phenotyping/lib/python3.12/contextlib.py:155: UserWarning: Your input ran out of data; interrupting training. Make sure that your dataset or generator can generate at least `steps_per_epoch * epochs` batches. You may need to use the `.repeat()` function when building your dataset.\n",
      "  self.gen.throw(value)\n",
      "2024-12-05 10:26:58.185657: W tensorflow/core/framework/local_rendezvous.cc:404] Local rendezvous is aborting with status: OUT_OF_RANGE: End of sequence\n",
      "2024-12-05 10:26:58.283417: W tensorflow/core/framework/local_rendezvous.cc:404] Local rendezvous is aborting with status: OUT_OF_RANGE: End of sequence\n",
      "2024-12-05 10:26:58.384989: W tensorflow/core/framework/local_rendezvous.cc:404] Local rendezvous is aborting with status: OUT_OF_RANGE: End of sequence\n",
      "2024-12-05 10:26:58.495814: W tensorflow/core/framework/local_rendezvous.cc:404] Local rendezvous is aborting with status: OUT_OF_RANGE: End of sequence\n",
      "2024-12-05 10:26:58.599576: W tensorflow/core/framework/local_rendezvous.cc:404] Local rendezvous is aborting with status: OUT_OF_RANGE: End of sequence\n",
      "2024-12-05 10:26:58.701263: W tensorflow/core/framework/local_rendezvous.cc:404] Local rendezvous is aborting with status: OUT_OF_RANGE: End of sequence\n",
      "2024-12-05 10:26:58.821289: W tensorflow/core/framework/local_rendezvous.cc:404] Local rendezvous is aborting with status: OUT_OF_RANGE: End of sequence\n",
      "2024-12-05 10:26:58.949945: W tensorflow/core/framework/local_rendezvous.cc:404] Local rendezvous is aborting with status: OUT_OF_RANGE: End of sequence\n",
      "2024-12-05 10:26:59.074454: W tensorflow/core/framework/local_rendezvous.cc:404] Local rendezvous is aborting with status: OUT_OF_RANGE: End of sequence\n",
      "2024-12-05 10:26:59.202467: W tensorflow/core/framework/local_rendezvous.cc:404] Local rendezvous is aborting with status: OUT_OF_RANGE: End of sequence\n",
      "2024-12-05 10:26:59.316533: W tensorflow/core/framework/local_rendezvous.cc:404] Local rendezvous is aborting with status: OUT_OF_RANGE: End of sequence\n",
      "2024-12-05 10:26:59.427873: W tensorflow/core/framework/local_rendezvous.cc:404] Local rendezvous is aborting with status: OUT_OF_RANGE: End of sequence\n",
      "2024-12-05 10:26:59.537526: W tensorflow/core/framework/local_rendezvous.cc:404] Local rendezvous is aborting with status: OUT_OF_RANGE: End of sequence\n",
      "2024-12-05 10:26:59.661073: W tensorflow/core/framework/local_rendezvous.cc:404] Local rendezvous is aborting with status: OUT_OF_RANGE: End of sequence\n",
      "2024-12-05 10:26:59.780465: W tensorflow/core/framework/local_rendezvous.cc:404] Local rendezvous is aborting with status: OUT_OF_RANGE: End of sequence\n",
      "2024-12-05 10:26:59.910172: W tensorflow/core/framework/local_rendezvous.cc:404] Local rendezvous is aborting with status: OUT_OF_RANGE: End of sequence\n",
      "2024-12-05 10:27:00.028511: W tensorflow/core/framework/local_rendezvous.cc:404] Local rendezvous is aborting with status: OUT_OF_RANGE: End of sequence\n",
      "2024-12-05 10:27:00.142777: W tensorflow/core/framework/local_rendezvous.cc:404] Local rendezvous is aborting with status: OUT_OF_RANGE: End of sequence\n",
      "2024-12-05 10:27:00.277422: W tensorflow/core/framework/local_rendezvous.cc:404] Local rendezvous is aborting with status: OUT_OF_RANGE: End of sequence\n",
      "2024-12-05 10:27:00.396292: W tensorflow/core/framework/local_rendezvous.cc:404] Local rendezvous is aborting with status: OUT_OF_RANGE: End of sequence\n",
      "2024-12-05 10:27:00.504606: W tensorflow/core/framework/local_rendezvous.cc:404] Local rendezvous is aborting with status: OUT_OF_RANGE: End of sequence\n",
      "2024-12-05 10:27:00.608416: W tensorflow/core/framework/local_rendezvous.cc:404] Local rendezvous is aborting with status: OUT_OF_RANGE: End of sequence\n",
      "2024-12-05 10:27:00.718777: W tensorflow/core/framework/local_rendezvous.cc:404] Local rendezvous is aborting with status: OUT_OF_RANGE: End of sequence\n",
      "2024-12-05 10:27:00.826106: W tensorflow/core/framework/local_rendezvous.cc:404] Local rendezvous is aborting with status: OUT_OF_RANGE: End of sequence\n",
      "2024-12-05 10:27:00.958485: W tensorflow/core/framework/local_rendezvous.cc:404] Local rendezvous is aborting with status: OUT_OF_RANGE: End of sequence\n",
      "2024-12-05 10:27:01.074488: W tensorflow/core/framework/local_rendezvous.cc:404] Local rendezvous is aborting with status: OUT_OF_RANGE: End of sequence\n",
      "2024-12-05 10:27:01.198966: W tensorflow/core/framework/local_rendezvous.cc:404] Local rendezvous is aborting with status: OUT_OF_RANGE: End of sequence\n",
      "2024-12-05 10:27:01.313915: W tensorflow/core/framework/local_rendezvous.cc:404] Local rendezvous is aborting with status: OUT_OF_RANGE: End of sequence\n",
      "2024-12-05 10:27:01.433012: W tensorflow/core/framework/local_rendezvous.cc:404] Local rendezvous is aborting with status: OUT_OF_RANGE: End of sequence\n",
      "2024-12-05 10:27:01.558702: W tensorflow/core/framework/local_rendezvous.cc:404] Local rendezvous is aborting with status: OUT_OF_RANGE: End of sequence\n",
      "2024-12-05 10:27:01.685158: W tensorflow/core/framework/local_rendezvous.cc:404] Local rendezvous is aborting with status: OUT_OF_RANGE: End of sequence\n",
      "2024-12-05 10:27:01.987350: W tensorflow/core/framework/local_rendezvous.cc:404] Local rendezvous is aborting with status: OUT_OF_RANGE: End of sequence\n",
      "2024-12-05 10:27:02.153077: W tensorflow/core/framework/local_rendezvous.cc:404] Local rendezvous is aborting with status: OUT_OF_RANGE: End of sequence\n",
      "2024-12-05 10:27:02.699276: W tensorflow/core/framework/local_rendezvous.cc:404] Local rendezvous is aborting with status: OUT_OF_RANGE: End of sequence\n",
      "2024-12-05 10:27:02.804289: W tensorflow/core/framework/local_rendezvous.cc:404] Local rendezvous is aborting with status: OUT_OF_RANGE: End of sequence\n",
      "2024-12-05 10:27:02.907940: W tensorflow/core/framework/local_rendezvous.cc:404] Local rendezvous is aborting with status: OUT_OF_RANGE: End of sequence\n",
      "2024-12-05 10:27:03.022358: W tensorflow/core/framework/local_rendezvous.cc:404] Local rendezvous is aborting with status: OUT_OF_RANGE: End of sequence\n",
      "2024-12-05 10:27:03.120219: W tensorflow/core/framework/local_rendezvous.cc:404] Local rendezvous is aborting with status: OUT_OF_RANGE: End of sequence\n",
      "2024-12-05 10:27:03.228858: W tensorflow/core/framework/local_rendezvous.cc:404] Local rendezvous is aborting with status: OUT_OF_RANGE: End of sequence\n",
      "2024-12-05 10:27:03.329503: W tensorflow/core/framework/local_rendezvous.cc:404] Local rendezvous is aborting with status: OUT_OF_RANGE: End of sequence\n",
      "2024-12-05 10:27:03.443747: W tensorflow/core/framework/local_rendezvous.cc:404] Local rendezvous is aborting with status: OUT_OF_RANGE: End of sequence\n",
      "2024-12-05 10:27:03.579246: W tensorflow/core/framework/local_rendezvous.cc:404] Local rendezvous is aborting with status: OUT_OF_RANGE: End of sequence\n",
      "2024-12-05 10:27:03.700800: W tensorflow/core/framework/local_rendezvous.cc:404] Local rendezvous is aborting with status: OUT_OF_RANGE: End of sequence\n",
      "2024-12-05 10:27:03.810733: W tensorflow/core/framework/local_rendezvous.cc:404] Local rendezvous is aborting with status: OUT_OF_RANGE: End of sequence\n",
      "2024-12-05 10:27:03.916984: W tensorflow/core/framework/local_rendezvous.cc:404] Local rendezvous is aborting with status: OUT_OF_RANGE: End of sequence\n",
      "2024-12-05 10:27:04.028467: W tensorflow/core/framework/local_rendezvous.cc:404] Local rendezvous is aborting with status: OUT_OF_RANGE: End of sequence\n",
      "2024-12-05 10:27:04.156580: W tensorflow/core/framework/local_rendezvous.cc:404] Local rendezvous is aborting with status: OUT_OF_RANGE: End of sequence\n",
      "2024-12-05 10:27:04.271654: W tensorflow/core/framework/local_rendezvous.cc:404] Local rendezvous is aborting with status: OUT_OF_RANGE: End of sequence\n",
      "2024-12-05 10:27:04.378557: W tensorflow/core/framework/local_rendezvous.cc:404] Local rendezvous is aborting with status: OUT_OF_RANGE: End of sequence\n",
      "2024-12-05 10:27:04.483565: W tensorflow/core/framework/local_rendezvous.cc:404] Local rendezvous is aborting with status: OUT_OF_RANGE: End of sequence\n",
      "2024-12-05 10:27:04.602304: W tensorflow/core/framework/local_rendezvous.cc:404] Local rendezvous is aborting with status: OUT_OF_RANGE: End of sequence\n",
      "2024-12-05 10:27:04.708960: W tensorflow/core/framework/local_rendezvous.cc:404] Local rendezvous is aborting with status: OUT_OF_RANGE: End of sequence\n",
      "2024-12-05 10:27:04.832760: W tensorflow/core/framework/local_rendezvous.cc:404] Local rendezvous is aborting with status: OUT_OF_RANGE: End of sequence\n",
      "2024-12-05 10:27:04.952130: W tensorflow/core/framework/local_rendezvous.cc:404] Local rendezvous is aborting with status: OUT_OF_RANGE: End of sequence\n",
      "2024-12-05 10:27:05.088698: W tensorflow/core/framework/local_rendezvous.cc:404] Local rendezvous is aborting with status: OUT_OF_RANGE: End of sequence\n",
      "2024-12-05 10:27:05.394691: W tensorflow/core/framework/local_rendezvous.cc:404] Local rendezvous is aborting with status: OUT_OF_RANGE: End of sequence\n",
      "2024-12-05 10:27:05.621891: W tensorflow/core/framework/local_rendezvous.cc:404] Local rendezvous is aborting with status: OUT_OF_RANGE: End of sequence\n",
      "2024-12-05 10:27:06.198798: W tensorflow/core/framework/local_rendezvous.cc:404] Local rendezvous is aborting with status: OUT_OF_RANGE: End of sequence\n",
      "2024-12-05 10:27:06.559468: W tensorflow/core/framework/local_rendezvous.cc:404] Local rendezvous is aborting with status: OUT_OF_RANGE: End of sequence\n",
      "2024-12-05 10:27:06.824621: W tensorflow/core/framework/local_rendezvous.cc:404] Local rendezvous is aborting with status: OUT_OF_RANGE: End of sequence\n",
      "2024-12-05 10:27:07.060727: W tensorflow/core/framework/local_rendezvous.cc:404] Local rendezvous is aborting with status: OUT_OF_RANGE: End of sequence\n",
      "2024-12-05 10:27:07.183229: W tensorflow/core/framework/local_rendezvous.cc:404] Local rendezvous is aborting with status: OUT_OF_RANGE: End of sequence\n",
      "2024-12-05 10:27:07.296162: W tensorflow/core/framework/local_rendezvous.cc:404] Local rendezvous is aborting with status: OUT_OF_RANGE: End of sequence\n",
      "2024-12-05 10:27:07.414366: W tensorflow/core/framework/local_rendezvous.cc:404] Local rendezvous is aborting with status: OUT_OF_RANGE: End of sequence\n",
      "2024-12-05 10:27:07.531757: W tensorflow/core/framework/local_rendezvous.cc:404] Local rendezvous is aborting with status: OUT_OF_RANGE: End of sequence\n",
      "2024-12-05 10:27:07.641930: W tensorflow/core/framework/local_rendezvous.cc:404] Local rendezvous is aborting with status: OUT_OF_RANGE: End of sequence\n",
      "2024-12-05 10:27:07.760310: W tensorflow/core/framework/local_rendezvous.cc:404] Local rendezvous is aborting with status: OUT_OF_RANGE: End of sequence\n",
      "2024-12-05 10:27:07.893682: W tensorflow/core/framework/local_rendezvous.cc:404] Local rendezvous is aborting with status: OUT_OF_RANGE: End of sequence\n",
      "2024-12-05 10:27:08.013477: W tensorflow/core/framework/local_rendezvous.cc:404] Local rendezvous is aborting with status: OUT_OF_RANGE: End of sequence\n",
      "2024-12-05 10:27:08.130107: W tensorflow/core/framework/local_rendezvous.cc:404] Local rendezvous is aborting with status: OUT_OF_RANGE: End of sequence\n",
      "2024-12-05 10:27:08.239853: W tensorflow/core/framework/local_rendezvous.cc:404] Local rendezvous is aborting with status: OUT_OF_RANGE: End of sequence\n",
      "2024-12-05 10:27:08.352329: W tensorflow/core/framework/local_rendezvous.cc:404] Local rendezvous is aborting with status: OUT_OF_RANGE: End of sequence\n",
      "2024-12-05 10:27:08.478152: W tensorflow/core/framework/local_rendezvous.cc:404] Local rendezvous is aborting with status: OUT_OF_RANGE: End of sequence\n",
      "2024-12-05 10:27:08.592757: W tensorflow/core/framework/local_rendezvous.cc:404] Local rendezvous is aborting with status: OUT_OF_RANGE: End of sequence\n",
      "2024-12-05 10:27:08.716555: W tensorflow/core/framework/local_rendezvous.cc:404] Local rendezvous is aborting with status: OUT_OF_RANGE: End of sequence\n",
      "2024-12-05 10:27:08.836132: W tensorflow/core/framework/local_rendezvous.cc:404] Local rendezvous is aborting with status: OUT_OF_RANGE: End of sequence\n",
      "2024-12-05 10:27:08.957080: W tensorflow/core/framework/local_rendezvous.cc:404] Local rendezvous is aborting with status: OUT_OF_RANGE: End of sequence\n",
      "2024-12-05 10:27:09.074680: W tensorflow/core/framework/local_rendezvous.cc:404] Local rendezvous is aborting with status: OUT_OF_RANGE: End of sequence\n",
      "2024-12-05 10:27:09.197760: W tensorflow/core/framework/local_rendezvous.cc:404] Local rendezvous is aborting with status: OUT_OF_RANGE: End of sequence\n",
      "2024-12-05 10:27:09.324809: W tensorflow/core/framework/local_rendezvous.cc:404] Local rendezvous is aborting with status: OUT_OF_RANGE: End of sequence\n",
      "2024-12-05 10:27:09.449201: W tensorflow/core/framework/local_rendezvous.cc:404] Local rendezvous is aborting with status: OUT_OF_RANGE: End of sequence\n",
      "2024-12-05 10:27:09.566324: W tensorflow/core/framework/local_rendezvous.cc:404] Local rendezvous is aborting with status: OUT_OF_RANGE: End of sequence\n",
      "2024-12-05 10:27:10,157 - WARNING - Compiled the loaded model, but the compiled metrics have yet to be built. `model.compile_metrics` will be empty until you train or evaluate the model.\n",
      "2024-12-05 10:27:17.947323: W tensorflow/core/framework/local_rendezvous.cc:404] Local rendezvous is aborting with status: OUT_OF_RANGE: End of sequence\n"
     ]
    },
    {
     "name": "stdout",
     "output_type": "stream",
     "text": [
      "\u001B[1m3117/3117\u001B[0m \u001B[32m━━━━━━━━━━━━━━━━━━━━\u001B[0m\u001B[37m\u001B[0m \u001B[1m345s\u001B[0m 111ms/step\n"
     ]
    },
    {
     "name": "stderr",
     "output_type": "stream",
     "text": [
      "2024-12-05 10:33:02.589053: W tensorflow/core/framework/local_rendezvous.cc:404] Local rendezvous is aborting with status: OUT_OF_RANGE: End of sequence\n",
      "/Users/fauberma/mambaforge/envs/phenotyping/lib/python3.12/contextlib.py:155: UserWarning: Your input ran out of data; interrupting training. Make sure that your dataset or generator can generate at least `steps_per_epoch * epochs` batches. You may need to use the `.repeat()` function when building your dataset.\n",
      "  self.gen.throw(value)\n"
     ]
    }
   ],
   "execution_count": 2
  },
  {
   "cell_type": "markdown",
   "id": "e8923b3feac3bdc",
   "metadata": {
    "collapsed": false
   },
   "source": [
    "# Data prep"
   ]
  },
  {
   "cell_type": "code",
   "source": [
    "expID = 'NKIP_FA_076'\n",
    "experiment = Experiment(expID)\n",
    "#experiment.frame_df\n"
   ],
   "metadata": {
    "collapsed": false,
    "ExecuteTime": {
     "end_time": "2024-12-03T12:47:02.287990Z",
     "start_time": "2024-12-03T12:47:02.196025Z"
    }
   },
   "id": "d61e66c03a40cff",
   "outputs": [],
   "execution_count": 3
  },
  {
   "cell_type": "markdown",
   "id": "4744df760efd485b",
   "metadata": {
    "collapsed": false
   },
   "source": [
    "# Droplet detection\n",
    "Execute a preview run of the droplet detection. An image will be saved to the exp folder in the analyses directory. \n",
    "If droplets are not well detected consider changing the droplet size estimate in setup.xlsx (re-run RawLoader API)."
   ]
  },
  {
   "metadata": {
    "ExecuteTime": {
     "end_time": "2024-12-03T12:49:14.464129Z",
     "start_time": "2024-12-03T12:47:03.087705Z"
    }
   },
   "cell_type": "code",
   "source": "experiment.preview_detect_droplets(frameID=0, mode='sweep')",
   "id": "fa9705f95a419f3",
   "outputs": [
    {
     "name": "stderr",
     "output_type": "stream",
     "text": [
      "2024-12-03 13:47:03,088 - INFO - Processing frame 0\n",
      "2024-12-03 13:48:37,548 - INFO - 6027 droplets in frame 0 detected\n"
     ]
    }
   ],
   "execution_count": 4
  },
  {
   "cell_type": "code",
   "source": "experiment.detect_droplets(mode='sweep')",
   "metadata": {
    "collapsed": false,
    "ExecuteTime": {
     "end_time": "2024-12-03T12:44:44.126617Z",
     "start_time": "2024-12-03T12:42:40.432997Z"
    }
   },
   "id": "964ef35e7516bf6a",
   "outputs": [
    {
     "name": "stderr",
     "output_type": "stream",
     "text": [
      "2024-12-03 13:42:44,193 - INFO - Processing frame 14\n",
      "2024-12-03 13:42:44,194 - INFO - Processing frame 9\n",
      "2024-12-03 13:42:44,194 - INFO - Processing frame 11\n",
      "2024-12-03 13:42:44,194 - INFO - Processing frame 10\n",
      "2024-12-03 13:43:52,928 - distributed.worker.memory - WARNING - Unmanaged memory use is high. This may indicate a memory leak or the memory may not be released to the OS; see https://distributed.dask.org/en/latest/worker-memory.html#memory-not-released-back-to-the-os for more information. -- Unmanaged memory: 6.52 GiB -- Worker memory limit: 9.31 GiB\n",
      "2024-12-03 13:43:54,029 - distributed.worker.memory - WARNING - Unmanaged memory use is high. This may indicate a memory leak or the memory may not be released to the OS; see https://distributed.dask.org/en/latest/worker-memory.html#memory-not-released-back-to-the-os for more information. -- Unmanaged memory: 6.52 GiB -- Worker memory limit: 9.31 GiB\n",
      "2024-12-03 13:44:04,627 - distributed.worker.memory - WARNING - Unmanaged memory use is high. This may indicate a memory leak or the memory may not be released to the OS; see https://distributed.dask.org/en/latest/worker-memory.html#memory-not-released-back-to-the-os for more information. -- Unmanaged memory: 6.52 GiB -- Worker memory limit: 9.31 GiB\n",
      "2024-12-03 13:44:06,205 - distributed.worker.memory - WARNING - Worker is at 87% memory usage. Pausing worker.  Process memory: 8.15 GiB -- Worker memory limit: 9.31 GiB\n",
      "2024-12-03 13:44:06,206 - distributed.worker.memory - WARNING - Worker is at 80% memory usage. Pausing worker.  Process memory: 7.49 GiB -- Worker memory limit: 9.31 GiB\n",
      "2024-12-03 13:44:07,933 - distributed.nanny.memory - WARNING - Worker tcp://127.0.0.1:50509 (pid=15246) exceeded 95% memory budget. Restarting...\n",
      "2024-12-03 13:44:08,083 - distributed.nanny - WARNING - Restarting worker\n",
      "2024-12-03 13:44:08,534 - distributed.nanny.memory - WARNING - Worker tcp://127.0.0.1:50510 (pid=15247) exceeded 95% memory budget. Restarting...\n",
      "2024-12-03 13:44:08,667 - distributed.nanny - WARNING - Restarting worker\n",
      "2024-12-03 13:44:09,327 - distributed.worker.memory - WARNING - Unmanaged memory use is high. This may indicate a memory leak or the memory may not be released to the OS; see https://distributed.dask.org/en/latest/worker-memory.html#memory-not-released-back-to-the-os for more information. -- Unmanaged memory: 6.52 GiB -- Worker memory limit: 9.31 GiB\n",
      "2024-12-03 13:44:11,740 - INFO - Processing frame 10\n",
      "2024-12-03 13:44:12,195 - INFO - Processing frame 12\n",
      "2024-12-03 13:44:22,896 - distributed.worker.memory - WARNING - Worker is at 86% memory usage. Pausing worker.  Process memory: 8.01 GiB -- Worker memory limit: 9.31 GiB\n",
      "2024-12-03 13:44:22,898 - distributed.worker.memory - WARNING - Worker is at 85% memory usage. Pausing worker.  Process memory: 7.98 GiB -- Worker memory limit: 9.31 GiB\n",
      "2024-12-03 13:44:24,134 - distributed.nanny.memory - WARNING - Worker tcp://127.0.0.1:50512 (pid=15248) exceeded 95% memory budget. Restarting...\n",
      "2024-12-03 13:44:24,283 - distributed.nanny - WARNING - Restarting worker\n",
      "2024-12-03 13:44:24,836 - distributed.nanny.memory - WARNING - Worker tcp://127.0.0.1:50511 (pid=15249) exceeded 95% memory budget. Restarting...\n",
      "2024-12-03 13:44:24,971 - distributed.nanny - WARNING - Restarting worker\n",
      "2024-12-03 13:44:27,860 - INFO - Processing frame 11\n",
      "2024-12-03 13:44:28,457 - INFO - Processing frame 2\n",
      "2024-12-03 13:44:43,775 - ERROR - Task exception was never retrieved\n",
      "future: <Task finished name='Task-102' coro=<Client._gather.<locals>.wait() done, defined at /Users/fauberma/mambaforge/envs/phenotyping/lib/python3.12/site-packages/distributed/client.py:2395> exception=AllExit()>\n",
      "Traceback (most recent call last):\n",
      "  File \"/Users/fauberma/mambaforge/envs/phenotyping/lib/python3.12/site-packages/distributed/client.py\", line 2404, in wait\n",
      "    raise AllExit()\n",
      "distributed.client.AllExit\n",
      "2024-12-03 13:44:43,783 - ERROR - Task exception was never retrieved\n",
      "future: <Task finished name='Task-98' coro=<Client._gather.<locals>.wait() done, defined at /Users/fauberma/mambaforge/envs/phenotyping/lib/python3.12/site-packages/distributed/client.py:2395> exception=AllExit()>\n",
      "Traceback (most recent call last):\n",
      "  File \"/Users/fauberma/mambaforge/envs/phenotyping/lib/python3.12/site-packages/distributed/client.py\", line 2404, in wait\n",
      "    raise AllExit()\n",
      "distributed.client.AllExit\n",
      "2024-12-03 13:44:43,784 - ERROR - Task exception was never retrieved\n",
      "future: <Task finished name='Task-110' coro=<Client._gather.<locals>.wait() done, defined at /Users/fauberma/mambaforge/envs/phenotyping/lib/python3.12/site-packages/distributed/client.py:2395> exception=AllExit()>\n",
      "Traceback (most recent call last):\n",
      "  File \"/Users/fauberma/mambaforge/envs/phenotyping/lib/python3.12/site-packages/distributed/client.py\", line 2404, in wait\n",
      "    raise AllExit()\n",
      "distributed.client.AllExit\n",
      "2024-12-03 13:44:43,784 - ERROR - Task exception was never retrieved\n",
      "future: <Task finished name='Task-104' coro=<Client._gather.<locals>.wait() done, defined at /Users/fauberma/mambaforge/envs/phenotyping/lib/python3.12/site-packages/distributed/client.py:2395> exception=AllExit()>\n",
      "Traceback (most recent call last):\n",
      "  File \"/Users/fauberma/mambaforge/envs/phenotyping/lib/python3.12/site-packages/distributed/client.py\", line 2404, in wait\n",
      "    raise AllExit()\n",
      "distributed.client.AllExit\n",
      "2024-12-03 13:44:43,785 - ERROR - Task exception was never retrieved\n",
      "future: <Task finished name='Task-100' coro=<Client._gather.<locals>.wait() done, defined at /Users/fauberma/mambaforge/envs/phenotyping/lib/python3.12/site-packages/distributed/client.py:2395> exception=AllExit()>\n",
      "Traceback (most recent call last):\n",
      "  File \"/Users/fauberma/mambaforge/envs/phenotyping/lib/python3.12/site-packages/distributed/client.py\", line 2404, in wait\n",
      "    raise AllExit()\n",
      "distributed.client.AllExit\n",
      "2024-12-03 13:44:43,786 - ERROR - Task exception was never retrieved\n",
      "future: <Task finished name='Task-109' coro=<Client._gather.<locals>.wait() done, defined at /Users/fauberma/mambaforge/envs/phenotyping/lib/python3.12/site-packages/distributed/client.py:2395> exception=AllExit()>\n",
      "Traceback (most recent call last):\n",
      "  File \"/Users/fauberma/mambaforge/envs/phenotyping/lib/python3.12/site-packages/distributed/client.py\", line 2404, in wait\n",
      "    raise AllExit()\n",
      "distributed.client.AllExit\n",
      "2024-12-03 13:44:43,786 - ERROR - Task exception was never retrieved\n",
      "future: <Task finished name='Task-105' coro=<Client._gather.<locals>.wait() done, defined at /Users/fauberma/mambaforge/envs/phenotyping/lib/python3.12/site-packages/distributed/client.py:2395> exception=AllExit()>\n",
      "Traceback (most recent call last):\n",
      "  File \"/Users/fauberma/mambaforge/envs/phenotyping/lib/python3.12/site-packages/distributed/client.py\", line 2404, in wait\n",
      "    raise AllExit()\n",
      "distributed.client.AllExit\n",
      "2024-12-03 13:44:43,787 - ERROR - Task exception was never retrieved\n",
      "future: <Task finished name='Task-99' coro=<Client._gather.<locals>.wait() done, defined at /Users/fauberma/mambaforge/envs/phenotyping/lib/python3.12/site-packages/distributed/client.py:2395> exception=AllExit()>\n",
      "Traceback (most recent call last):\n",
      "  File \"/Users/fauberma/mambaforge/envs/phenotyping/lib/python3.12/site-packages/distributed/client.py\", line 2404, in wait\n",
      "    raise AllExit()\n",
      "distributed.client.AllExit\n",
      "2024-12-03 13:44:43,788 - ERROR - Task exception was never retrieved\n",
      "future: <Task finished name='Task-111' coro=<Client._gather.<locals>.wait() done, defined at /Users/fauberma/mambaforge/envs/phenotyping/lib/python3.12/site-packages/distributed/client.py:2395> exception=AllExit()>\n",
      "Traceback (most recent call last):\n",
      "  File \"/Users/fauberma/mambaforge/envs/phenotyping/lib/python3.12/site-packages/distributed/client.py\", line 2404, in wait\n",
      "    raise AllExit()\n",
      "distributed.client.AllExit\n",
      "2024-12-03 13:44:43,788 - ERROR - Task exception was never retrieved\n",
      "future: <Task finished name='Task-107' coro=<Client._gather.<locals>.wait() done, defined at /Users/fauberma/mambaforge/envs/phenotyping/lib/python3.12/site-packages/distributed/client.py:2395> exception=AllExit()>\n",
      "Traceback (most recent call last):\n",
      "  File \"/Users/fauberma/mambaforge/envs/phenotyping/lib/python3.12/site-packages/distributed/client.py\", line 2404, in wait\n",
      "    raise AllExit()\n",
      "distributed.client.AllExit\n",
      "2024-12-03 13:44:43,789 - ERROR - Task exception was never retrieved\n",
      "future: <Task finished name='Task-101' coro=<Client._gather.<locals>.wait() done, defined at /Users/fauberma/mambaforge/envs/phenotyping/lib/python3.12/site-packages/distributed/client.py:2395> exception=AllExit()>\n",
      "Traceback (most recent call last):\n",
      "  File \"/Users/fauberma/mambaforge/envs/phenotyping/lib/python3.12/site-packages/distributed/client.py\", line 2404, in wait\n",
      "    raise AllExit()\n",
      "distributed.client.AllExit\n",
      "2024-12-03 13:44:43,789 - ERROR - Task exception was never retrieved\n",
      "future: <Task finished name='Task-113' coro=<Client._gather.<locals>.wait() done, defined at /Users/fauberma/mambaforge/envs/phenotyping/lib/python3.12/site-packages/distributed/client.py:2395> exception=AllExit()>\n",
      "Traceback (most recent call last):\n",
      "  File \"/Users/fauberma/mambaforge/envs/phenotyping/lib/python3.12/site-packages/distributed/client.py\", line 2404, in wait\n",
      "    raise AllExit()\n",
      "distributed.client.AllExit\n",
      "2024-12-03 13:44:43,790 - ERROR - Task exception was never retrieved\n",
      "future: <Task finished name='Task-106' coro=<Client._gather.<locals>.wait() done, defined at /Users/fauberma/mambaforge/envs/phenotyping/lib/python3.12/site-packages/distributed/client.py:2395> exception=AllExit()>\n",
      "Traceback (most recent call last):\n",
      "  File \"/Users/fauberma/mambaforge/envs/phenotyping/lib/python3.12/site-packages/distributed/client.py\", line 2404, in wait\n",
      "    raise AllExit()\n",
      "distributed.client.AllExit\n",
      "2024-12-03 13:44:43,791 - ERROR - Task exception was never retrieved\n",
      "future: <Task finished name='Task-103' coro=<Client._gather.<locals>.wait() done, defined at /Users/fauberma/mambaforge/envs/phenotyping/lib/python3.12/site-packages/distributed/client.py:2395> exception=AllExit()>\n",
      "Traceback (most recent call last):\n",
      "  File \"/Users/fauberma/mambaforge/envs/phenotyping/lib/python3.12/site-packages/distributed/client.py\", line 2404, in wait\n",
      "    raise AllExit()\n",
      "distributed.client.AllExit\n",
      "2024-12-03 13:44:43,791 - ERROR - Task exception was never retrieved\n",
      "future: <Task finished name='Task-112' coro=<Client._gather.<locals>.wait() done, defined at /Users/fauberma/mambaforge/envs/phenotyping/lib/python3.12/site-packages/distributed/client.py:2395> exception=AllExit()>\n",
      "Traceback (most recent call last):\n",
      "  File \"/Users/fauberma/mambaforge/envs/phenotyping/lib/python3.12/site-packages/distributed/client.py\", line 2404, in wait\n",
      "    raise AllExit()\n",
      "distributed.client.AllExit\n",
      "2024-12-03 13:44:43,792 - ERROR - Task exception was never retrieved\n",
      "future: <Task finished name='Task-108' coro=<Client._gather.<locals>.wait() done, defined at /Users/fauberma/mambaforge/envs/phenotyping/lib/python3.12/site-packages/distributed/client.py:2395> exception=AllExit()>\n",
      "Traceback (most recent call last):\n",
      "  File \"/Users/fauberma/mambaforge/envs/phenotyping/lib/python3.12/site-packages/distributed/client.py\", line 2404, in wait\n",
      "    raise AllExit()\n",
      "distributed.client.AllExit\n",
      "2024-12-03 13:44:43,797 - distributed.worker.state_machine - WARNING - Async instruction for <Task cancelled name=\"execute('_process_frame-8a87a4a6-3414-4a68-9555-0ff0b514b26a')\" coro=<Worker.execute() done, defined at /Users/fauberma/mambaforge/envs/phenotyping/lib/python3.12/site-packages/distributed/worker_state_machine.py:3606>> ended with CancelledError\n",
      "2024-12-03 13:44:43,797 - distributed.worker.state_machine - WARNING - Async instruction for <Task cancelled name=\"execute('_process_frame-7485ae3a-de68-49a3-9d51-54144e378170')\" coro=<Worker.execute() done, defined at /Users/fauberma/mambaforge/envs/phenotyping/lib/python3.12/site-packages/distributed/worker_state_machine.py:3606>> ended with CancelledError\n",
      "2024-12-03 13:44:43,798 - distributed.worker.state_machine - WARNING - Async instruction for <Task cancelled name=\"execute('_process_frame-b2db2e92-6fa8-40ee-8a83-d08bd55b5764')\" coro=<Worker.execute() done, defined at /Users/fauberma/mambaforge/envs/phenotyping/lib/python3.12/site-packages/distributed/worker_state_machine.py:3606>> ended with CancelledError\n",
      "2024-12-03 13:44:43,802 - distributed.worker.state_machine - WARNING - Async instruction for <Task cancelled name=\"execute('_process_frame-f0eef9c8-7c87-4bc2-a94d-0e449b9c507b')\" coro=<Worker.execute() done, defined at /Users/fauberma/mambaforge/envs/phenotyping/lib/python3.12/site-packages/distributed/worker_state_machine.py:3606>> ended with CancelledError\n"
     ]
    },
    {
     "ename": "KeyboardInterrupt",
     "evalue": "",
     "output_type": "error",
     "traceback": [
      "\u001B[0;31m---------------------------------------------------------------------------\u001B[0m",
      "\u001B[0;31mKeyboardInterrupt\u001B[0m                         Traceback (most recent call last)",
      "Cell \u001B[0;32mIn[3], line 1\u001B[0m\n\u001B[0;32m----> 1\u001B[0m \u001B[43mexperiment\u001B[49m\u001B[38;5;241;43m.\u001B[39;49m\u001B[43mdetect_droplets\u001B[49m\u001B[43m(\u001B[49m\u001B[43mmode\u001B[49m\u001B[38;5;241;43m=\u001B[39;49m\u001B[38;5;124;43m'\u001B[39;49m\u001B[38;5;124;43msweep\u001B[39;49m\u001B[38;5;124;43m'\u001B[39;49m\u001B[43m,\u001B[49m\u001B[43m \u001B[49m\u001B[43mcompute_parallel\u001B[49m\u001B[38;5;241;43m=\u001B[39;49m\u001B[38;5;28;43;01mTrue\u001B[39;49;00m\u001B[43m)\u001B[49m\n",
      "File \u001B[0;32m~/MPG/Scripts/droplet-phenotyping/Tools/exp_tools.py:104\u001B[0m, in \u001B[0;36mExperiment.detect_droplets\u001B[0;34m(self, mode, compute_parallel)\u001B[0m\n\u001B[1;32m    102\u001B[0m     client \u001B[38;5;241m=\u001B[39m Client(threads_per_worker\u001B[38;5;241m=\u001B[39m\u001B[38;5;241m1\u001B[39m, n_workers\u001B[38;5;241m=\u001B[39m\u001B[38;5;241m4\u001B[39m,memory_limit\u001B[38;5;241m=\u001B[39m\u001B[38;5;124m'\u001B[39m\u001B[38;5;124m10GB\u001B[39m\u001B[38;5;124m'\u001B[39m, processes\u001B[38;5;241m=\u001B[39m\u001B[38;5;28;01mTrue\u001B[39;00m)\n\u001B[1;32m    103\u001B[0m     delayed_tasks \u001B[38;5;241m=\u001B[39m [delayed(\u001B[38;5;28mself\u001B[39m\u001B[38;5;241m.\u001B[39m_process_frame)(frameID, mode) \u001B[38;5;28;01mfor\u001B[39;00m frameID \u001B[38;5;129;01min\u001B[39;00m \u001B[38;5;28mself\u001B[39m\u001B[38;5;241m.\u001B[39mframe_df\u001B[38;5;241m.\u001B[39mindex]\n\u001B[0;32m--> 104\u001B[0m     df_list \u001B[38;5;241m=\u001B[39m \u001B[43mcompute\u001B[49m\u001B[43m(\u001B[49m\u001B[38;5;241;43m*\u001B[39;49m\u001B[43mdelayed_tasks\u001B[49m\u001B[43m)\u001B[49m\n\u001B[1;32m    105\u001B[0m     client\u001B[38;5;241m.\u001B[39mclose()\n\u001B[1;32m    106\u001B[0m \u001B[38;5;28;01melse\u001B[39;00m:\n",
      "File \u001B[0;32m~/mambaforge/envs/phenotyping/lib/python3.12/site-packages/dask/base.py:660\u001B[0m, in \u001B[0;36mcompute\u001B[0;34m(traverse, optimize_graph, scheduler, get, *args, **kwargs)\u001B[0m\n\u001B[1;32m    657\u001B[0m     postcomputes\u001B[38;5;241m.\u001B[39mappend(x\u001B[38;5;241m.\u001B[39m__dask_postcompute__())\n\u001B[1;32m    659\u001B[0m \u001B[38;5;28;01mwith\u001B[39;00m shorten_traceback():\n\u001B[0;32m--> 660\u001B[0m     results \u001B[38;5;241m=\u001B[39m \u001B[43mschedule\u001B[49m\u001B[43m(\u001B[49m\u001B[43mdsk\u001B[49m\u001B[43m,\u001B[49m\u001B[43m \u001B[49m\u001B[43mkeys\u001B[49m\u001B[43m,\u001B[49m\u001B[43m \u001B[49m\u001B[38;5;241;43m*\u001B[39;49m\u001B[38;5;241;43m*\u001B[39;49m\u001B[43mkwargs\u001B[49m\u001B[43m)\u001B[49m\n\u001B[1;32m    662\u001B[0m \u001B[38;5;28;01mreturn\u001B[39;00m repack([f(r, \u001B[38;5;241m*\u001B[39ma) \u001B[38;5;28;01mfor\u001B[39;00m r, (f, a) \u001B[38;5;129;01min\u001B[39;00m \u001B[38;5;28mzip\u001B[39m(results, postcomputes)])\n",
      "File \u001B[0;32m~/mambaforge/envs/phenotyping/lib/python3.12/threading.py:634\u001B[0m, in \u001B[0;36mEvent.wait\u001B[0;34m(self, timeout)\u001B[0m\n\u001B[1;32m    632\u001B[0m signaled \u001B[38;5;241m=\u001B[39m \u001B[38;5;28mself\u001B[39m\u001B[38;5;241m.\u001B[39m_flag\n\u001B[1;32m    633\u001B[0m \u001B[38;5;28;01mif\u001B[39;00m \u001B[38;5;129;01mnot\u001B[39;00m signaled:\n\u001B[0;32m--> 634\u001B[0m     signaled \u001B[38;5;241m=\u001B[39m \u001B[38;5;28;43mself\u001B[39;49m\u001B[38;5;241;43m.\u001B[39;49m\u001B[43m_cond\u001B[49m\u001B[38;5;241;43m.\u001B[39;49m\u001B[43mwait\u001B[49m\u001B[43m(\u001B[49m\u001B[43mtimeout\u001B[49m\u001B[43m)\u001B[49m\n\u001B[1;32m    635\u001B[0m \u001B[38;5;28;01mreturn\u001B[39;00m signaled\n",
      "File \u001B[0;32m~/mambaforge/envs/phenotyping/lib/python3.12/threading.py:338\u001B[0m, in \u001B[0;36mCondition.wait\u001B[0;34m(self, timeout)\u001B[0m\n\u001B[1;32m    336\u001B[0m \u001B[38;5;28;01melse\u001B[39;00m:\n\u001B[1;32m    337\u001B[0m     \u001B[38;5;28;01mif\u001B[39;00m timeout \u001B[38;5;241m>\u001B[39m \u001B[38;5;241m0\u001B[39m:\n\u001B[0;32m--> 338\u001B[0m         gotit \u001B[38;5;241m=\u001B[39m \u001B[43mwaiter\u001B[49m\u001B[38;5;241;43m.\u001B[39;49m\u001B[43macquire\u001B[49m\u001B[43m(\u001B[49m\u001B[38;5;28;43;01mTrue\u001B[39;49;00m\u001B[43m,\u001B[49m\u001B[43m \u001B[49m\u001B[43mtimeout\u001B[49m\u001B[43m)\u001B[49m\n\u001B[1;32m    339\u001B[0m     \u001B[38;5;28;01melse\u001B[39;00m:\n\u001B[1;32m    340\u001B[0m         gotit \u001B[38;5;241m=\u001B[39m waiter\u001B[38;5;241m.\u001B[39macquire(\u001B[38;5;28;01mFalse\u001B[39;00m)\n",
      "\u001B[0;31mKeyboardInterrupt\u001B[0m: "
     ]
    }
   ],
   "execution_count": 3
  },
  {
   "cell_type": "markdown",
   "id": "2ae15e52af46d8c",
   "metadata": {
    "collapsed": false
   },
   "source": [
    "# Outlier detection"
   ]
  },
  {
   "cell_type": "code",
   "execution_count": 11,
   "id": "9c4d3be52455c8a9",
   "metadata": {
    "collapsed": false,
    "ExecuteTime": {
     "end_time": "2024-10-30T14:45:55.281695Z",
     "start_time": "2024-10-30T14:37:15.194017Z"
    }
   },
   "outputs": [
    {
     "name": "stderr",
     "output_type": "stream",
     "text": [
      "WARNING:absl:Compiled the loaded model, but the compiled metrics have yet to be built. `model.compile_metrics` will be empty until you train or evaluate the model.\n"
     ]
    },
    {
     "name": "stdout",
     "output_type": "stream",
     "text": [
      "\u001B[1m13036/13036\u001B[0m \u001B[32m━━━━━━━━━━━━━━━━━━━━\u001B[0m\u001B[37m\u001B[0m \u001B[1m482s\u001B[0m 37ms/step\n"
     ]
    },
    {
     "name": "stderr",
     "output_type": "stream",
     "text": [
      "2024-10-30 15:45:17.516218: W tensorflow/core/framework/local_rendezvous.cc:404] Local rendezvous is aborting with status: OUT_OF_RANGE: End of sequence\n",
      "/Users/fauberma/mambaforge/envs/phenotyping/lib/python3.12/contextlib.py:155: UserWarning: Your input ran out of data; interrupting training. Make sure that your dataset or generator can generate at least `steps_per_epoch * epochs` batches. You may need to use the `.repeat()` function when building your dataset.\n",
      "  self.gen.throw(value)\n",
      "2024-10-30 15:45:52.285355: W tensorflow/core/framework/local_rendezvous.cc:404] Local rendezvous is aborting with status: OUT_OF_RANGE: End of sequence\n"
     ]
    },
    {
     "ename": "KeyError",
     "evalue": "'GHOST_NU_001'",
     "output_type": "error",
     "traceback": [
      "\u001B[0;31m---------------------------------------------------------------------------\u001B[0m",
      "\u001B[0;31mKeyError\u001B[0m                                  Traceback (most recent call last)",
      "File \u001B[0;32m~/mambaforge/envs/phenotyping/lib/python3.12/site-packages/pandas/core/indexes/base.py:3805\u001B[0m, in \u001B[0;36mIndex.get_loc\u001B[0;34m(self, key)\u001B[0m\n\u001B[1;32m   3804\u001B[0m \u001B[38;5;28;01mtry\u001B[39;00m:\n\u001B[0;32m-> 3805\u001B[0m     \u001B[38;5;28;01mreturn\u001B[39;00m \u001B[38;5;28;43mself\u001B[39;49m\u001B[38;5;241;43m.\u001B[39;49m\u001B[43m_engine\u001B[49m\u001B[38;5;241;43m.\u001B[39;49m\u001B[43mget_loc\u001B[49m\u001B[43m(\u001B[49m\u001B[43mcasted_key\u001B[49m\u001B[43m)\u001B[49m\n\u001B[1;32m   3806\u001B[0m \u001B[38;5;28;01mexcept\u001B[39;00m \u001B[38;5;167;01mKeyError\u001B[39;00m \u001B[38;5;28;01mas\u001B[39;00m err:\n",
      "File \u001B[0;32mindex.pyx:167\u001B[0m, in \u001B[0;36mpandas._libs.index.IndexEngine.get_loc\u001B[0;34m()\u001B[0m\n",
      "File \u001B[0;32mindex.pyx:196\u001B[0m, in \u001B[0;36mpandas._libs.index.IndexEngine.get_loc\u001B[0;34m()\u001B[0m\n",
      "File \u001B[0;32mpandas/_libs/hashtable_class_helper.pxi:7081\u001B[0m, in \u001B[0;36mpandas._libs.hashtable.PyObjectHashTable.get_item\u001B[0;34m()\u001B[0m\n",
      "File \u001B[0;32mpandas/_libs/hashtable_class_helper.pxi:7089\u001B[0m, in \u001B[0;36mpandas._libs.hashtable.PyObjectHashTable.get_item\u001B[0;34m()\u001B[0m\n",
      "\u001B[0;31mKeyError\u001B[0m: 'GHOST_NU_001'",
      "\nThe above exception was the direct cause of the following exception:\n",
      "\u001B[0;31mKeyError\u001B[0m                                  Traceback (most recent call last)",
      "Cell \u001B[0;32mIn[11], line 3\u001B[0m\n\u001B[1;32m      1\u001B[0m expID \u001B[38;5;241m=\u001B[39m \u001B[38;5;124m'\u001B[39m\u001B[38;5;124mGHOST_NU_001\u001B[39m\u001B[38;5;124m'\u001B[39m\n\u001B[1;32m      2\u001B[0m dbm \u001B[38;5;241m=\u001B[39m DbManager()\n\u001B[0;32m----> 3\u001B[0m \u001B[43mdbm\u001B[49m\u001B[38;5;241;43m.\u001B[39;49m\u001B[43mdetect_outliers\u001B[49m\u001B[43m(\u001B[49m\u001B[43mexpID\u001B[49m\u001B[43m,\u001B[49m\u001B[43m \u001B[49m\u001B[43mmodel_name\u001B[49m\u001B[38;5;241;43m=\u001B[39;49m\u001B[38;5;124;43m'\u001B[39;49m\u001B[38;5;124;43moutlier_v3.h5\u001B[39;49m\u001B[38;5;124;43m'\u001B[39;49m\u001B[43m)\u001B[49m\n",
      "File \u001B[0;32m~/MPG/Scripts/droplet-phenotyping/Tools/db_tools.py:232\u001B[0m, in \u001B[0;36mDbManager.detect_outliers\u001B[0;34m(self, expID, model_name)\u001B[0m\n\u001B[1;32m    230\u001B[0m size \u001B[38;5;241m=\u001B[39m subset\u001B[38;5;241m.\u001B[39mindex\u001B[38;5;241m.\u001B[39msize\n\u001B[1;32m    231\u001B[0m IDs \u001B[38;5;241m=\u001B[39m subset\u001B[38;5;241m.\u001B[39msample(\u001B[38;5;28mmin\u001B[39m(size, \u001B[38;5;241m64\u001B[39m))\u001B[38;5;241m.\u001B[39mindex\n\u001B[0;32m--> 232\u001B[0m frames \u001B[38;5;241m=\u001B[39m \u001B[38;5;28;43mself\u001B[39;49m\u001B[38;5;241;43m.\u001B[39;49m\u001B[43mfilter_db\u001B[49m\u001B[43m(\u001B[49m\u001B[43mexpID\u001B[49m\u001B[43m,\u001B[49m\u001B[43m \u001B[49m\u001B[43mIDs\u001B[49m\u001B[43m)\u001B[49m[:, :, :, \u001B[38;5;241m0\u001B[39m]\n\u001B[1;32m    233\u001B[0m \u001B[38;5;28;01mfor\u001B[39;00m i, ax \u001B[38;5;129;01min\u001B[39;00m \u001B[38;5;28menumerate\u001B[39m(axs\u001B[38;5;241m.\u001B[39mflatten()):\n\u001B[1;32m    234\u001B[0m     ax\u001B[38;5;241m.\u001B[39mimshow(frames[i]\u001B[38;5;241m/\u001B[39m\u001B[38;5;241m65535\u001B[39m, cmap\u001B[38;5;241m=\u001B[39m\u001B[38;5;124m'\u001B[39m\u001B[38;5;124mgray\u001B[39m\u001B[38;5;124m'\u001B[39m, vmin\u001B[38;5;241m=\u001B[39m\u001B[38;5;241m0\u001B[39m, vmax\u001B[38;5;241m=\u001B[39m\u001B[38;5;241m1\u001B[39m)\n",
      "File \u001B[0;32m~/MPG/Scripts/droplet-phenotyping/Tools/db_tools.py:195\u001B[0m, in \u001B[0;36mDbManager.filter_db\u001B[0;34m(self, expID, GlobalIDs)\u001B[0m\n\u001B[1;32m    194\u001B[0m \u001B[38;5;28;01mdef\u001B[39;00m \u001B[38;5;21mfilter_db\u001B[39m(\u001B[38;5;28mself\u001B[39m, expID, GlobalIDs):\n\u001B[0;32m--> 195\u001B[0m     y, x, c \u001B[38;5;241m=\u001B[39m \u001B[38;5;28;43mself\u001B[39;49m\u001B[38;5;241;43m.\u001B[39;49m\u001B[43mexisting_dbs\u001B[49m\u001B[38;5;241;43m.\u001B[39;49m\u001B[43mloc\u001B[49m\u001B[43m[\u001B[49m\u001B[43mexpID\u001B[49m\u001B[43m,\u001B[49m\u001B[43m \u001B[49m\u001B[43m[\u001B[49m\u001B[38;5;124;43m'\u001B[39;49m\u001B[38;5;124;43my_shape\u001B[39;49m\u001B[38;5;124;43m'\u001B[39;49m\u001B[43m,\u001B[49m\u001B[43m \u001B[49m\u001B[38;5;124;43m'\u001B[39;49m\u001B[38;5;124;43mx_shape\u001B[39;49m\u001B[38;5;124;43m'\u001B[39;49m\u001B[43m,\u001B[49m\u001B[43m \u001B[49m\u001B[38;5;124;43m'\u001B[39;49m\u001B[38;5;124;43mn_channels\u001B[39;49m\u001B[38;5;124;43m'\u001B[39;49m\u001B[43m]\u001B[49m\u001B[43m]\u001B[49m\n\u001B[1;32m    196\u001B[0m     df \u001B[38;5;241m=\u001B[39m pd\u001B[38;5;241m.\u001B[39mDataFrame(GlobalIDs, columns\u001B[38;5;241m=\u001B[39m[\u001B[38;5;124m'\u001B[39m\u001B[38;5;124mGlobalID\u001B[39m\u001B[38;5;124m'\u001B[39m])\u001B[38;5;241m.\u001B[39mreset_index()\n\u001B[1;32m    197\u001B[0m     df[\u001B[38;5;124m'\u001B[39m\u001B[38;5;124mtfrecord\u001B[39m\u001B[38;5;124m'\u001B[39m] \u001B[38;5;241m=\u001B[39m (df[\u001B[38;5;124m'\u001B[39m\u001B[38;5;124mGlobalID\u001B[39m\u001B[38;5;124m'\u001B[39m] \u001B[38;5;241m/\u001B[39m\u001B[38;5;241m/\u001B[39m \u001B[38;5;28mint\u001B[39m(os\u001B[38;5;241m.\u001B[39mgetenv(\u001B[38;5;124m'\u001B[39m\u001B[38;5;124mbatch_size\u001B[39m\u001B[38;5;124m'\u001B[39m)))\u001B[38;5;241m.\u001B[39mastype(\u001B[38;5;28mint\u001B[39m)\n",
      "File \u001B[0;32m~/mambaforge/envs/phenotyping/lib/python3.12/site-packages/pandas/core/indexing.py:1184\u001B[0m, in \u001B[0;36m_LocationIndexer.__getitem__\u001B[0;34m(self, key)\u001B[0m\n\u001B[1;32m   1182\u001B[0m     \u001B[38;5;28;01mif\u001B[39;00m \u001B[38;5;28mself\u001B[39m\u001B[38;5;241m.\u001B[39m_is_scalar_access(key):\n\u001B[1;32m   1183\u001B[0m         \u001B[38;5;28;01mreturn\u001B[39;00m \u001B[38;5;28mself\u001B[39m\u001B[38;5;241m.\u001B[39mobj\u001B[38;5;241m.\u001B[39m_get_value(\u001B[38;5;241m*\u001B[39mkey, takeable\u001B[38;5;241m=\u001B[39m\u001B[38;5;28mself\u001B[39m\u001B[38;5;241m.\u001B[39m_takeable)\n\u001B[0;32m-> 1184\u001B[0m     \u001B[38;5;28;01mreturn\u001B[39;00m \u001B[38;5;28;43mself\u001B[39;49m\u001B[38;5;241;43m.\u001B[39;49m\u001B[43m_getitem_tuple\u001B[49m\u001B[43m(\u001B[49m\u001B[43mkey\u001B[49m\u001B[43m)\u001B[49m\n\u001B[1;32m   1185\u001B[0m \u001B[38;5;28;01melse\u001B[39;00m:\n\u001B[1;32m   1186\u001B[0m     \u001B[38;5;66;03m# we by definition only have the 0th axis\u001B[39;00m\n\u001B[1;32m   1187\u001B[0m     axis \u001B[38;5;241m=\u001B[39m \u001B[38;5;28mself\u001B[39m\u001B[38;5;241m.\u001B[39maxis \u001B[38;5;129;01mor\u001B[39;00m \u001B[38;5;241m0\u001B[39m\n",
      "File \u001B[0;32m~/mambaforge/envs/phenotyping/lib/python3.12/site-packages/pandas/core/indexing.py:1368\u001B[0m, in \u001B[0;36m_LocIndexer._getitem_tuple\u001B[0;34m(self, tup)\u001B[0m\n\u001B[1;32m   1366\u001B[0m \u001B[38;5;28;01mwith\u001B[39;00m suppress(IndexingError):\n\u001B[1;32m   1367\u001B[0m     tup \u001B[38;5;241m=\u001B[39m \u001B[38;5;28mself\u001B[39m\u001B[38;5;241m.\u001B[39m_expand_ellipsis(tup)\n\u001B[0;32m-> 1368\u001B[0m     \u001B[38;5;28;01mreturn\u001B[39;00m \u001B[38;5;28;43mself\u001B[39;49m\u001B[38;5;241;43m.\u001B[39;49m\u001B[43m_getitem_lowerdim\u001B[49m\u001B[43m(\u001B[49m\u001B[43mtup\u001B[49m\u001B[43m)\u001B[49m\n\u001B[1;32m   1370\u001B[0m \u001B[38;5;66;03m# no multi-index, so validate all of the indexers\u001B[39;00m\n\u001B[1;32m   1371\u001B[0m tup \u001B[38;5;241m=\u001B[39m \u001B[38;5;28mself\u001B[39m\u001B[38;5;241m.\u001B[39m_validate_tuple_indexer(tup)\n",
      "File \u001B[0;32m~/mambaforge/envs/phenotyping/lib/python3.12/site-packages/pandas/core/indexing.py:1065\u001B[0m, in \u001B[0;36m_LocationIndexer._getitem_lowerdim\u001B[0;34m(self, tup)\u001B[0m\n\u001B[1;32m   1061\u001B[0m \u001B[38;5;28;01mfor\u001B[39;00m i, key \u001B[38;5;129;01min\u001B[39;00m \u001B[38;5;28menumerate\u001B[39m(tup):\n\u001B[1;32m   1062\u001B[0m     \u001B[38;5;28;01mif\u001B[39;00m is_label_like(key):\n\u001B[1;32m   1063\u001B[0m         \u001B[38;5;66;03m# We don't need to check for tuples here because those are\u001B[39;00m\n\u001B[1;32m   1064\u001B[0m         \u001B[38;5;66;03m#  caught by the _is_nested_tuple_indexer check above.\u001B[39;00m\n\u001B[0;32m-> 1065\u001B[0m         section \u001B[38;5;241m=\u001B[39m \u001B[38;5;28;43mself\u001B[39;49m\u001B[38;5;241;43m.\u001B[39;49m\u001B[43m_getitem_axis\u001B[49m\u001B[43m(\u001B[49m\u001B[43mkey\u001B[49m\u001B[43m,\u001B[49m\u001B[43m \u001B[49m\u001B[43maxis\u001B[49m\u001B[38;5;241;43m=\u001B[39;49m\u001B[43mi\u001B[49m\u001B[43m)\u001B[49m\n\u001B[1;32m   1067\u001B[0m         \u001B[38;5;66;03m# We should never have a scalar section here, because\u001B[39;00m\n\u001B[1;32m   1068\u001B[0m         \u001B[38;5;66;03m#  _getitem_lowerdim is only called after a check for\u001B[39;00m\n\u001B[1;32m   1069\u001B[0m         \u001B[38;5;66;03m#  is_scalar_access, which that would be.\u001B[39;00m\n\u001B[1;32m   1070\u001B[0m         \u001B[38;5;28;01mif\u001B[39;00m section\u001B[38;5;241m.\u001B[39mndim \u001B[38;5;241m==\u001B[39m \u001B[38;5;28mself\u001B[39m\u001B[38;5;241m.\u001B[39mndim:\n\u001B[1;32m   1071\u001B[0m             \u001B[38;5;66;03m# we're in the middle of slicing through a MultiIndex\u001B[39;00m\n\u001B[1;32m   1072\u001B[0m             \u001B[38;5;66;03m# revise the key wrt to `section` by inserting an _NS\u001B[39;00m\n",
      "File \u001B[0;32m~/mambaforge/envs/phenotyping/lib/python3.12/site-packages/pandas/core/indexing.py:1431\u001B[0m, in \u001B[0;36m_LocIndexer._getitem_axis\u001B[0;34m(self, key, axis)\u001B[0m\n\u001B[1;32m   1429\u001B[0m \u001B[38;5;66;03m# fall thru to straight lookup\u001B[39;00m\n\u001B[1;32m   1430\u001B[0m \u001B[38;5;28mself\u001B[39m\u001B[38;5;241m.\u001B[39m_validate_key(key, axis)\n\u001B[0;32m-> 1431\u001B[0m \u001B[38;5;28;01mreturn\u001B[39;00m \u001B[38;5;28;43mself\u001B[39;49m\u001B[38;5;241;43m.\u001B[39;49m\u001B[43m_get_label\u001B[49m\u001B[43m(\u001B[49m\u001B[43mkey\u001B[49m\u001B[43m,\u001B[49m\u001B[43m \u001B[49m\u001B[43maxis\u001B[49m\u001B[38;5;241;43m=\u001B[39;49m\u001B[43maxis\u001B[49m\u001B[43m)\u001B[49m\n",
      "File \u001B[0;32m~/mambaforge/envs/phenotyping/lib/python3.12/site-packages/pandas/core/indexing.py:1381\u001B[0m, in \u001B[0;36m_LocIndexer._get_label\u001B[0;34m(self, label, axis)\u001B[0m\n\u001B[1;32m   1379\u001B[0m \u001B[38;5;28;01mdef\u001B[39;00m \u001B[38;5;21m_get_label\u001B[39m(\u001B[38;5;28mself\u001B[39m, label, axis: AxisInt):\n\u001B[1;32m   1380\u001B[0m     \u001B[38;5;66;03m# GH#5567 this will fail if the label is not present in the axis.\u001B[39;00m\n\u001B[0;32m-> 1381\u001B[0m     \u001B[38;5;28;01mreturn\u001B[39;00m \u001B[38;5;28;43mself\u001B[39;49m\u001B[38;5;241;43m.\u001B[39;49m\u001B[43mobj\u001B[49m\u001B[38;5;241;43m.\u001B[39;49m\u001B[43mxs\u001B[49m\u001B[43m(\u001B[49m\u001B[43mlabel\u001B[49m\u001B[43m,\u001B[49m\u001B[43m \u001B[49m\u001B[43maxis\u001B[49m\u001B[38;5;241;43m=\u001B[39;49m\u001B[43maxis\u001B[49m\u001B[43m)\u001B[49m\n",
      "File \u001B[0;32m~/mambaforge/envs/phenotyping/lib/python3.12/site-packages/pandas/core/generic.py:4301\u001B[0m, in \u001B[0;36mNDFrame.xs\u001B[0;34m(self, key, axis, level, drop_level)\u001B[0m\n\u001B[1;32m   4299\u001B[0m             new_index \u001B[38;5;241m=\u001B[39m index[loc]\n\u001B[1;32m   4300\u001B[0m \u001B[38;5;28;01melse\u001B[39;00m:\n\u001B[0;32m-> 4301\u001B[0m     loc \u001B[38;5;241m=\u001B[39m \u001B[43mindex\u001B[49m\u001B[38;5;241;43m.\u001B[39;49m\u001B[43mget_loc\u001B[49m\u001B[43m(\u001B[49m\u001B[43mkey\u001B[49m\u001B[43m)\u001B[49m\n\u001B[1;32m   4303\u001B[0m     \u001B[38;5;28;01mif\u001B[39;00m \u001B[38;5;28misinstance\u001B[39m(loc, np\u001B[38;5;241m.\u001B[39mndarray):\n\u001B[1;32m   4304\u001B[0m         \u001B[38;5;28;01mif\u001B[39;00m loc\u001B[38;5;241m.\u001B[39mdtype \u001B[38;5;241m==\u001B[39m np\u001B[38;5;241m.\u001B[39mbool_:\n",
      "File \u001B[0;32m~/mambaforge/envs/phenotyping/lib/python3.12/site-packages/pandas/core/indexes/base.py:3812\u001B[0m, in \u001B[0;36mIndex.get_loc\u001B[0;34m(self, key)\u001B[0m\n\u001B[1;32m   3807\u001B[0m     \u001B[38;5;28;01mif\u001B[39;00m \u001B[38;5;28misinstance\u001B[39m(casted_key, \u001B[38;5;28mslice\u001B[39m) \u001B[38;5;129;01mor\u001B[39;00m (\n\u001B[1;32m   3808\u001B[0m         \u001B[38;5;28misinstance\u001B[39m(casted_key, abc\u001B[38;5;241m.\u001B[39mIterable)\n\u001B[1;32m   3809\u001B[0m         \u001B[38;5;129;01mand\u001B[39;00m \u001B[38;5;28many\u001B[39m(\u001B[38;5;28misinstance\u001B[39m(x, \u001B[38;5;28mslice\u001B[39m) \u001B[38;5;28;01mfor\u001B[39;00m x \u001B[38;5;129;01min\u001B[39;00m casted_key)\n\u001B[1;32m   3810\u001B[0m     ):\n\u001B[1;32m   3811\u001B[0m         \u001B[38;5;28;01mraise\u001B[39;00m InvalidIndexError(key)\n\u001B[0;32m-> 3812\u001B[0m     \u001B[38;5;28;01mraise\u001B[39;00m \u001B[38;5;167;01mKeyError\u001B[39;00m(key) \u001B[38;5;28;01mfrom\u001B[39;00m \u001B[38;5;21;01merr\u001B[39;00m\n\u001B[1;32m   3813\u001B[0m \u001B[38;5;28;01mexcept\u001B[39;00m \u001B[38;5;167;01mTypeError\u001B[39;00m:\n\u001B[1;32m   3814\u001B[0m     \u001B[38;5;66;03m# If we have a listlike key, _check_indexing_error will raise\u001B[39;00m\n\u001B[1;32m   3815\u001B[0m     \u001B[38;5;66;03m#  InvalidIndexError. Otherwise we fall through and re-raise\u001B[39;00m\n\u001B[1;32m   3816\u001B[0m     \u001B[38;5;66;03m#  the TypeError.\u001B[39;00m\n\u001B[1;32m   3817\u001B[0m     \u001B[38;5;28mself\u001B[39m\u001B[38;5;241m.\u001B[39m_check_indexing_error(key)\n",
      "\u001B[0;31mKeyError\u001B[0m: 'GHOST_NU_001'"
     ]
    },
    {
     "data": {
      "text/plain": "<Figure size 800x800 with 64 Axes>",
      "image/png": "[encoded data removed]"
     },
     "metadata": {},
     "output_type": "display_data"
    }
   ],
   "source": "experiment.detect_outliers(model_name='outlier_v3.h5')"
  },
  {
   "cell_type": "markdown",
   "id": "62b392b2b9895a4e",
   "metadata": {
    "collapsed": false
   },
   "source": [
    "# Workpackage Generation"
   ]
  },
  {
   "cell_type": "code",
   "execution_count": 6,
   "id": "1da084012ff33ba1",
   "metadata": {
    "collapsed": false,
    "ExecuteTime": {
     "end_time": "2024-11-03T11:04:31.895649Z",
     "start_time": "2024-11-03T11:04:22.010881Z"
    }
   },
   "outputs": [
    {
     "name": "stderr",
     "output_type": "stream",
     "text": [
      "2024-11-03 12:04:22.515284: W tensorflow/core/framework/local_rendezvous.cc:404] Local rendezvous is aborting with status: OUT_OF_RANGE: End of sequence\n",
      "2024-11-03 12:04:22.635150: W tensorflow/core/framework/local_rendezvous.cc:404] Local rendezvous is aborting with status: OUT_OF_RANGE: End of sequence\n",
      "2024-11-03 12:04:22.771461: W tensorflow/core/framework/local_rendezvous.cc:404] Local rendezvous is aborting with status: OUT_OF_RANGE: End of sequence\n",
      "2024-11-03 12:04:22.904063: W tensorflow/core/framework/local_rendezvous.cc:404] Local rendezvous is aborting with status: OUT_OF_RANGE: End of sequence\n",
      "2024-11-03 12:04:23.036325: W tensorflow/core/framework/local_rendezvous.cc:404] Local rendezvous is aborting with status: OUT_OF_RANGE: End of sequence\n",
      "2024-11-03 12:04:23.167914: W tensorflow/core/framework/local_rendezvous.cc:404] Local rendezvous is aborting with status: OUT_OF_RANGE: End of sequence\n",
      "2024-11-03 12:04:23.299242: W tensorflow/core/framework/local_rendezvous.cc:404] Local rendezvous is aborting with status: OUT_OF_RANGE: End of sequence\n",
      "2024-11-03 12:04:23.438276: W tensorflow/core/framework/local_rendezvous.cc:404] Local rendezvous is aborting with status: OUT_OF_RANGE: End of sequence\n",
      "2024-11-03 12:04:23.563936: W tensorflow/core/framework/local_rendezvous.cc:404] Local rendezvous is aborting with status: OUT_OF_RANGE: End of sequence\n",
      "2024-11-03 12:04:23.691191: W tensorflow/core/framework/local_rendezvous.cc:404] Local rendezvous is aborting with status: OUT_OF_RANGE: End of sequence\n",
      "2024-11-03 12:04:23.830858: W tensorflow/core/framework/local_rendezvous.cc:404] Local rendezvous is aborting with status: OUT_OF_RANGE: End of sequence\n",
      "2024-11-03 12:04:23.975826: W tensorflow/core/framework/local_rendezvous.cc:404] Local rendezvous is aborting with status: OUT_OF_RANGE: End of sequence\n",
      "2024-11-03 12:04:24.107283: W tensorflow/core/framework/local_rendezvous.cc:404] Local rendezvous is aborting with status: OUT_OF_RANGE: End of sequence\n",
      "2024-11-03 12:04:24.238626: W tensorflow/core/framework/local_rendezvous.cc:404] Local rendezvous is aborting with status: OUT_OF_RANGE: End of sequence\n",
      "2024-11-03 12:04:24.368445: W tensorflow/core/framework/local_rendezvous.cc:404] Local rendezvous is aborting with status: OUT_OF_RANGE: End of sequence\n",
      "2024-11-03 12:04:24.498194: W tensorflow/core/framework/local_rendezvous.cc:404] Local rendezvous is aborting with status: OUT_OF_RANGE: End of sequence\n",
      "2024-11-03 12:04:24.641746: W tensorflow/core/framework/local_rendezvous.cc:404] Local rendezvous is aborting with status: OUT_OF_RANGE: End of sequence\n",
      "2024-11-03 12:04:24.768491: W tensorflow/core/framework/local_rendezvous.cc:404] Local rendezvous is aborting with status: OUT_OF_RANGE: End of sequence\n",
      "2024-11-03 12:04:24.908361: W tensorflow/core/framework/local_rendezvous.cc:404] Local rendezvous is aborting with status: OUT_OF_RANGE: End of sequence\n",
      "2024-11-03 12:04:25.040147: W tensorflow/core/framework/local_rendezvous.cc:404] Local rendezvous is aborting with status: OUT_OF_RANGE: End of sequence\n",
      "2024-11-03 12:04:25.176614: W tensorflow/core/framework/local_rendezvous.cc:404] Local rendezvous is aborting with status: OUT_OF_RANGE: End of sequence\n",
      "2024-11-03 12:04:25.316468: W tensorflow/core/framework/local_rendezvous.cc:404] Local rendezvous is aborting with status: OUT_OF_RANGE: End of sequence\n",
      "2024-11-03 12:04:25.448010: W tensorflow/core/framework/local_rendezvous.cc:404] Local rendezvous is aborting with status: OUT_OF_RANGE: End of sequence\n",
      "2024-11-03 12:04:25.582160: W tensorflow/core/framework/local_rendezvous.cc:404] Local rendezvous is aborting with status: OUT_OF_RANGE: End of sequence\n",
      "2024-11-03 12:04:25.712641: W tensorflow/core/framework/local_rendezvous.cc:404] Local rendezvous is aborting with status: OUT_OF_RANGE: End of sequence\n",
      "2024-11-03 12:04:25.825905: W tensorflow/core/framework/local_rendezvous.cc:404] Local rendezvous is aborting with status: OUT_OF_RANGE: End of sequence\n",
      "2024-11-03 12:04:25.934765: W tensorflow/core/framework/local_rendezvous.cc:404] Local rendezvous is aborting with status: OUT_OF_RANGE: End of sequence\n",
      "2024-11-03 12:04:26.047462: W tensorflow/core/framework/local_rendezvous.cc:404] Local rendezvous is aborting with status: OUT_OF_RANGE: End of sequence\n",
      "2024-11-03 12:04:26.157415: W tensorflow/core/framework/local_rendezvous.cc:404] Local rendezvous is aborting with status: OUT_OF_RANGE: End of sequence\n",
      "2024-11-03 12:04:26.273788: W tensorflow/core/framework/local_rendezvous.cc:404] Local rendezvous is aborting with status: OUT_OF_RANGE: End of sequence\n",
      "2024-11-03 12:04:26.384985: W tensorflow/core/framework/local_rendezvous.cc:404] Local rendezvous is aborting with status: OUT_OF_RANGE: End of sequence\n",
      "2024-11-03 12:04:26.501645: W tensorflow/core/framework/local_rendezvous.cc:404] Local rendezvous is aborting with status: OUT_OF_RANGE: End of sequence\n",
      "2024-11-03 12:04:26.615986: W tensorflow/core/framework/local_rendezvous.cc:404] Local rendezvous is aborting with status: OUT_OF_RANGE: End of sequence\n",
      "2024-11-03 12:04:26.732394: W tensorflow/core/framework/local_rendezvous.cc:404] Local rendezvous is aborting with status: OUT_OF_RANGE: End of sequence\n",
      "2024-11-03 12:04:26.852245: W tensorflow/core/framework/local_rendezvous.cc:404] Local rendezvous is aborting with status: OUT_OF_RANGE: End of sequence\n",
      "2024-11-03 12:04:26.969392: W tensorflow/core/framework/local_rendezvous.cc:404] Local rendezvous is aborting with status: OUT_OF_RANGE: End of sequence\n",
      "2024-11-03 12:04:27.080597: W tensorflow/core/framework/local_rendezvous.cc:404] Local rendezvous is aborting with status: OUT_OF_RANGE: End of sequence\n",
      "2024-11-03 12:04:27.202478: W tensorflow/core/framework/local_rendezvous.cc:404] Local rendezvous is aborting with status: OUT_OF_RANGE: End of sequence\n",
      "2024-11-03 12:04:27.316473: W tensorflow/core/framework/local_rendezvous.cc:404] Local rendezvous is aborting with status: OUT_OF_RANGE: End of sequence\n",
      "2024-11-03 12:04:27.435095: W tensorflow/core/framework/local_rendezvous.cc:404] Local rendezvous is aborting with status: OUT_OF_RANGE: End of sequence\n",
      "2024-11-03 12:04:27.549739: W tensorflow/core/framework/local_rendezvous.cc:404] Local rendezvous is aborting with status: OUT_OF_RANGE: End of sequence\n",
      "2024-11-03 12:04:27.667799: W tensorflow/core/framework/local_rendezvous.cc:404] Local rendezvous is aborting with status: OUT_OF_RANGE: End of sequence\n",
      "2024-11-03 12:04:27.780286: W tensorflow/core/framework/local_rendezvous.cc:404] Local rendezvous is aborting with status: OUT_OF_RANGE: End of sequence\n",
      "2024-11-03 12:04:27.892440: W tensorflow/core/framework/local_rendezvous.cc:404] Local rendezvous is aborting with status: OUT_OF_RANGE: End of sequence\n",
      "2024-11-03 12:04:28.008239: W tensorflow/core/framework/local_rendezvous.cc:404] Local rendezvous is aborting with status: OUT_OF_RANGE: End of sequence\n",
      "2024-11-03 12:04:28.127485: W tensorflow/core/framework/local_rendezvous.cc:404] Local rendezvous is aborting with status: OUT_OF_RANGE: End of sequence\n",
      "2024-11-03 12:04:28.247670: W tensorflow/core/framework/local_rendezvous.cc:404] Local rendezvous is aborting with status: OUT_OF_RANGE: End of sequence\n",
      "2024-11-03 12:04:28.366166: W tensorflow/core/framework/local_rendezvous.cc:404] Local rendezvous is aborting with status: OUT_OF_RANGE: End of sequence\n",
      "2024-11-03 12:04:28.484982: W tensorflow/core/framework/local_rendezvous.cc:404] Local rendezvous is aborting with status: OUT_OF_RANGE: End of sequence\n",
      "2024-11-03 12:04:28.599837: W tensorflow/core/framework/local_rendezvous.cc:404] Local rendezvous is aborting with status: OUT_OF_RANGE: End of sequence\n",
      "2024-11-03 12:04:28.727209: W tensorflow/core/framework/local_rendezvous.cc:404] Local rendezvous is aborting with status: OUT_OF_RANGE: End of sequence\n",
      "2024-11-03 12:04:28.850528: W tensorflow/core/framework/local_rendezvous.cc:404] Local rendezvous is aborting with status: OUT_OF_RANGE: End of sequence\n",
      "2024-11-03 12:04:28.968369: W tensorflow/core/framework/local_rendezvous.cc:404] Local rendezvous is aborting with status: OUT_OF_RANGE: End of sequence\n",
      "2024-11-03 12:04:29.086257: W tensorflow/core/framework/local_rendezvous.cc:404] Local rendezvous is aborting with status: OUT_OF_RANGE: End of sequence\n",
      "2024-11-03 12:04:29.202051: W tensorflow/core/framework/local_rendezvous.cc:404] Local rendezvous is aborting with status: OUT_OF_RANGE: End of sequence\n",
      "2024-11-03 12:04:29.320127: W tensorflow/core/framework/local_rendezvous.cc:404] Local rendezvous is aborting with status: OUT_OF_RANGE: End of sequence\n",
      "2024-11-03 12:04:29.446635: W tensorflow/core/framework/local_rendezvous.cc:404] Local rendezvous is aborting with status: OUT_OF_RANGE: End of sequence\n",
      "2024-11-03 12:04:29.561730: W tensorflow/core/framework/local_rendezvous.cc:404] Local rendezvous is aborting with status: OUT_OF_RANGE: End of sequence\n",
      "2024-11-03 12:04:29.681523: W tensorflow/core/framework/local_rendezvous.cc:404] Local rendezvous is aborting with status: OUT_OF_RANGE: End of sequence\n",
      "2024-11-03 12:04:29.804444: W tensorflow/core/framework/local_rendezvous.cc:404] Local rendezvous is aborting with status: OUT_OF_RANGE: End of sequence\n",
      "2024-11-03 12:04:29.935383: W tensorflow/core/framework/local_rendezvous.cc:404] Local rendezvous is aborting with status: OUT_OF_RANGE: End of sequence\n",
      "2024-11-03 12:04:30.056920: W tensorflow/core/framework/local_rendezvous.cc:404] Local rendezvous is aborting with status: OUT_OF_RANGE: End of sequence\n",
      "2024-11-03 12:04:30.182020: W tensorflow/core/framework/local_rendezvous.cc:404] Local rendezvous is aborting with status: OUT_OF_RANGE: End of sequence\n",
      "2024-11-03 12:04:30.304293: W tensorflow/core/framework/local_rendezvous.cc:404] Local rendezvous is aborting with status: OUT_OF_RANGE: End of sequence\n",
      "2024-11-03 12:04:30.416305: W tensorflow/core/framework/local_rendezvous.cc:404] Local rendezvous is aborting with status: OUT_OF_RANGE: End of sequence\n"
     ]
    }
   ],
   "source": [
    "dbm = DbManager()\n",
    "dbm.generate_wp(expID='NKIP_FA_064', exclude_query='condition != \"Unsorted_chamber\"')"
   ]
  },
  {
   "cell_type": "markdown",
   "id": "e52fb701d8cf1cb1",
   "metadata": {
    "collapsed": false
   },
   "source": [
    "# Cell counting"
   ]
  },
  {
   "cell_type": "code",
   "execution_count": 13,
   "id": "c276dccda721909c",
   "metadata": {
    "collapsed": false,
    "ExecuteTime": {
     "end_time": "2024-10-30T15:13:51.215691Z",
     "start_time": "2024-10-30T14:48:04.294797Z"
    }
   },
   "outputs": [
    {
     "name": "stderr",
     "output_type": "stream",
     "text": [
      "WARNING:absl:Compiled the loaded model, but the compiled metrics have yet to be built. `model.compile_metrics` will be empty until you train or evaluate the model.\n",
      "2024-10-30 15:48:36.966263: W tensorflow/core/framework/local_rendezvous.cc:404] Local rendezvous is aborting with status: OUT_OF_RANGE: End of sequence\n"
     ]
    },
    {
     "name": "stdout",
     "output_type": "stream",
     "text": [
      "\u001B[1m13036/13036\u001B[0m \u001B[32m━━━━━━━━━━━━━━━━━━━━\u001B[0m\u001B[37m\u001B[0m \u001B[1m1508s\u001B[0m 116ms/step\n"
     ]
    },
    {
     "name": "stderr",
     "output_type": "stream",
     "text": [
      "2024-10-30 16:13:44.643118: W tensorflow/core/framework/local_rendezvous.cc:404] Local rendezvous is aborting with status: OUT_OF_RANGE: End of sequence\n",
      "/Users/fauberma/mambaforge/envs/phenotyping/lib/python3.12/contextlib.py:155: UserWarning: Your input ran out of data; interrupting training. Make sure that your dataset or generator can generate at least `steps_per_epoch * epochs` batches. You may need to use the `.repeat()` function when building your dataset.\n",
      "  self.gen.throw(value)\n"
     ]
    }
   ],
   "source": "experiment.cell_count(model_name='cell_count_v3.h5')"
  },
  {
   "cell_type": "code",
   "execution_count": null,
   "id": "bb9912f8ea0cf3f2",
   "metadata": {
    "collapsed": false
   },
   "outputs": [],
   "source": []
  }
 ],
 "metadata": {
  "kernelspec": {
   "display_name": "Python 3 (ipykernel)",
   "language": "python",
   "name": "python3"
  },
  "language_info": {
   "codemirror_mode": {
    "name": "ipython",
    "version": 3
   },
   "file_extension": ".py",
   "mimetype": "text/x-python",
   "name": "python",
   "nbconvert_exporter": "python",
   "pygments_lexer": "ipython3",
   "version": "3.12.0"
  }
 },
 "nbformat": 4,
 "nbformat_minor": 5
}
