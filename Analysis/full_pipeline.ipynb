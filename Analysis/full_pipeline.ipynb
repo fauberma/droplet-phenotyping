{
 "cells": [
  {
   "metadata": {
    "ExecuteTime": {
     "end_time": "2025-07-07T15:28:16.241082Z",
     "start_time": "2025-07-07T15:28:16.075931Z"
    }
   },
   "cell_type": "code",
   "source": [
    "%load_ext autoreload\n",
    "%autoreload 2"
   ],
   "id": "2ab2e3e09124eb2c",
   "outputs": [
    {
     "name": "stdout",
     "output_type": "stream",
     "text": [
      "The autoreload extension is already loaded. To reload it, use:\n",
      "  %reload_ext autoreload\n"
     ]
    }
   ],
   "execution_count": 7
  },
  {
   "cell_type": "markdown",
   "id": "28790032cc8f8d67",
   "metadata": {
    "collapsed": false
   },
   "source": [
    "# Imports"
   ]
  },
  {
   "cell_type": "code",
   "id": "9dbb94b41f3c164f",
   "metadata": {
    "collapsed": false,
    "ExecuteTime": {
     "end_time": "2025-07-07T08:38:03.696559Z",
     "start_time": "2025-07-07T08:38:00.281992Z"
    }
   },
   "source": [
    "import sys\n",
    "import os\n",
    "sys.path.append(os.path.join(os.getcwd(), os.pardir))\n",
    "from Tools.leica_tools import parse_lif\n",
    "from Tools.exp_tools import Experiment"
   ],
   "outputs": [],
   "execution_count": 2
  },
  {
   "metadata": {
    "ExecuteTime": {
     "end_time": "2025-07-07T08:38:03.716360Z",
     "start_time": "2025-07-07T08:38:03.700249Z"
    }
   },
   "cell_type": "code",
   "source": "#parse_lif('/Volumes/T7/DMI/NKIP_FA_083/NKIP_FA_083.lif')",
   "id": "6c284155e2d56006",
   "outputs": [],
   "execution_count": 3
  },
  {
   "metadata": {
    "ExecuteTime": {
     "end_time": "2025-07-07T08:38:03.846503Z",
     "start_time": "2025-07-07T08:38:03.720838Z"
    }
   },
   "cell_type": "code",
   "source": [
    "expID = 'NKIP_FA_083'\n",
    "experiment = Experiment(expID)"
   ],
   "id": "9720d58a8f535525",
   "outputs": [],
   "execution_count": 4
  },
  {
   "metadata": {
    "ExecuteTime": {
     "end_time": "2025-07-07T09:54:00.459925Z",
     "start_time": "2025-07-07T08:38:31.452198Z"
    }
   },
   "cell_type": "code",
   "source": "experiment.detect_droplets(model_name='yolo_v8_s_backbone_v3.keras')",
   "id": "b8345e0672dd29b8",
   "outputs": [
    {
     "name": "stdout",
     "output_type": "stream",
     "text": [
      "\u001B[1m20/20\u001B[0m \u001B[32m━━━━━━━━━━━━━━━━━━━━\u001B[0m\u001B[37m\u001B[0m \u001B[1m49s\u001B[0m 2s/step\n",
      "\u001B[1m20/20\u001B[0m \u001B[32m━━━━━━━━━━━━━━━━━━━━\u001B[0m\u001B[37m\u001B[0m \u001B[1m48s\u001B[0m 2s/step\n",
      "\u001B[1m20/20\u001B[0m \u001B[32m━━━━━━━━━━━━━━━━━━━━\u001B[0m\u001B[37m\u001B[0m \u001B[1m49s\u001B[0m 2s/step\n",
      "\u001B[1m20/20\u001B[0m \u001B[32m━━━━━━━━━━━━━━━━━━━━\u001B[0m\u001B[37m\u001B[0m \u001B[1m49s\u001B[0m 2s/step\n",
      "\u001B[1m20/20\u001B[0m \u001B[32m━━━━━━━━━━━━━━━━━━━━\u001B[0m\u001B[37m\u001B[0m \u001B[1m48s\u001B[0m 2s/step\n",
      "\u001B[1m20/20\u001B[0m \u001B[32m━━━━━━━━━━━━━━━━━━━━\u001B[0m\u001B[37m\u001B[0m \u001B[1m47s\u001B[0m 2s/step\n",
      "\u001B[1m20/20\u001B[0m \u001B[32m━━━━━━━━━━━━━━━━━━━━\u001B[0m\u001B[37m\u001B[0m \u001B[1m48s\u001B[0m 2s/step\n",
      "\u001B[1m20/20\u001B[0m \u001B[32m━━━━━━━━━━━━━━━━━━━━\u001B[0m\u001B[37m\u001B[0m \u001B[1m48s\u001B[0m 2s/step\n",
      "\u001B[1m20/20\u001B[0m \u001B[32m━━━━━━━━━━━━━━━━━━━━\u001B[0m\u001B[37m\u001B[0m \u001B[1m47s\u001B[0m 2s/step\n",
      "\u001B[1m20/20\u001B[0m \u001B[32m━━━━━━━━━━━━━━━━━━━━\u001B[0m\u001B[37m\u001B[0m \u001B[1m48s\u001B[0m 2s/step\n",
      "\u001B[1m20/20\u001B[0m \u001B[32m━━━━━━━━━━━━━━━━━━━━\u001B[0m\u001B[37m\u001B[0m \u001B[1m48s\u001B[0m 2s/step\n",
      "\u001B[1m20/20\u001B[0m \u001B[32m━━━━━━━━━━━━━━━━━━━━\u001B[0m\u001B[37m\u001B[0m \u001B[1m48s\u001B[0m 2s/step\n",
      "\u001B[1m20/20\u001B[0m \u001B[32m━━━━━━━━━━━━━━━━━━━━\u001B[0m\u001B[37m\u001B[0m \u001B[1m48s\u001B[0m 2s/step\n",
      "\u001B[1m20/20\u001B[0m \u001B[32m━━━━━━━━━━━━━━━━━━━━\u001B[0m\u001B[37m\u001B[0m \u001B[1m49s\u001B[0m 2s/step\n",
      "\u001B[1m20/20\u001B[0m \u001B[32m━━━━━━━━━━━━━━━━━━━━\u001B[0m\u001B[37m\u001B[0m \u001B[1m49s\u001B[0m 2s/step\n",
      "\u001B[1m20/20\u001B[0m \u001B[32m━━━━━━━━━━━━━━━━━━━━\u001B[0m\u001B[37m\u001B[0m \u001B[1m48s\u001B[0m 2s/step\n",
      "\u001B[1m20/20\u001B[0m \u001B[32m━━━━━━━━━━━━━━━━━━━━\u001B[0m\u001B[37m\u001B[0m \u001B[1m47s\u001B[0m 2s/step\n",
      "\u001B[1m20/20\u001B[0m \u001B[32m━━━━━━━━━━━━━━━━━━━━\u001B[0m\u001B[37m\u001B[0m \u001B[1m48s\u001B[0m 2s/step\n",
      "\u001B[1m20/20\u001B[0m \u001B[32m━━━━━━━━━━━━━━━━━━━━\u001B[0m\u001B[37m\u001B[0m \u001B[1m48s\u001B[0m 2s/step\n",
      "\u001B[1m20/20\u001B[0m \u001B[32m━━━━━━━━━━━━━━━━━━━━\u001B[0m\u001B[37m\u001B[0m \u001B[1m48s\u001B[0m 2s/step\n",
      "\u001B[1m20/20\u001B[0m \u001B[32m━━━━━━━━━━━━━━━━━━━━\u001B[0m\u001B[37m\u001B[0m \u001B[1m48s\u001B[0m 2s/step\n",
      "\u001B[1m20/20\u001B[0m \u001B[32m━━━━━━━━━━━━━━━━━━━━\u001B[0m\u001B[37m\u001B[0m \u001B[1m48s\u001B[0m 2s/step\n",
      "\u001B[1m20/20\u001B[0m \u001B[32m━━━━━━━━━━━━━━━━━━━━\u001B[0m\u001B[37m\u001B[0m \u001B[1m48s\u001B[0m 2s/step\n",
      "\u001B[1m20/20\u001B[0m \u001B[32m━━━━━━━━━━━━━━━━━━━━\u001B[0m\u001B[37m\u001B[0m \u001B[1m48s\u001B[0m 2s/step\n",
      "\u001B[1m20/20\u001B[0m \u001B[32m━━━━━━━━━━━━━━━━━━━━\u001B[0m\u001B[37m\u001B[0m \u001B[1m48s\u001B[0m 2s/step\n",
      "\u001B[1m20/20\u001B[0m \u001B[32m━━━━━━━━━━━━━━━━━━━━\u001B[0m\u001B[37m\u001B[0m \u001B[1m48s\u001B[0m 2s/step\n",
      "\u001B[1m20/20\u001B[0m \u001B[32m━━━━━━━━━━━━━━━━━━━━\u001B[0m\u001B[37m\u001B[0m \u001B[1m48s\u001B[0m 2s/step\n",
      "\u001B[1m20/20\u001B[0m \u001B[32m━━━━━━━━━━━━━━━━━━━━\u001B[0m\u001B[37m\u001B[0m \u001B[1m48s\u001B[0m 2s/step\n",
      "\u001B[1m20/20\u001B[0m \u001B[32m━━━━━━━━━━━━━━━━━━━━\u001B[0m\u001B[37m\u001B[0m \u001B[1m48s\u001B[0m 2s/step\n",
      "\u001B[1m20/20\u001B[0m \u001B[32m━━━━━━━━━━━━━━━━━━━━\u001B[0m\u001B[37m\u001B[0m \u001B[1m48s\u001B[0m 2s/step\n",
      "\u001B[1m20/20\u001B[0m \u001B[32m━━━━━━━━━━━━━━━━━━━━\u001B[0m\u001B[37m\u001B[0m \u001B[1m131s\u001B[0m 3s/step\n",
      "\u001B[1m20/20\u001B[0m \u001B[32m━━━━━━━━━━━━━━━━━━━━\u001B[0m\u001B[37m\u001B[0m \u001B[1m446s\u001B[0m 23s/step\n",
      "\u001B[1m20/20\u001B[0m \u001B[32m━━━━━━━━━━━━━━━━━━━━\u001B[0m\u001B[37m\u001B[0m \u001B[1m96s\u001B[0m 5s/step\n",
      "\u001B[1m20/20\u001B[0m \u001B[32m━━━━━━━━━━━━━━━━━━━━\u001B[0m\u001B[37m\u001B[0m \u001B[1m223s\u001B[0m 12s/step\n",
      "\u001B[1m20/20\u001B[0m \u001B[32m━━━━━━━━━━━━━━━━━━━━\u001B[0m\u001B[37m\u001B[0m \u001B[1m138s\u001B[0m 7s/step\n",
      "\u001B[1m20/20\u001B[0m \u001B[32m━━━━━━━━━━━━━━━━━━━━\u001B[0m\u001B[37m\u001B[0m \u001B[1m152s\u001B[0m 8s/step\n",
      "\u001B[1m20/20\u001B[0m \u001B[32m━━━━━━━━━━━━━━━━━━━━\u001B[0m\u001B[37m\u001B[0m \u001B[1m358s\u001B[0m 19s/step\n",
      "\u001B[1m20/20\u001B[0m \u001B[32m━━━━━━━━━━━━━━━━━━━━\u001B[0m\u001B[37m\u001B[0m \u001B[1m699s\u001B[0m 37s/step\n",
      "\u001B[1m20/20\u001B[0m \u001B[32m━━━━━━━━━━━━━━━━━━━━\u001B[0m\u001B[37m\u001B[0m \u001B[1m104s\u001B[0m 5s/step\n",
      "\u001B[1m20/20\u001B[0m \u001B[32m━━━━━━━━━━━━━━━━━━━━\u001B[0m\u001B[37m\u001B[0m \u001B[1m66s\u001B[0m 3s/step\n"
     ]
    }
   ],
   "execution_count": 5
  },
  {
   "metadata": {
    "ExecuteTime": {
     "end_time": "2025-07-07T10:15:45.168599Z",
     "start_time": "2025-07-07T09:57:06.170508Z"
    }
   },
   "cell_type": "code",
   "source": "experiment.cell_count(model_name='cell_count_v3.h5')",
   "id": "e7bcbad4ce82b17d",
   "outputs": [
    {
     "name": "stderr",
     "output_type": "stream",
     "text": [
      "2025-07-07 11:57:39.234041: W tensorflow/core/framework/local_rendezvous.cc:404] Local rendezvous is aborting with status: OUT_OF_RANGE: End of sequence\n"
     ]
    },
    {
     "name": "stdout",
     "output_type": "stream",
     "text": [
      "\u001B[1m10326/10326\u001B[0m \u001B[32m━━━━━━━━━━━━━━━━━━━━\u001B[0m\u001B[37m\u001B[0m \u001B[1m1076s\u001B[0m 104ms/step\n"
     ]
    },
    {
     "name": "stderr",
     "output_type": "stream",
     "text": [
      "2025-07-07 12:15:35.667773: W tensorflow/core/framework/local_rendezvous.cc:404] Local rendezvous is aborting with status: OUT_OF_RANGE: End of sequence\n",
      "/Users/fauberma/mambaforge/envs/phenotyping_v1/lib/python3.12/contextlib.py:155: UserWarning: Your input ran out of data; interrupting training. Make sure that your dataset or generator can generate at least `steps_per_epoch * epochs` batches. You may need to use the `.repeat()` function when building your dataset.\n",
      "  self.gen.throw(value)\n"
     ]
    }
   ],
   "execution_count": 6
  },
  {
   "metadata": {
    "ExecuteTime": {
     "end_time": "2025-07-07T15:30:54.898723Z",
     "start_time": "2025-07-07T15:30:14.960624Z"
    }
   },
   "cell_type": "code",
   "source": "experiment.annotate_frame(0)",
   "id": "c9e54b5071386727",
   "outputs": [],
   "execution_count": 9
  },
  {
   "cell_type": "markdown",
   "id": "e8923b3feac3bdc",
   "metadata": {
    "collapsed": false
   },
   "source": "# Legacy transfer"
  },
  {
   "metadata": {
    "ExecuteTime": {
     "end_time": "2025-06-17T11:55:59.380985Z",
     "start_time": "2025-06-17T11:55:59.322974Z"
    }
   },
   "cell_type": "code",
   "source": [
    "import glob\n",
    "import pandas as pd\n",
    "\n",
    "\n",
    "def get_df(path):\n",
    "    df = pd.read_csv(path)\n",
    "    df.rename(\n",
    "        columns={'GlobalID': 'droplet_id', 'Effector': 'effector', 'Target': 'target', 'dead_Effector': 'dead_effector',\n",
    "                 'dead_Target': 'dead_target'}, inplace=True)\n",
    "    df = df.astype({'droplet_id': int})\n",
    "    df.set_index('droplet_id', inplace=True)\n",
    "    df.drop(columns=['i'], inplace=True)\n",
    "    return df"
   ],
   "id": "e6b9bf7d53e849f8",
   "outputs": [],
   "execution_count": 3
  },
  {
   "cell_type": "code",
   "source": [
    "exp_id = 'NKIP_FA_056'\n",
    "experiment = Experiment(exp_id)"
   ],
   "metadata": {
    "collapsed": false,
    "ExecuteTime": {
     "end_time": "2025-06-17T12:04:49.821033Z",
     "start_time": "2025-06-17T12:04:49.779865Z"
    }
   },
   "id": "d61e66c03a40cff",
   "outputs": [],
   "execution_count": 44
  },
  {
   "metadata": {},
   "cell_type": "code",
   "outputs": [],
   "execution_count": null,
   "source": [
    "# add droplets to db\n",
    "\n",
    "droplets = pd.read_csv(os.path.join(os.getenv('EXP_DIR'), exp_id, 'droplets.csv'))\n",
    "droplets.rename(columns={'GlobalID': 'droplet_id', 'frameID':'frame_id'}, inplace=True)\n",
    "droplets['experiment_id'] = exp_id\n",
    "\n",
    "experiment.db.add_droplets(droplets)\n",
    "tfrecord_manifest = {\n",
    "    'n_frames': droplets.index.size,\n",
    "    'y_shape': 128,\n",
    "    'x_shape': 128,\n",
    "    'n_channels': experiment.handler.channel_df.index.size,\n",
    "    'channel_info': experiment.handler.channel_df['channel_name'].to_dict(),\n",
    "}\n",
    "def frame_generator():\n",
    "    for frame_id in experiment.frame_df.index:\n",
    "        yield experiment.handler.get_frame(frame_id)\n",
    "experiment.db.add_dataset(frame_generator(), tfrecord_manifest)"
   ],
   "id": "27a575bb5199cd41"
  },
  {
   "metadata": {
    "ExecuteTime": {
     "end_time": "2025-06-17T12:04:53.161797Z",
     "start_time": "2025-06-17T12:04:52.983906Z"
    }
   },
   "cell_type": "code",
   "source": "experiment.db.clear_annotations()",
   "id": "76a6953d46b1c9de",
   "outputs": [],
   "execution_count": 45
  },
  {
   "metadata": {
    "ExecuteTime": {
     "end_time": "2025-06-17T12:04:53.472090Z",
     "start_time": "2025-06-17T12:04:53.327284Z"
    }
   },
   "cell_type": "code",
   "source": [
    "# add cell_count predictions to annotations table\n",
    "\n",
    "droplets = pd.read_csv(os.path.join(os.getenv('EXP_DIR'), exp_id, 'droplets.csv'))\n",
    "droplets.rename(columns={'GlobalID': 'droplet_id', 'frameID':'frame_id'}, inplace=True)\n",
    "droplets['experiment_id'] = exp_id\n",
    "droplets.set_index('droplet_id', inplace=True)\n",
    "droplets.rename(columns={'SingleClass_dead_Effector': 'dead_effector',\n",
    "                         'SingleClass_Target': 'target',\n",
    "                         'SingleClass_Effector': 'effector',\n",
    "                         'SingleClass_dead_Target': 'dead_target'}, inplace=True)\n",
    "selected_annotations = ['dead_effector', 'dead_target', 'effector', 'target']\n",
    "droplets[selected_annotations].head()"
   ],
   "id": "a9225ca289a2e6e9",
   "outputs": [
    {
     "data": {
      "text/plain": [
       "            dead_effector  dead_target  effector  target\n",
       "droplet_id                                              \n",
       "0                       1            1         0       0\n",
       "1                       0            0         0       2\n",
       "2                       0            0         0       1\n",
       "3                       0            0         0       0\n",
       "4                       0            0         0       1"
      ],
      "text/html": [
       "<div>\n",
       "<style scoped>\n",
       "    .dataframe tbody tr th:only-of-type {\n",
       "        vertical-align: middle;\n",
       "    }\n",
       "\n",
       "    .dataframe tbody tr th {\n",
       "        vertical-align: top;\n",
       "    }\n",
       "\n",
       "    .dataframe thead th {\n",
       "        text-align: right;\n",
       "    }\n",
       "</style>\n",
       "<table border=\"1\" class=\"dataframe\">\n",
       "  <thead>\n",
       "    <tr style=\"text-align: right;\">\n",
       "      <th></th>\n",
       "      <th>dead_effector</th>\n",
       "      <th>dead_target</th>\n",
       "      <th>effector</th>\n",
       "      <th>target</th>\n",
       "    </tr>\n",
       "    <tr>\n",
       "      <th>droplet_id</th>\n",
       "      <th></th>\n",
       "      <th></th>\n",
       "      <th></th>\n",
       "      <th></th>\n",
       "    </tr>\n",
       "  </thead>\n",
       "  <tbody>\n",
       "    <tr>\n",
       "      <th>0</th>\n",
       "      <td>1</td>\n",
       "      <td>1</td>\n",
       "      <td>0</td>\n",
       "      <td>0</td>\n",
       "    </tr>\n",
       "    <tr>\n",
       "      <th>1</th>\n",
       "      <td>0</td>\n",
       "      <td>0</td>\n",
       "      <td>0</td>\n",
       "      <td>2</td>\n",
       "    </tr>\n",
       "    <tr>\n",
       "      <th>2</th>\n",
       "      <td>0</td>\n",
       "      <td>0</td>\n",
       "      <td>0</td>\n",
       "      <td>1</td>\n",
       "    </tr>\n",
       "    <tr>\n",
       "      <th>3</th>\n",
       "      <td>0</td>\n",
       "      <td>0</td>\n",
       "      <td>0</td>\n",
       "      <td>0</td>\n",
       "    </tr>\n",
       "    <tr>\n",
       "      <th>4</th>\n",
       "      <td>0</td>\n",
       "      <td>0</td>\n",
       "      <td>0</td>\n",
       "      <td>1</td>\n",
       "    </tr>\n",
       "  </tbody>\n",
       "</table>\n",
       "</div>"
      ]
     },
     "execution_count": 46,
     "metadata": {},
     "output_type": "execute_result"
    }
   ],
   "execution_count": 46
  },
  {
   "metadata": {
    "ExecuteTime": {
     "end_time": "2025-06-17T12:04:56.708916Z",
     "start_time": "2025-06-17T12:04:54.124935Z"
    }
   },
   "cell_type": "code",
   "source": [
    "source = 'cell_count_v2'\n",
    "annotations = []\n",
    "\n",
    "for droplet_id, droplet in droplets[selected_annotations].iterrows():\n",
    "    for label_type, value  in droplet.items():\n",
    "        annotations.append({'droplet_id': droplet_id, 'label_type': label_type, 'value': str(int(value)), 'source': source})\n",
    "\n",
    "annotation_df = pd.DataFrame(annotations)\n",
    "experiment.db.add_annotations(annotation_df)"
   ],
   "id": "f36879c026b62b3e",
   "outputs": [],
   "execution_count": 47
  },
  {
   "metadata": {
    "ExecuteTime": {
     "end_time": "2025-06-17T12:04:56.791294Z",
     "start_time": "2025-06-17T12:04:56.714480Z"
    }
   },
   "cell_type": "code",
   "source": [
    "# Import workpackages\n",
    "wps = glob.glob(os.path.join(os.getenv('EXP_DIR'), exp_id, '*', 'WP_*.csv'))\n",
    "annotations = []\n",
    "for wp in wps:\n",
    "    wp_id = os.path.basename(wp)\n",
    "    df = get_df(wp).sort_values('droplet_id')\n",
    "\n",
    "    for droplet_id, droplet in df.iterrows():\n",
    "        for label_type, value in droplet.items():\n",
    "            if not pd.isna(value):\n",
    "                annotations.append({'droplet_id': droplet_id, 'label_type': label_type, 'value': str(int(value)), 'ap_id': wp_id})\n",
    "\n",
    "annotation_df = pd.DataFrame(annotations)\n",
    "experiment.db.add_annotations(annotation_df)"
   ],
   "id": "ff0f4d2050816729",
   "outputs": [],
   "execution_count": 48
  },
  {
   "metadata": {},
   "cell_type": "code",
   "outputs": [],
   "execution_count": null,
   "source": "",
   "id": "2071229656a700dc"
  }
 ],
 "metadata": {
  "kernelspec": {
   "display_name": "Python 3 (ipykernel)",
   "language": "python",
   "name": "python3"
  },
  "language_info": {
   "codemirror_mode": {
    "name": "ipython",
    "version": 3
   },
   "file_extension": ".py",
   "mimetype": "text/x-python",
   "name": "python",
   "nbconvert_exporter": "python",
   "pygments_lexer": "ipython3",
   "version": "3.12.0"
  }
 },
 "nbformat": 4,
 "nbformat_minor": 5
}
