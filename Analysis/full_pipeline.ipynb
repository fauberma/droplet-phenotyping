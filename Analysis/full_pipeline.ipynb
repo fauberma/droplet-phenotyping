{
 "cells": [
  {
   "cell_type": "markdown",
   "id": "28790032cc8f8d67",
   "metadata": {
    "collapsed": false
   },
   "source": [
    "# Imports"
   ]
  },
  {
   "cell_type": "code",
   "execution_count": null,
   "id": "642012ca-a6d0-4376-a5d2-c48b74927fe1",
   "metadata": {},
   "outputs": [],
   "source": [
    "import sys\n",
    "import os\n",
    "sys.path.append(os.path.join(os.getcwd(), os.pardir))"
   ]
  },
  {
   "cell_type": "code",
   "execution_count": null,
   "id": "9dbb94b41f3c164f",
   "metadata": {
    "collapsed": false
   },
   "outputs": [],
   "source": [
    "from Tools.leica_tools import RawLoader\n",
    "from Tools.sample_tools import Sample\n",
    "from Tools.db_tools import DbManager\n"
   ]
  },
  {
   "cell_type": "markdown",
   "id": "e8923b3feac3bdc",
   "metadata": {
    "collapsed": false
   },
   "source": [
    "# Data prep"
   ]
  },
  {
   "cell_type": "code",
   "execution_count": null,
   "id": "e5c92142d71e463e",
   "metadata": {
    "collapsed": false
   },
   "outputs": [],
   "source": [
    "expID = 'NKIP_FA_067'\n",
    "rawloader = RawLoader(expID)\n",
    "rawloader.frame_df"
   ]
  },
  {
   "cell_type": "markdown",
   "id": "4744df760efd485b",
   "metadata": {
    "collapsed": false
   },
   "source": [
    "# Droplet detection"
   ]
  },
  {
   "cell_type": "markdown",
   "id": "21435bbd1b4041b8",
   "metadata": {
    "collapsed": false
   },
   "source": [
    "Execute a preview run of the droplet detection. An image will be saved to the exp folder in the analyses directory. \n",
    "If droplets are not well detected consider changing the droplet size estimate in setup.xlsx (re-run RawLoader API)."
   ]
  },
  {
   "cell_type": "code",
   "execution_count": null,
   "id": "dabd262fce87cb0c",
   "metadata": {
    "collapsed": false
   },
   "outputs": [],
   "source": [
    "frameID = 0\n",
    "sample = Sample(expID, frameID)\n",
    "sample.detect_droplets(mode='sweep')\n",
    "sample.visualize_droplets(channel=0,save=True)"
   ]
  },
  {
   "cell_type": "markdown",
   "id": "ae78dfa92d330306",
   "metadata": {
    "collapsed": false
   },
   "source": [
    "Run droplet detection through all frames of the experiment. drop_register.csv will be created at the end of the process."
   ]
  },
  {
   "cell_type": "code",
   "execution_count": null,
   "id": "52e05ddcc4c3f98b",
   "metadata": {
    "collapsed": false
   },
   "outputs": [],
   "source": [
    "dbm = DbManager()\n",
    "dbm.generate_drop_register(expID, mode='sweep')\n",
    "dbm.generate_tfrecord(expID)"
   ]
  },
  {
   "cell_type": "code",
   "execution_count": null,
   "outputs": [],
   "source": [],
   "metadata": {
    "collapsed": false
   },
   "id": "7d41fab8088e11f6"
  },
  {
   "cell_type": "markdown",
   "id": "2ae15e52af46d8c",
   "metadata": {
    "collapsed": false
   },
   "source": [
    "# Outlier detection"
   ]
  },
  {
   "cell_type": "code",
   "execution_count": null,
   "id": "9c4d3be52455c8a9",
   "metadata": {
    "collapsed": false
   },
   "outputs": [],
   "source": [
    "expID = 'NKIP_FA_058'\n",
    "dbm = DbManager()\n",
    "dbm.detect_outliers(expID, model_name='outlier_v2.h5')"
   ]
  },
  {
   "cell_type": "code",
   "execution_count": null,
   "id": "bd08e1d5a319d0fa",
   "metadata": {
    "collapsed": false
   },
   "outputs": [],
   "source": [
    "sample = Sample(expID, 0)\n",
    "sample.reload_droplets()\n",
    "sample.visualize_droplets(channel=0)"
   ]
  },
  {
   "cell_type": "code",
   "execution_count": null,
   "id": "e57be55fe7cb8342",
   "metadata": {
    "collapsed": false
   },
   "outputs": [],
   "source": []
  },
  {
   "cell_type": "markdown",
   "id": "62b392b2b9895a4e",
   "metadata": {
    "collapsed": false
   },
   "source": [
    "# Workpackage Generation"
   ]
  },
  {
   "cell_type": "code",
   "execution_count": null,
   "id": "1da084012ff33ba1",
   "metadata": {
    "collapsed": false
   },
   "outputs": [],
   "source": [
    "dbm = DbManager()\n",
    "dbm.generate_wp(expID='NKIP_FA_058', exclude_query='outlier == True')"
   ]
  },
  {
   "cell_type": "code",
   "execution_count": null,
   "id": "9acf74385913f907",
   "metadata": {
    "collapsed": false
   },
   "outputs": [],
   "source": []
  },
  {
   "cell_type": "markdown",
   "id": "e52fb701d8cf1cb1",
   "metadata": {
    "collapsed": false
   },
   "source": [
    "# Cell counting"
   ]
  },
  {
   "cell_type": "code",
   "execution_count": null,
   "id": "c276dccda721909c",
   "metadata": {
    "collapsed": false
   },
   "outputs": [],
   "source": [
    "dbm = DbManager()\n",
    "dbm.cell_count(expID='NKIP_FA_058', model_name='cell_count_v2.h5')"
   ]
  },
  {
   "cell_type": "code",
   "execution_count": null,
   "id": "bb9912f8ea0cf3f2",
   "metadata": {
    "collapsed": false
   },
   "outputs": [],
   "source": []
  }
 ],
 "metadata": {
  "kernelspec": {
   "display_name": "Python 3 (ipykernel)",
   "language": "python",
   "name": "python3"
  },
  "language_info": {
   "codemirror_mode": {
    "name": "ipython",
    "version": 3
   },
   "file_extension": ".py",
   "mimetype": "text/x-python",
   "name": "python",
   "nbconvert_exporter": "python",
   "pygments_lexer": "ipython3",
   "version": "3.12.0"
  }
 },
 "nbformat": 4,
 "nbformat_minor": 5
}
