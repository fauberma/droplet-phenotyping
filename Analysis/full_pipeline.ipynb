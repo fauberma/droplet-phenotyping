{
 "cells": [
  {
   "cell_type": "code",
   "execution_count": 1,
   "id": "2ab2e3e09124eb2c",
   "metadata": {
    "ExecuteTime": {
     "end_time": "2025-07-07T15:28:16.241082Z",
     "start_time": "2025-07-07T15:28:16.075931Z"
    }
   },
   "outputs": [],
   "source": [
    "%load_ext autoreload\n",
    "%autoreload 2"
   ]
  },
  {
   "cell_type": "markdown",
   "id": "28790032cc8f8d67",
   "metadata": {
    "collapsed": false
   },
   "source": [
    "# Imports"
   ]
  },
  {
   "cell_type": "code",
   "execution_count": 2,
   "id": "9dbb94b41f3c164f",
   "metadata": {
    "ExecuteTime": {
     "end_time": "2025-07-07T08:38:03.696559Z",
     "start_time": "2025-07-07T08:38:00.281992Z"
    },
    "collapsed": false
   },
   "outputs": [],
   "source": [
    "import sys\n",
    "import os\n",
    "sys.path.append(os.path.join(os.getcwd(), os.pardir))\n",
    "from Tools.leica_tools import parse_lif\n",
    "from Tools.exp_tools import Experiment"
   ]
  },
  {
   "cell_type": "code",
   "execution_count": 3,
   "id": "6c284155e2d56006",
   "metadata": {
    "ExecuteTime": {
     "end_time": "2025-07-07T08:38:03.716360Z",
     "start_time": "2025-07-07T08:38:03.700249Z"
    }
   },
   "outputs": [],
   "source": [
    "#parse_lif('/Volumes/T7/DMI/NKIP_FA_083/NKIP_FA_083.lif')"
   ]
  },
  {
   "cell_type": "code",
   "execution_count": null,
   "id": "3317db7a",
   "metadata": {},
   "outputs": [],
   "source": []
  },
  {
   "cell_type": "code",
   "execution_count": 68,
   "id": "9720d58a8f535525",
   "metadata": {
    "ExecuteTime": {
     "end_time": "2025-07-07T08:38:03.846503Z",
     "start_time": "2025-07-07T08:38:03.720838Z"
    }
   },
   "outputs": [],
   "source": [
    "expID = 'NKIP_FA_084'\n",
    "experiment = Experiment(expID)"
   ]
  },
  {
   "cell_type": "code",
   "execution_count": 77,
   "id": "6066dcc4",
   "metadata": {},
   "outputs": [
    {
     "name": "stderr",
     "output_type": "stream",
     "text": [
      "2025-08-05 17:15:28.198789: W tensorflow/core/framework/local_rendezvous.cc:404] Local rendezvous is aborting with status: OUT_OF_RANGE: End of sequence\n",
      "2025-08-05 17:15:28.318172: W tensorflow/core/framework/local_rendezvous.cc:404] Local rendezvous is aborting with status: OUT_OF_RANGE: End of sequence\n",
      "2025-08-05 17:15:28.435355: W tensorflow/core/framework/local_rendezvous.cc:404] Local rendezvous is aborting with status: OUT_OF_RANGE: End of sequence\n",
      "2025-08-05 17:15:28.551314: W tensorflow/core/framework/local_rendezvous.cc:404] Local rendezvous is aborting with status: OUT_OF_RANGE: End of sequence\n",
      "2025-08-05 17:15:28.669636: W tensorflow/core/framework/local_rendezvous.cc:404] Local rendezvous is aborting with status: OUT_OF_RANGE: End of sequence\n",
      "2025-08-05 17:15:28.787778: W tensorflow/core/framework/local_rendezvous.cc:404] Local rendezvous is aborting with status: OUT_OF_RANGE: End of sequence\n",
      "2025-08-05 17:15:28.905561: W tensorflow/core/framework/local_rendezvous.cc:404] Local rendezvous is aborting with status: OUT_OF_RANGE: End of sequence\n",
      "2025-08-05 17:15:29.023023: W tensorflow/core/framework/local_rendezvous.cc:404] Local rendezvous is aborting with status: OUT_OF_RANGE: End of sequence\n",
      "2025-08-05 17:15:29.139367: W tensorflow/core/framework/local_rendezvous.cc:404] Local rendezvous is aborting with status: OUT_OF_RANGE: End of sequence\n",
      "2025-08-05 17:15:29.255295: W tensorflow/core/framework/local_rendezvous.cc:404] Local rendezvous is aborting with status: OUT_OF_RANGE: End of sequence\n",
      "2025-08-05 17:15:29.373002: W tensorflow/core/framework/local_rendezvous.cc:404] Local rendezvous is aborting with status: OUT_OF_RANGE: End of sequence\n",
      "2025-08-05 17:15:29.488226: W tensorflow/core/framework/local_rendezvous.cc:404] Local rendezvous is aborting with status: OUT_OF_RANGE: End of sequence\n",
      "2025-08-05 17:15:29.605154: W tensorflow/core/framework/local_rendezvous.cc:404] Local rendezvous is aborting with status: OUT_OF_RANGE: End of sequence\n",
      "2025-08-05 17:15:29.721885: W tensorflow/core/framework/local_rendezvous.cc:404] Local rendezvous is aborting with status: OUT_OF_RANGE: End of sequence\n",
      "2025-08-05 17:15:29.837814: W tensorflow/core/framework/local_rendezvous.cc:404] Local rendezvous is aborting with status: OUT_OF_RANGE: End of sequence\n",
      "2025-08-05 17:15:29.957468: W tensorflow/core/framework/local_rendezvous.cc:404] Local rendezvous is aborting with status: OUT_OF_RANGE: End of sequence\n",
      "2025-08-05 17:15:30.079150: W tensorflow/core/framework/local_rendezvous.cc:404] Local rendezvous is aborting with status: OUT_OF_RANGE: End of sequence\n",
      "2025-08-05 17:15:30.197276: W tensorflow/core/framework/local_rendezvous.cc:404] Local rendezvous is aborting with status: OUT_OF_RANGE: End of sequence\n",
      "2025-08-05 17:15:30.314271: W tensorflow/core/framework/local_rendezvous.cc:404] Local rendezvous is aborting with status: OUT_OF_RANGE: End of sequence\n",
      "2025-08-05 17:15:30.430115: W tensorflow/core/framework/local_rendezvous.cc:404] Local rendezvous is aborting with status: OUT_OF_RANGE: End of sequence\n",
      "2025-08-05 17:15:30.549214: W tensorflow/core/framework/local_rendezvous.cc:404] Local rendezvous is aborting with status: OUT_OF_RANGE: End of sequence\n",
      "2025-08-05 17:15:30.664248: W tensorflow/core/framework/local_rendezvous.cc:404] Local rendezvous is aborting with status: OUT_OF_RANGE: End of sequence\n",
      "2025-08-05 17:15:30.782021: W tensorflow/core/framework/local_rendezvous.cc:404] Local rendezvous is aborting with status: OUT_OF_RANGE: End of sequence\n",
      "2025-08-05 17:15:30.899268: W tensorflow/core/framework/local_rendezvous.cc:404] Local rendezvous is aborting with status: OUT_OF_RANGE: End of sequence\n",
      "2025-08-05 17:15:31.017614: W tensorflow/core/framework/local_rendezvous.cc:404] Local rendezvous is aborting with status: OUT_OF_RANGE: End of sequence\n",
      "2025-08-05 17:15:31.137700: W tensorflow/core/framework/local_rendezvous.cc:404] Local rendezvous is aborting with status: OUT_OF_RANGE: End of sequence\n",
      "2025-08-05 17:15:31.260363: W tensorflow/core/framework/local_rendezvous.cc:404] Local rendezvous is aborting with status: OUT_OF_RANGE: End of sequence\n",
      "2025-08-05 17:15:31.381907: W tensorflow/core/framework/local_rendezvous.cc:404] Local rendezvous is aborting with status: OUT_OF_RANGE: End of sequence\n",
      "2025-08-05 17:15:31.503981: W tensorflow/core/framework/local_rendezvous.cc:404] Local rendezvous is aborting with status: OUT_OF_RANGE: End of sequence\n",
      "2025-08-05 17:15:31.623496: W tensorflow/core/framework/local_rendezvous.cc:404] Local rendezvous is aborting with status: OUT_OF_RANGE: End of sequence\n",
      "2025-08-05 17:15:31.745826: W tensorflow/core/framework/local_rendezvous.cc:404] Local rendezvous is aborting with status: OUT_OF_RANGE: End of sequence\n",
      "2025-08-05 17:15:31.866788: W tensorflow/core/framework/local_rendezvous.cc:404] Local rendezvous is aborting with status: OUT_OF_RANGE: End of sequence\n",
      "2025-08-05 17:15:31.991452: W tensorflow/core/framework/local_rendezvous.cc:404] Local rendezvous is aborting with status: OUT_OF_RANGE: End of sequence\n",
      "2025-08-05 17:15:32.112222: W tensorflow/core/framework/local_rendezvous.cc:404] Local rendezvous is aborting with status: OUT_OF_RANGE: End of sequence\n",
      "2025-08-05 17:15:32.235622: W tensorflow/core/framework/local_rendezvous.cc:404] Local rendezvous is aborting with status: OUT_OF_RANGE: End of sequence\n",
      "2025-08-05 17:15:32.354582: W tensorflow/core/framework/local_rendezvous.cc:404] Local rendezvous is aborting with status: OUT_OF_RANGE: End of sequence\n",
      "2025-08-05 17:15:32.475492: W tensorflow/core/framework/local_rendezvous.cc:404] Local rendezvous is aborting with status: OUT_OF_RANGE: End of sequence\n",
      "2025-08-05 17:15:32.596238: W tensorflow/core/framework/local_rendezvous.cc:404] Local rendezvous is aborting with status: OUT_OF_RANGE: End of sequence\n",
      "2025-08-05 17:15:32.719206: W tensorflow/core/framework/local_rendezvous.cc:404] Local rendezvous is aborting with status: OUT_OF_RANGE: End of sequence\n",
      "2025-08-05 17:15:32.837214: W tensorflow/core/framework/local_rendezvous.cc:404] Local rendezvous is aborting with status: OUT_OF_RANGE: End of sequence\n",
      "2025-08-05 17:15:32.957102: W tensorflow/core/framework/local_rendezvous.cc:404] Local rendezvous is aborting with status: OUT_OF_RANGE: End of sequence\n",
      "2025-08-05 17:15:33.073199: W tensorflow/core/framework/local_rendezvous.cc:404] Local rendezvous is aborting with status: OUT_OF_RANGE: End of sequence\n",
      "2025-08-05 17:15:33.189558: W tensorflow/core/framework/local_rendezvous.cc:404] Local rendezvous is aborting with status: OUT_OF_RANGE: End of sequence\n",
      "2025-08-05 17:15:33.306548: W tensorflow/core/framework/local_rendezvous.cc:404] Local rendezvous is aborting with status: OUT_OF_RANGE: End of sequence\n",
      "2025-08-05 17:15:33.423923: W tensorflow/core/framework/local_rendezvous.cc:404] Local rendezvous is aborting with status: OUT_OF_RANGE: End of sequence\n",
      "2025-08-05 17:15:33.544022: W tensorflow/core/framework/local_rendezvous.cc:404] Local rendezvous is aborting with status: OUT_OF_RANGE: End of sequence\n",
      "2025-08-05 17:15:33.661127: W tensorflow/core/framework/local_rendezvous.cc:404] Local rendezvous is aborting with status: OUT_OF_RANGE: End of sequence\n",
      "2025-08-05 17:15:33.778159: W tensorflow/core/framework/local_rendezvous.cc:404] Local rendezvous is aborting with status: OUT_OF_RANGE: End of sequence\n",
      "2025-08-05 17:15:33.895427: W tensorflow/core/framework/local_rendezvous.cc:404] Local rendezvous is aborting with status: OUT_OF_RANGE: End of sequence\n",
      "2025-08-05 17:15:34.013509: W tensorflow/core/framework/local_rendezvous.cc:404] Local rendezvous is aborting with status: OUT_OF_RANGE: End of sequence\n",
      "2025-08-05 17:15:34.134344: W tensorflow/core/framework/local_rendezvous.cc:404] Local rendezvous is aborting with status: OUT_OF_RANGE: End of sequence\n",
      "2025-08-05 17:15:34.251577: W tensorflow/core/framework/local_rendezvous.cc:404] Local rendezvous is aborting with status: OUT_OF_RANGE: End of sequence\n",
      "2025-08-05 17:15:34.372564: W tensorflow/core/framework/local_rendezvous.cc:404] Local rendezvous is aborting with status: OUT_OF_RANGE: End of sequence\n",
      "2025-08-05 17:15:34.487646: W tensorflow/core/framework/local_rendezvous.cc:404] Local rendezvous is aborting with status: OUT_OF_RANGE: End of sequence\n",
      "2025-08-05 17:15:34.605300: W tensorflow/core/framework/local_rendezvous.cc:404] Local rendezvous is aborting with status: OUT_OF_RANGE: End of sequence\n",
      "2025-08-05 17:15:34.723824: W tensorflow/core/framework/local_rendezvous.cc:404] Local rendezvous is aborting with status: OUT_OF_RANGE: End of sequence\n",
      "2025-08-05 17:15:34.840418: W tensorflow/core/framework/local_rendezvous.cc:404] Local rendezvous is aborting with status: OUT_OF_RANGE: End of sequence\n",
      "2025-08-05 17:15:34.957553: W tensorflow/core/framework/local_rendezvous.cc:404] Local rendezvous is aborting with status: OUT_OF_RANGE: End of sequence\n",
      "2025-08-05 17:15:35.073411: W tensorflow/core/framework/local_rendezvous.cc:404] Local rendezvous is aborting with status: OUT_OF_RANGE: End of sequence\n",
      "2025-08-05 17:15:35.189131: W tensorflow/core/framework/local_rendezvous.cc:404] Local rendezvous is aborting with status: OUT_OF_RANGE: End of sequence\n",
      "2025-08-05 17:15:35.306535: W tensorflow/core/framework/local_rendezvous.cc:404] Local rendezvous is aborting with status: OUT_OF_RANGE: End of sequence\n",
      "2025-08-05 17:15:35.420894: W tensorflow/core/framework/local_rendezvous.cc:404] Local rendezvous is aborting with status: OUT_OF_RANGE: End of sequence\n",
      "2025-08-05 17:15:35.539971: W tensorflow/core/framework/local_rendezvous.cc:404] Local rendezvous is aborting with status: OUT_OF_RANGE: End of sequence\n",
      "2025-08-05 17:15:35.656112: W tensorflow/core/framework/local_rendezvous.cc:404] Local rendezvous is aborting with status: OUT_OF_RANGE: End of sequence\n",
      "2025-08-05 17:15:35.774142: W tensorflow/core/framework/local_rendezvous.cc:404] Local rendezvous is aborting with status: OUT_OF_RANGE: End of sequence\n",
      "2025-08-05 17:15:35.890491: W tensorflow/core/framework/local_rendezvous.cc:404] Local rendezvous is aborting with status: OUT_OF_RANGE: End of sequence\n",
      "2025-08-05 17:15:36.009677: W tensorflow/core/framework/local_rendezvous.cc:404] Local rendezvous is aborting with status: OUT_OF_RANGE: End of sequence\n",
      "2025-08-05 17:15:36.110773: W tensorflow/core/framework/local_rendezvous.cc:404] Local rendezvous is aborting with status: OUT_OF_RANGE: End of sequence\n"
     ]
    }
   ],
   "source": [
    "experiment.generate_wp(labels=['Target', 'dead_Target', 'Effector', 'dead_Effector'], size=100)"
   ]
  },
  {
   "cell_type": "code",
   "execution_count": 78,
   "id": "f9a641d2",
   "metadata": {},
   "outputs": [],
   "source": [
    "experiment.db.clear_annotations()"
   ]
  },
  {
   "cell_type": "code",
   "execution_count": 43,
   "id": "b8345e0672dd29b8",
   "metadata": {
    "ExecuteTime": {
     "end_time": "2025-07-07T09:54:00.459925Z",
     "start_time": "2025-07-07T08:38:31.452198Z"
    }
   },
   "outputs": [],
   "source": [
    "experiment.detect_droplets_legacy(mode='sweep')"
   ]
  },
  {
   "cell_type": "code",
   "execution_count": 52,
   "id": "cfcb641b",
   "metadata": {},
   "outputs": [],
   "source": [
    "df2 = pd.read_csv('/Users/fauberma/MPG/Experiments/NKIP_FA_084_alt/droplets.csv')"
   ]
  },
  {
   "cell_type": "code",
   "execution_count": 63,
   "id": "e7bcbad4ce82b17d",
   "metadata": {
    "ExecuteTime": {
     "end_time": "2025-07-07T10:15:45.168599Z",
     "start_time": "2025-07-07T09:57:06.170508Z"
    }
   },
   "outputs": [
    {
     "name": "stderr",
     "output_type": "stream",
     "text": [
      "2025-07-29 18:54:28.900581: W tensorflow/core/framework/local_rendezvous.cc:404] Local rendezvous is aborting with status: OUT_OF_RANGE: End of sequence\n"
     ]
    },
    {
     "name": "stdout",
     "output_type": "stream",
     "text": [
      "\u001b[1m3835/3835\u001b[0m \u001b[32m━━━━━━━━━━━━━━━━━━━━\u001b[0m\u001b[37m\u001b[0m \u001b[1m402s\u001b[0m 105ms/step\n"
     ]
    },
    {
     "name": "stderr",
     "output_type": "stream",
     "text": [
      "2025-07-29 19:01:10.808777: W tensorflow/core/framework/local_rendezvous.cc:404] Local rendezvous is aborting with status: OUT_OF_RANGE: End of sequence\n",
      "/Users/fauberma/mambaforge/envs/phenotyping_v1/lib/python3.12/contextlib.py:155: UserWarning: Your input ran out of data; interrupting training. Make sure that your dataset or generator can generate at least `steps_per_epoch * epochs` batches. You may need to use the `.repeat()` function when building your dataset.\n",
      "  self.gen.throw(value)\n"
     ]
    }
   ],
   "source": [
    "experiment.cell_count(model_name='cell_count_v3.h5')"
   ]
  },
  {
   "cell_type": "code",
   "execution_count": 13,
   "id": "5c28d55a",
   "metadata": {},
   "outputs": [
    {
     "data": {
      "text/html": [
       "<div>\n",
       "<style scoped>\n",
       "    .dataframe tbody tr th:only-of-type {\n",
       "        vertical-align: middle;\n",
       "    }\n",
       "\n",
       "    .dataframe tbody tr th {\n",
       "        vertical-align: top;\n",
       "    }\n",
       "\n",
       "    .dataframe thead th {\n",
       "        text-align: right;\n",
       "    }\n",
       "</style>\n",
       "<table border=\"1\" class=\"dataframe\">\n",
       "  <thead>\n",
       "    <tr style=\"text-align: right;\">\n",
       "      <th></th>\n",
       "      <th>experiment_id</th>\n",
       "      <th>frame_id</th>\n",
       "      <th>x_min</th>\n",
       "      <th>y_min</th>\n",
       "      <th>x_max</th>\n",
       "      <th>y_max</th>\n",
       "      <th>outlier</th>\n",
       "      <th>time</th>\n",
       "      <th>condition</th>\n",
       "    </tr>\n",
       "    <tr>\n",
       "      <th>droplet_id</th>\n",
       "      <th></th>\n",
       "      <th></th>\n",
       "      <th></th>\n",
       "      <th></th>\n",
       "      <th></th>\n",
       "      <th></th>\n",
       "      <th></th>\n",
       "      <th></th>\n",
       "      <th></th>\n",
       "    </tr>\n",
       "  </thead>\n",
       "  <tbody>\n",
       "    <tr>\n",
       "      <th>0</th>\n",
       "      <td>NKIP_FA_084</td>\n",
       "      <td>0</td>\n",
       "      <td>5106</td>\n",
       "      <td>14745</td>\n",
       "      <td>5244</td>\n",
       "      <td>14883</td>\n",
       "      <td>False</td>\n",
       "      <td>1</td>\n",
       "      <td>Bulk</td>\n",
       "    </tr>\n",
       "    <tr>\n",
       "      <th>1</th>\n",
       "      <td>NKIP_FA_084</td>\n",
       "      <td>0</td>\n",
       "      <td>3751</td>\n",
       "      <td>3632</td>\n",
       "      <td>3889</td>\n",
       "      <td>3770</td>\n",
       "      <td>False</td>\n",
       "      <td>1</td>\n",
       "      <td>Bulk</td>\n",
       "    </tr>\n",
       "    <tr>\n",
       "      <th>2</th>\n",
       "      <td>NKIP_FA_084</td>\n",
       "      <td>0</td>\n",
       "      <td>5626</td>\n",
       "      <td>3548</td>\n",
       "      <td>5764</td>\n",
       "      <td>3686</td>\n",
       "      <td>False</td>\n",
       "      <td>1</td>\n",
       "      <td>Bulk</td>\n",
       "    </tr>\n",
       "    <tr>\n",
       "      <th>3</th>\n",
       "      <td>NKIP_FA_084</td>\n",
       "      <td>0</td>\n",
       "      <td>2857</td>\n",
       "      <td>3465</td>\n",
       "      <td>2995</td>\n",
       "      <td>3603</td>\n",
       "      <td>False</td>\n",
       "      <td>1</td>\n",
       "      <td>Bulk</td>\n",
       "    </tr>\n",
       "    <tr>\n",
       "      <th>4</th>\n",
       "      <td>NKIP_FA_084</td>\n",
       "      <td>0</td>\n",
       "      <td>5498</td>\n",
       "      <td>3455</td>\n",
       "      <td>5636</td>\n",
       "      <td>3593</td>\n",
       "      <td>False</td>\n",
       "      <td>1</td>\n",
       "      <td>Bulk</td>\n",
       "    </tr>\n",
       "    <tr>\n",
       "      <th>...</th>\n",
       "      <td>...</td>\n",
       "      <td>...</td>\n",
       "      <td>...</td>\n",
       "      <td>...</td>\n",
       "      <td>...</td>\n",
       "      <td>...</td>\n",
       "      <td>...</td>\n",
       "      <td>...</td>\n",
       "      <td>...</td>\n",
       "    </tr>\n",
       "    <tr>\n",
       "      <th>122693</th>\n",
       "      <td>NKIP_FA_084</td>\n",
       "      <td>31</td>\n",
       "      <td>5669</td>\n",
       "      <td>16058</td>\n",
       "      <td>5791</td>\n",
       "      <td>16180</td>\n",
       "      <td>False</td>\n",
       "      <td>8</td>\n",
       "      <td>Bulkstain</td>\n",
       "    </tr>\n",
       "    <tr>\n",
       "      <th>122694</th>\n",
       "      <td>NKIP_FA_084</td>\n",
       "      <td>31</td>\n",
       "      <td>3549</td>\n",
       "      <td>2905</td>\n",
       "      <td>3681</td>\n",
       "      <td>3037</td>\n",
       "      <td>False</td>\n",
       "      <td>8</td>\n",
       "      <td>Bulkstain</td>\n",
       "    </tr>\n",
       "    <tr>\n",
       "      <th>122695</th>\n",
       "      <td>NKIP_FA_084</td>\n",
       "      <td>31</td>\n",
       "      <td>97</td>\n",
       "      <td>464</td>\n",
       "      <td>227</td>\n",
       "      <td>594</td>\n",
       "      <td>False</td>\n",
       "      <td>8</td>\n",
       "      <td>Bulkstain</td>\n",
       "    </tr>\n",
       "    <tr>\n",
       "      <th>122696</th>\n",
       "      <td>NKIP_FA_084</td>\n",
       "      <td>31</td>\n",
       "      <td>603</td>\n",
       "      <td>8124</td>\n",
       "      <td>735</td>\n",
       "      <td>8256</td>\n",
       "      <td>False</td>\n",
       "      <td>8</td>\n",
       "      <td>Bulkstain</td>\n",
       "    </tr>\n",
       "    <tr>\n",
       "      <th>122697</th>\n",
       "      <td>NKIP_FA_084</td>\n",
       "      <td>31</td>\n",
       "      <td>5647</td>\n",
       "      <td>14602</td>\n",
       "      <td>5775</td>\n",
       "      <td>14730</td>\n",
       "      <td>False</td>\n",
       "      <td>8</td>\n",
       "      <td>Bulkstain</td>\n",
       "    </tr>\n",
       "  </tbody>\n",
       "</table>\n",
       "<p>122698 rows × 9 columns</p>\n",
       "</div>"
      ],
      "text/plain": [
       "           experiment_id  frame_id  x_min  y_min  x_max  y_max  outlier  time  \\\n",
       "droplet_id                                                                      \n",
       "0            NKIP_FA_084         0   5106  14745   5244  14883    False     1   \n",
       "1            NKIP_FA_084         0   3751   3632   3889   3770    False     1   \n",
       "2            NKIP_FA_084         0   5626   3548   5764   3686    False     1   \n",
       "3            NKIP_FA_084         0   2857   3465   2995   3603    False     1   \n",
       "4            NKIP_FA_084         0   5498   3455   5636   3593    False     1   \n",
       "...                  ...       ...    ...    ...    ...    ...      ...   ...   \n",
       "122693       NKIP_FA_084        31   5669  16058   5791  16180    False     8   \n",
       "122694       NKIP_FA_084        31   3549   2905   3681   3037    False     8   \n",
       "122695       NKIP_FA_084        31     97    464    227    594    False     8   \n",
       "122696       NKIP_FA_084        31    603   8124    735   8256    False     8   \n",
       "122697       NKIP_FA_084        31   5647  14602   5775  14730    False     8   \n",
       "\n",
       "            condition  \n",
       "droplet_id             \n",
       "0                Bulk  \n",
       "1                Bulk  \n",
       "2                Bulk  \n",
       "3                Bulk  \n",
       "4                Bulk  \n",
       "...               ...  \n",
       "122693      Bulkstain  \n",
       "122694      Bulkstain  \n",
       "122695      Bulkstain  \n",
       "122696      Bulkstain  \n",
       "122697      Bulkstain  \n",
       "\n",
       "[122698 rows x 9 columns]"
      ]
     },
     "execution_count": 13,
     "metadata": {},
     "output_type": "execute_result"
    }
   ],
   "source": [
    "experiment.get_droplet_df()"
   ]
  },
  {
   "cell_type": "code",
   "execution_count": 27,
   "id": "9afb0f13",
   "metadata": {},
   "outputs": [],
   "source": [
    "import pandas as pd"
   ]
  },
  {
   "cell_type": "code",
   "execution_count": null,
   "id": "f8fa89f6",
   "metadata": {},
   "outputs": [],
   "source": []
  },
  {
   "cell_type": "markdown",
   "id": "e8923b3feac3bdc",
   "metadata": {
    "collapsed": false
   },
   "source": [
    "# Legacy transfer"
   ]
  },
  {
   "cell_type": "code",
   "execution_count": 3,
   "id": "e6b9bf7d53e849f8",
   "metadata": {
    "ExecuteTime": {
     "end_time": "2025-06-17T11:55:59.380985Z",
     "start_time": "2025-06-17T11:55:59.322974Z"
    }
   },
   "outputs": [],
   "source": [
    "import glob\n",
    "import pandas as pd\n",
    "\n",
    "\n",
    "def get_df(path):\n",
    "    df = pd.read_csv(path)\n",
    "    df.rename(\n",
    "        columns={'GlobalID': 'droplet_id', 'Effector': 'effector', 'Target': 'target', 'dead_Effector': 'dead_effector',\n",
    "                 'dead_Target': 'dead_target'}, inplace=True)\n",
    "    df = df.astype({'droplet_id': int})\n",
    "    df.set_index('droplet_id', inplace=True)\n",
    "    df.drop(columns=['i'], inplace=True)\n",
    "    return df"
   ]
  },
  {
   "cell_type": "code",
   "execution_count": 29,
   "id": "d61e66c03a40cff",
   "metadata": {
    "ExecuteTime": {
     "end_time": "2025-06-17T12:04:49.821033Z",
     "start_time": "2025-06-17T12:04:49.779865Z"
    },
    "collapsed": false
   },
   "outputs": [],
   "source": [
    "exp_id = 'NKIP_FA_082'\n",
    "experiment = Experiment(exp_id)"
   ]
  },
  {
   "cell_type": "code",
   "execution_count": 30,
   "id": "27a575bb5199cd41",
   "metadata": {},
   "outputs": [],
   "source": [
    "# add droplets to db\n",
    "\n",
    "droplets = pd.read_csv(os.path.join(os.getenv('EXP_DIR'), exp_id, 'droplets.csv'))\n",
    "droplets.rename(columns={'GlobalID': 'droplet_id', 'frameID':'frame_id'}, inplace=True)\n",
    "droplets['experiment_id'] = exp_id\n",
    "\n",
    "experiment.db.add_droplets(droplets)\n",
    "tfrecord_manifest = {\n",
    "    'n_frames': droplets.index.size,\n",
    "    'y_shape': 128,\n",
    "    'x_shape': 128,\n",
    "    'n_channels': experiment.handler.channel_df.index.size,\n",
    "    'channel_info': experiment.handler.channel_df['channel_name'].to_dict(),\n",
    "}\n",
    "def frame_generator():\n",
    "    for frame_id in experiment.frame_df.index:\n",
    "        yield experiment.handler.get_frame(frame_id)\n",
    "experiment.db.update_manifest(tfrecord_manifest)"
   ]
  },
  {
   "cell_type": "code",
   "execution_count": 31,
   "id": "76a6953d46b1c9de",
   "metadata": {
    "ExecuteTime": {
     "end_time": "2025-06-17T12:04:53.161797Z",
     "start_time": "2025-06-17T12:04:52.983906Z"
    }
   },
   "outputs": [],
   "source": [
    "experiment.db.clear_annotations()"
   ]
  },
  {
   "cell_type": "code",
   "execution_count": 32,
   "id": "a9225ca289a2e6e9",
   "metadata": {
    "ExecuteTime": {
     "end_time": "2025-06-17T12:04:53.472090Z",
     "start_time": "2025-06-17T12:04:53.327284Z"
    }
   },
   "outputs": [
    {
     "data": {
      "text/html": [
       "<div>\n",
       "<style scoped>\n",
       "    .dataframe tbody tr th:only-of-type {\n",
       "        vertical-align: middle;\n",
       "    }\n",
       "\n",
       "    .dataframe tbody tr th {\n",
       "        vertical-align: top;\n",
       "    }\n",
       "\n",
       "    .dataframe thead th {\n",
       "        text-align: right;\n",
       "    }\n",
       "</style>\n",
       "<table border=\"1\" class=\"dataframe\">\n",
       "  <thead>\n",
       "    <tr style=\"text-align: right;\">\n",
       "      <th></th>\n",
       "      <th>dead_effector</th>\n",
       "      <th>dead_target</th>\n",
       "      <th>effector</th>\n",
       "      <th>target</th>\n",
       "    </tr>\n",
       "    <tr>\n",
       "      <th>droplet_id</th>\n",
       "      <th></th>\n",
       "      <th></th>\n",
       "      <th></th>\n",
       "      <th></th>\n",
       "    </tr>\n",
       "  </thead>\n",
       "  <tbody>\n",
       "    <tr>\n",
       "      <th>0</th>\n",
       "      <td>0</td>\n",
       "      <td>0</td>\n",
       "      <td>1</td>\n",
       "      <td>0</td>\n",
       "    </tr>\n",
       "    <tr>\n",
       "      <th>1</th>\n",
       "      <td>0</td>\n",
       "      <td>0</td>\n",
       "      <td>0</td>\n",
       "      <td>1</td>\n",
       "    </tr>\n",
       "    <tr>\n",
       "      <th>2</th>\n",
       "      <td>0</td>\n",
       "      <td>0</td>\n",
       "      <td>0</td>\n",
       "      <td>2</td>\n",
       "    </tr>\n",
       "    <tr>\n",
       "      <th>3</th>\n",
       "      <td>0</td>\n",
       "      <td>0</td>\n",
       "      <td>0</td>\n",
       "      <td>0</td>\n",
       "    </tr>\n",
       "    <tr>\n",
       "      <th>4</th>\n",
       "      <td>0</td>\n",
       "      <td>0</td>\n",
       "      <td>1</td>\n",
       "      <td>0</td>\n",
       "    </tr>\n",
       "  </tbody>\n",
       "</table>\n",
       "</div>"
      ],
      "text/plain": [
       "            dead_effector  dead_target  effector  target\n",
       "droplet_id                                              \n",
       "0                       0            0         1       0\n",
       "1                       0            0         0       1\n",
       "2                       0            0         0       2\n",
       "3                       0            0         0       0\n",
       "4                       0            0         1       0"
      ]
     },
     "execution_count": 32,
     "metadata": {},
     "output_type": "execute_result"
    }
   ],
   "source": [
    "# add cell_count predictions to annotations table\n",
    "prefix = 'cell_count_v3'\n",
    "droplets = pd.read_csv(os.path.join(os.getenv('EXP_DIR'), exp_id, 'droplets.csv'))\n",
    "droplets.rename(columns={'GlobalID': 'droplet_id', 'frameID':'frame_id'}, inplace=True)\n",
    "droplets['experiment_id'] = exp_id\n",
    "droplets.set_index('droplet_id', inplace=True)\n",
    "droplets.rename(columns={f'{prefix}_dead_Effector': 'dead_effector',\n",
    "                         f'{prefix}_Target': 'target',\n",
    "                         f'{prefix}_Effector': 'effector',\n",
    "                         f'{prefix}_dead_Target': 'dead_target'}, inplace=True)\n",
    "selected_annotations = ['dead_effector', 'dead_target', 'effector', 'target']\n",
    "droplets[selected_annotations].head()"
   ]
  },
  {
   "cell_type": "code",
   "execution_count": 33,
   "id": "f36879c026b62b3e",
   "metadata": {
    "ExecuteTime": {
     "end_time": "2025-06-17T12:04:56.708916Z",
     "start_time": "2025-06-17T12:04:54.124935Z"
    }
   },
   "outputs": [
    {
     "name": "stdout",
     "output_type": "stream",
     "text": [
      "   droplet_id     label_type value         source\n",
      "0           0  dead_effector     0  cell_count_v3\n",
      "1           0    dead_target     0  cell_count_v3\n",
      "2           0       effector     1  cell_count_v3\n",
      "3           0         target     0  cell_count_v3\n",
      "4           1  dead_effector     0  cell_count_v3\n"
     ]
    }
   ],
   "source": [
    "source = 'cell_count_v3'\n",
    "annotations = []\n",
    "\n",
    "for droplet_id, droplet in droplets[selected_annotations].iterrows():\n",
    "    for label_type, value  in droplet.items():\n",
    "        annotations.append({'droplet_id': droplet_id, 'label_type': label_type, 'value': str(int(value)), 'source': source})\n",
    "\n",
    "annotation_df = pd.DataFrame(annotations)\n",
    "print(annotation_df.head())\n",
    "experiment.db.add_annotations(annotation_df)"
   ]
  },
  {
   "cell_type": "code",
   "execution_count": null,
   "id": "ff0f4d2050816729",
   "metadata": {
    "ExecuteTime": {
     "end_time": "2025-06-17T12:04:56.791294Z",
     "start_time": "2025-06-17T12:04:56.714480Z"
    }
   },
   "outputs": [],
   "source": [
    "# Import workpackages\n",
    "wps = glob.glob(os.path.join(os.getenv('EXP_DIR'), exp_id, '*', 'WP_*.csv'))\n",
    "annotations = []\n",
    "for wp in wps:\n",
    "    wp_id = os.path.basename(wp)\n",
    "    df = get_df(wp).sort_values('droplet_id')\n",
    "\n",
    "    for droplet_id, droplet in df.iterrows():\n",
    "        for label_type, value in droplet.items():\n",
    "            if not pd.isna(value):\n",
    "                annotations.append({'droplet_id': droplet_id, 'label_type': label_type, 'value': str(int(value)), 'ap_id': wp_id})\n",
    "\n",
    "annotations['status'] = 'completed'\n",
    "\n",
    "annotation_df = pd.DataFrame(annotations)\n",
    "experiment.db.add_annotations(annotation_df)"
   ]
  }
 ],
 "metadata": {
  "kernelspec": {
   "display_name": "phenotyping_v1",
   "language": "python",
   "name": "python3"
  },
  "language_info": {
   "codemirror_mode": {
    "name": "ipython",
    "version": 3
   },
   "file_extension": ".py",
   "mimetype": "text/x-python",
   "name": "python",
   "nbconvert_exporter": "python",
   "pygments_lexer": "ipython3",
   "version": "3.12.0"
  }
 },
 "nbformat": 4,
 "nbformat_minor": 5
}
