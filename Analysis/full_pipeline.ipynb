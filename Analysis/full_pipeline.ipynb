{
 "cells": [
  {
   "cell_type": "markdown",
   "id": "28790032cc8f8d67",
   "metadata": {
    "collapsed": false
   },
   "source": [
    "# Imports"
   ]
  },
  {
   "cell_type": "code",
   "execution_count": 1,
   "id": "642012ca-a6d0-4376-a5d2-c48b74927fe1",
   "metadata": {
    "ExecuteTime": {
     "end_time": "2024-09-11T09:58:47.819409Z",
     "start_time": "2024-09-11T09:58:47.816395Z"
    }
   },
   "outputs": [],
   "source": [
    "import sys\n",
    "import os\n",
    "sys.path.append(os.path.join(os.getcwd(), os.pardir))"
   ]
  },
  {
   "cell_type": "code",
   "execution_count": 2,
   "id": "9dbb94b41f3c164f",
   "metadata": {
    "collapsed": false,
    "ExecuteTime": {
     "end_time": "2024-09-11T09:58:51.718128Z",
     "start_time": "2024-09-11T09:58:48.525009Z"
    }
   },
   "outputs": [],
   "source": [
    "from Tools.leica_tools import RawLoader, parse_lif\n",
    "from Tools.sample_tools import Sample\n",
    "from Tools.db_tools import DbManager\n"
   ]
  },
  {
   "cell_type": "code",
   "execution_count": 14,
   "outputs": [
    {
     "data": {
      "text/plain": "    index                            name           timestamp  t_index  \\\n0       0     1h/positive_pressure Merged 2024-09-10 16:10:43        0   \n1       1     1h/negative_pressure Merged 2024-09-10 16:19:30        0   \n2       2  2h_8h/positive_pressure Merged 2024-09-10 17:21:14        0   \n3       2  2h_8h/positive_pressure Merged 2024-09-10 18:21:14        1   \n4       2  2h_8h/positive_pressure Merged 2024-09-10 19:21:14        2   \n5       2  2h_8h/positive_pressure Merged 2024-09-10 20:21:14        3   \n6       2  2h_8h/positive_pressure Merged 2024-09-10 21:21:14        4   \n7       2  2h_8h/positive_pressure Merged 2024-09-10 22:21:14        5   \n8       2  2h_8h/positive_pressure Merged 2024-09-10 23:21:14        6   \n9       3  2h_8h/negative_pressure Merged 2024-09-10 17:29:47        0   \n10      3  2h_8h/negative_pressure Merged 2024-09-10 18:29:47        1   \n11      3  2h_8h/negative_pressure Merged 2024-09-10 19:29:48        2   \n12      3  2h_8h/negative_pressure Merged 2024-09-10 20:29:47        3   \n13      3  2h_8h/negative_pressure Merged 2024-09-10 21:29:47        4   \n14      3  2h_8h/negative_pressure Merged 2024-09-10 22:29:47        5   \n15      3  2h_8h/negative_pressure Merged 2024-09-10 23:29:48        6   \n\n    n_channels  bit_depth  resolution  merged  \n0            4         16    1.538462    True  \n1            4         16    1.538462    True  \n2            4         16    1.538462    True  \n3            4         16    1.538462    True  \n4            4         16    1.538462    True  \n5            4         16    1.538462    True  \n6            4         16    1.538462    True  \n7            4         16    1.538462    True  \n8            4         16    1.538462    True  \n9            4         16    1.538462    True  \n10           4         16    1.538462    True  \n11           4         16    1.538462    True  \n12           4         16    1.538462    True  \n13           4         16    1.538462    True  \n14           4         16    1.538462    True  \n15           4         16    1.538462    True  ",
      "text/html": "<div>\n<style scoped>\n    .dataframe tbody tr th:only-of-type {\n        vertical-align: middle;\n    }\n\n    .dataframe tbody tr th {\n        vertical-align: top;\n    }\n\n    .dataframe thead th {\n        text-align: right;\n    }\n</style>\n<table border=\"1\" class=\"dataframe\">\n  <thead>\n    <tr style=\"text-align: right;\">\n      <th></th>\n      <th>index</th>\n      <th>name</th>\n      <th>timestamp</th>\n      <th>t_index</th>\n      <th>n_channels</th>\n      <th>bit_depth</th>\n      <th>resolution</th>\n      <th>merged</th>\n    </tr>\n  </thead>\n  <tbody>\n    <tr>\n      <th>0</th>\n      <td>0</td>\n      <td>1h/positive_pressure Merged</td>\n      <td>2024-09-10 16:10:43</td>\n      <td>0</td>\n      <td>4</td>\n      <td>16</td>\n      <td>1.538462</td>\n      <td>True</td>\n    </tr>\n    <tr>\n      <th>1</th>\n      <td>1</td>\n      <td>1h/negative_pressure Merged</td>\n      <td>2024-09-10 16:19:30</td>\n      <td>0</td>\n      <td>4</td>\n      <td>16</td>\n      <td>1.538462</td>\n      <td>True</td>\n    </tr>\n    <tr>\n      <th>2</th>\n      <td>2</td>\n      <td>2h_8h/positive_pressure Merged</td>\n      <td>2024-09-10 17:21:14</td>\n      <td>0</td>\n      <td>4</td>\n      <td>16</td>\n      <td>1.538462</td>\n      <td>True</td>\n    </tr>\n    <tr>\n      <th>3</th>\n      <td>2</td>\n      <td>2h_8h/positive_pressure Merged</td>\n      <td>2024-09-10 18:21:14</td>\n      <td>1</td>\n      <td>4</td>\n      <td>16</td>\n      <td>1.538462</td>\n      <td>True</td>\n    </tr>\n    <tr>\n      <th>4</th>\n      <td>2</td>\n      <td>2h_8h/positive_pressure Merged</td>\n      <td>2024-09-10 19:21:14</td>\n      <td>2</td>\n      <td>4</td>\n      <td>16</td>\n      <td>1.538462</td>\n      <td>True</td>\n    </tr>\n    <tr>\n      <th>5</th>\n      <td>2</td>\n      <td>2h_8h/positive_pressure Merged</td>\n      <td>2024-09-10 20:21:14</td>\n      <td>3</td>\n      <td>4</td>\n      <td>16</td>\n      <td>1.538462</td>\n      <td>True</td>\n    </tr>\n    <tr>\n      <th>6</th>\n      <td>2</td>\n      <td>2h_8h/positive_pressure Merged</td>\n      <td>2024-09-10 21:21:14</td>\n      <td>4</td>\n      <td>4</td>\n      <td>16</td>\n      <td>1.538462</td>\n      <td>True</td>\n    </tr>\n    <tr>\n      <th>7</th>\n      <td>2</td>\n      <td>2h_8h/positive_pressure Merged</td>\n      <td>2024-09-10 22:21:14</td>\n      <td>5</td>\n      <td>4</td>\n      <td>16</td>\n      <td>1.538462</td>\n      <td>True</td>\n    </tr>\n    <tr>\n      <th>8</th>\n      <td>2</td>\n      <td>2h_8h/positive_pressure Merged</td>\n      <td>2024-09-10 23:21:14</td>\n      <td>6</td>\n      <td>4</td>\n      <td>16</td>\n      <td>1.538462</td>\n      <td>True</td>\n    </tr>\n    <tr>\n      <th>9</th>\n      <td>3</td>\n      <td>2h_8h/negative_pressure Merged</td>\n      <td>2024-09-10 17:29:47</td>\n      <td>0</td>\n      <td>4</td>\n      <td>16</td>\n      <td>1.538462</td>\n      <td>True</td>\n    </tr>\n    <tr>\n      <th>10</th>\n      <td>3</td>\n      <td>2h_8h/negative_pressure Merged</td>\n      <td>2024-09-10 18:29:47</td>\n      <td>1</td>\n      <td>4</td>\n      <td>16</td>\n      <td>1.538462</td>\n      <td>True</td>\n    </tr>\n    <tr>\n      <th>11</th>\n      <td>3</td>\n      <td>2h_8h/negative_pressure Merged</td>\n      <td>2024-09-10 19:29:48</td>\n      <td>2</td>\n      <td>4</td>\n      <td>16</td>\n      <td>1.538462</td>\n      <td>True</td>\n    </tr>\n    <tr>\n      <th>12</th>\n      <td>3</td>\n      <td>2h_8h/negative_pressure Merged</td>\n      <td>2024-09-10 20:29:47</td>\n      <td>3</td>\n      <td>4</td>\n      <td>16</td>\n      <td>1.538462</td>\n      <td>True</td>\n    </tr>\n    <tr>\n      <th>13</th>\n      <td>3</td>\n      <td>2h_8h/negative_pressure Merged</td>\n      <td>2024-09-10 21:29:47</td>\n      <td>4</td>\n      <td>4</td>\n      <td>16</td>\n      <td>1.538462</td>\n      <td>True</td>\n    </tr>\n    <tr>\n      <th>14</th>\n      <td>3</td>\n      <td>2h_8h/negative_pressure Merged</td>\n      <td>2024-09-10 22:29:47</td>\n      <td>5</td>\n      <td>4</td>\n      <td>16</td>\n      <td>1.538462</td>\n      <td>True</td>\n    </tr>\n    <tr>\n      <th>15</th>\n      <td>3</td>\n      <td>2h_8h/negative_pressure Merged</td>\n      <td>2024-09-10 23:29:48</td>\n      <td>6</td>\n      <td>4</td>\n      <td>16</td>\n      <td>1.538462</td>\n      <td>True</td>\n    </tr>\n  </tbody>\n</table>\n</div>"
     },
     "execution_count": 14,
     "metadata": {},
     "output_type": "execute_result"
    }
   ],
   "source": [
    "parse_lif('/Volumes/T7/DMI/NKIP_FA_069/NKIP_FA_069.lif')"
   ],
   "metadata": {
    "collapsed": false,
    "ExecuteTime": {
     "end_time": "2024-09-11T08:52:01.295792Z",
     "start_time": "2024-09-11T08:52:01.265428Z"
    }
   },
   "id": "bfba379a6574fe19"
  },
  {
   "cell_type": "markdown",
   "id": "e8923b3feac3bdc",
   "metadata": {
    "collapsed": false
   },
   "source": [
    "# Data prep"
   ]
  },
  {
   "cell_type": "code",
   "execution_count": 15,
   "id": "e5c92142d71e463e",
   "metadata": {
    "collapsed": false,
    "ExecuteTime": {
     "end_time": "2024-09-11T08:58:52.585767Z",
     "start_time": "2024-09-11T08:58:52.559595Z"
    }
   },
   "outputs": [
    {
     "data": {
      "text/plain": "         droplet_size  size_range  image_index  t_index  time  \\\nframeID                                                         \n0                  80           5            0        0     1   \n1                  80           5            1        0     2   \n2                  80           5            1        1     3   \n3                  80           5            1        2     4   \n4                  80           5            1        3     5   \n5                  80           5            1        4     6   \n6                  80           5            1        5     7   \n7                  80           5            1        6     8   \n\n                                                path  \nframeID                                               \n0        /Volumes/T7/DMI/NKIP_FA_068/NKIP_FA_068.lif  \n1        /Volumes/T7/DMI/NKIP_FA_068/NKIP_FA_068.lif  \n2        /Volumes/T7/DMI/NKIP_FA_068/NKIP_FA_068.lif  \n3        /Volumes/T7/DMI/NKIP_FA_068/NKIP_FA_068.lif  \n4        /Volumes/T7/DMI/NKIP_FA_068/NKIP_FA_068.lif  \n5        /Volumes/T7/DMI/NKIP_FA_068/NKIP_FA_068.lif  \n6        /Volumes/T7/DMI/NKIP_FA_068/NKIP_FA_068.lif  \n7        /Volumes/T7/DMI/NKIP_FA_068/NKIP_FA_068.lif  ",
      "text/html": "<div>\n<style scoped>\n    .dataframe tbody tr th:only-of-type {\n        vertical-align: middle;\n    }\n\n    .dataframe tbody tr th {\n        vertical-align: top;\n    }\n\n    .dataframe thead th {\n        text-align: right;\n    }\n</style>\n<table border=\"1\" class=\"dataframe\">\n  <thead>\n    <tr style=\"text-align: right;\">\n      <th></th>\n      <th>droplet_size</th>\n      <th>size_range</th>\n      <th>image_index</th>\n      <th>t_index</th>\n      <th>time</th>\n      <th>path</th>\n    </tr>\n    <tr>\n      <th>frameID</th>\n      <th></th>\n      <th></th>\n      <th></th>\n      <th></th>\n      <th></th>\n      <th></th>\n    </tr>\n  </thead>\n  <tbody>\n    <tr>\n      <th>0</th>\n      <td>80</td>\n      <td>5</td>\n      <td>0</td>\n      <td>0</td>\n      <td>1</td>\n      <td>/Volumes/T7/DMI/NKIP_FA_068/NKIP_FA_068.lif</td>\n    </tr>\n    <tr>\n      <th>1</th>\n      <td>80</td>\n      <td>5</td>\n      <td>1</td>\n      <td>0</td>\n      <td>2</td>\n      <td>/Volumes/T7/DMI/NKIP_FA_068/NKIP_FA_068.lif</td>\n    </tr>\n    <tr>\n      <th>2</th>\n      <td>80</td>\n      <td>5</td>\n      <td>1</td>\n      <td>1</td>\n      <td>3</td>\n      <td>/Volumes/T7/DMI/NKIP_FA_068/NKIP_FA_068.lif</td>\n    </tr>\n    <tr>\n      <th>3</th>\n      <td>80</td>\n      <td>5</td>\n      <td>1</td>\n      <td>2</td>\n      <td>4</td>\n      <td>/Volumes/T7/DMI/NKIP_FA_068/NKIP_FA_068.lif</td>\n    </tr>\n    <tr>\n      <th>4</th>\n      <td>80</td>\n      <td>5</td>\n      <td>1</td>\n      <td>3</td>\n      <td>5</td>\n      <td>/Volumes/T7/DMI/NKIP_FA_068/NKIP_FA_068.lif</td>\n    </tr>\n    <tr>\n      <th>5</th>\n      <td>80</td>\n      <td>5</td>\n      <td>1</td>\n      <td>4</td>\n      <td>6</td>\n      <td>/Volumes/T7/DMI/NKIP_FA_068/NKIP_FA_068.lif</td>\n    </tr>\n    <tr>\n      <th>6</th>\n      <td>80</td>\n      <td>5</td>\n      <td>1</td>\n      <td>5</td>\n      <td>7</td>\n      <td>/Volumes/T7/DMI/NKIP_FA_068/NKIP_FA_068.lif</td>\n    </tr>\n    <tr>\n      <th>7</th>\n      <td>80</td>\n      <td>5</td>\n      <td>1</td>\n      <td>6</td>\n      <td>8</td>\n      <td>/Volumes/T7/DMI/NKIP_FA_068/NKIP_FA_068.lif</td>\n    </tr>\n  </tbody>\n</table>\n</div>"
     },
     "execution_count": 15,
     "metadata": {},
     "output_type": "execute_result"
    }
   ],
   "source": [
    "expID = 'NKIP_FA_068'\n",
    "rawloader = RawLoader(expID)\n",
    "rawloader.frame_df"
   ]
  },
  {
   "cell_type": "markdown",
   "id": "4744df760efd485b",
   "metadata": {
    "collapsed": false
   },
   "source": [
    "# Droplet detection"
   ]
  },
  {
   "cell_type": "markdown",
   "id": "21435bbd1b4041b8",
   "metadata": {
    "collapsed": false
   },
   "source": [
    "Execute a preview run of the droplet detection. An image will be saved to the exp folder in the analyses directory. \n",
    "If droplets are not well detected consider changing the droplet size estimate in setup.xlsx (re-run RawLoader API)."
   ]
  },
  {
   "cell_type": "code",
   "execution_count": 16,
   "id": "dabd262fce87cb0c",
   "metadata": {
    "collapsed": false,
    "ExecuteTime": {
     "end_time": "2024-09-11T09:01:32.417775Z",
     "start_time": "2024-09-11T08:59:02.577180Z"
    }
   },
   "outputs": [
    {
     "name": "stdout",
     "output_type": "stream",
     "text": [
      "8410 droplets in frame 0 detected \n"
     ]
    }
   ],
   "source": [
    "frameID = 0\n",
    "sample = Sample(expID, frameID)\n",
    "sample.detect_droplets(mode='sweep')\n",
    "sample.visualize_droplets(channel=0,save=True)"
   ]
  },
  {
   "cell_type": "markdown",
   "id": "ae78dfa92d330306",
   "metadata": {
    "collapsed": false
   },
   "source": [
    "Run droplet detection through all frames of the experiment. drop_register.csv will be created at the end of the process."
   ]
  },
  {
   "cell_type": "code",
   "execution_count": 17,
   "id": "52e05ddcc4c3f98b",
   "metadata": {
    "collapsed": false,
    "ExecuteTime": {
     "end_time": "2024-09-11T09:18:35.065858Z",
     "start_time": "2024-09-11T09:02:35.506999Z"
    }
   },
   "outputs": [
    {
     "name": "stdout",
     "output_type": "stream",
     "text": [
      "8410 droplets in frame 0 detected \n",
      "8136 droplets in frame 1 detected \n",
      "7660 droplets in frame 2 detected \n",
      "7358 droplets in frame 3 detected \n",
      "7158 droplets in frame 4 detected \n",
      "7084 droplets in frame 5 detected \n",
      "7065 droplets in frame 6 detected \n",
      "7014 droplets in frame 7 detected \n"
     ]
    }
   ],
   "source": [
    "dbm = DbManager()\n",
    "dbm.detect_droplets(expID, mode='sweep')"
   ]
  },
  {
   "cell_type": "code",
   "execution_count": null,
   "outputs": [],
   "source": [],
   "metadata": {
    "collapsed": false
   },
   "id": "7d41fab8088e11f6"
  },
  {
   "cell_type": "markdown",
   "id": "2ae15e52af46d8c",
   "metadata": {
    "collapsed": false
   },
   "source": [
    "# Outlier detection"
   ]
  },
  {
   "cell_type": "code",
   "execution_count": 4,
   "id": "9c4d3be52455c8a9",
   "metadata": {
    "collapsed": false,
    "ExecuteTime": {
     "end_time": "2024-09-11T10:00:55.396023Z",
     "start_time": "2024-09-11T09:59:40.785406Z"
    }
   },
   "outputs": [
    {
     "name": "stderr",
     "output_type": "stream",
     "text": [
      "WARNING:absl:Compiled the loaded model, but the compiled metrics have yet to be built. `model.compile_metrics` will be empty until you train or evaluate the model.\n"
     ]
    },
    {
     "name": "stdout",
     "output_type": "stream",
     "text": [
      "\u001B[1m1872/1872\u001B[0m \u001B[32m━━━━━━━━━━━━━━━━━━━━\u001B[0m\u001B[37m\u001B[0m \u001B[1m62s\u001B[0m 33ms/step\n"
     ]
    },
    {
     "name": "stderr",
     "output_type": "stream",
     "text": [
      "2024-09-11 12:00:42.638338: W tensorflow/core/framework/local_rendezvous.cc:404] Local rendezvous is aborting with status: OUT_OF_RANGE: End of sequence\n",
      "/Users/fauberma/mambaforge/envs/phenotyping/lib/python3.12/contextlib.py:155: UserWarning: Your input ran out of data; interrupting training. Make sure that your dataset or generator can generate at least `steps_per_epoch * epochs` batches. You may need to use the `.repeat()` function when building your dataset.\n",
      "  self.gen.throw(value)\n",
      "2024-09-11 12:00:47.776664: W tensorflow/core/framework/local_rendezvous.cc:404] Local rendezvous is aborting with status: OUT_OF_RANGE: End of sequence\n",
      "2024-09-11 12:00:48.338451: W tensorflow/core/framework/local_rendezvous.cc:404] Local rendezvous is aborting with status: OUT_OF_RANGE: End of sequence\n",
      "2024-09-11 12:00:48.438112: W tensorflow/core/framework/local_rendezvous.cc:404] Local rendezvous is aborting with status: OUT_OF_RANGE: End of sequence\n",
      "2024-09-11 12:00:48.536522: W tensorflow/core/framework/local_rendezvous.cc:404] Local rendezvous is aborting with status: OUT_OF_RANGE: End of sequence\n",
      "2024-09-11 12:00:48.635232: W tensorflow/core/framework/local_rendezvous.cc:404] Local rendezvous is aborting with status: OUT_OF_RANGE: End of sequence\n",
      "2024-09-11 12:00:48.737540: W tensorflow/core/framework/local_rendezvous.cc:404] Local rendezvous is aborting with status: OUT_OF_RANGE: End of sequence\n",
      "2024-09-11 12:00:48.835505: W tensorflow/core/framework/local_rendezvous.cc:404] Local rendezvous is aborting with status: OUT_OF_RANGE: End of sequence\n",
      "2024-09-11 12:00:48.941072: W tensorflow/core/framework/local_rendezvous.cc:404] Local rendezvous is aborting with status: OUT_OF_RANGE: End of sequence\n",
      "2024-09-11 12:00:49.037667: W tensorflow/core/framework/local_rendezvous.cc:404] Local rendezvous is aborting with status: OUT_OF_RANGE: End of sequence\n",
      "2024-09-11 12:00:49.136711: W tensorflow/core/framework/local_rendezvous.cc:404] Local rendezvous is aborting with status: OUT_OF_RANGE: End of sequence\n",
      "2024-09-11 12:00:49.235921: W tensorflow/core/framework/local_rendezvous.cc:404] Local rendezvous is aborting with status: OUT_OF_RANGE: End of sequence\n",
      "2024-09-11 12:00:49.333587: W tensorflow/core/framework/local_rendezvous.cc:404] Local rendezvous is aborting with status: OUT_OF_RANGE: End of sequence\n",
      "2024-09-11 12:00:49.429958: W tensorflow/core/framework/local_rendezvous.cc:404] Local rendezvous is aborting with status: OUT_OF_RANGE: End of sequence\n",
      "2024-09-11 12:00:49.533793: W tensorflow/core/framework/local_rendezvous.cc:404] Local rendezvous is aborting with status: OUT_OF_RANGE: End of sequence\n",
      "2024-09-11 12:00:49.633096: W tensorflow/core/framework/local_rendezvous.cc:404] Local rendezvous is aborting with status: OUT_OF_RANGE: End of sequence\n",
      "2024-09-11 12:00:49.727537: W tensorflow/core/framework/local_rendezvous.cc:404] Local rendezvous is aborting with status: OUT_OF_RANGE: End of sequence\n",
      "2024-09-11 12:00:49.828424: W tensorflow/core/framework/local_rendezvous.cc:404] Local rendezvous is aborting with status: OUT_OF_RANGE: End of sequence\n",
      "2024-09-11 12:00:49.927252: W tensorflow/core/framework/local_rendezvous.cc:404] Local rendezvous is aborting with status: OUT_OF_RANGE: End of sequence\n",
      "2024-09-11 12:00:50.023783: W tensorflow/core/framework/local_rendezvous.cc:404] Local rendezvous is aborting with status: OUT_OF_RANGE: End of sequence\n",
      "2024-09-11 12:00:50.124286: W tensorflow/core/framework/local_rendezvous.cc:404] Local rendezvous is aborting with status: OUT_OF_RANGE: End of sequence\n",
      "2024-09-11 12:00:50.223614: W tensorflow/core/framework/local_rendezvous.cc:404] Local rendezvous is aborting with status: OUT_OF_RANGE: End of sequence\n",
      "2024-09-11 12:00:50.320050: W tensorflow/core/framework/local_rendezvous.cc:404] Local rendezvous is aborting with status: OUT_OF_RANGE: End of sequence\n",
      "2024-09-11 12:00:50.420445: W tensorflow/core/framework/local_rendezvous.cc:404] Local rendezvous is aborting with status: OUT_OF_RANGE: End of sequence\n",
      "2024-09-11 12:00:50.516920: W tensorflow/core/framework/local_rendezvous.cc:404] Local rendezvous is aborting with status: OUT_OF_RANGE: End of sequence\n",
      "2024-09-11 12:00:50.614055: W tensorflow/core/framework/local_rendezvous.cc:404] Local rendezvous is aborting with status: OUT_OF_RANGE: End of sequence\n",
      "2024-09-11 12:00:51.043801: W tensorflow/core/framework/local_rendezvous.cc:404] Local rendezvous is aborting with status: OUT_OF_RANGE: End of sequence\n",
      "2024-09-11 12:00:51.149444: W tensorflow/core/framework/local_rendezvous.cc:404] Local rendezvous is aborting with status: OUT_OF_RANGE: End of sequence\n",
      "2024-09-11 12:00:51.259451: W tensorflow/core/framework/local_rendezvous.cc:404] Local rendezvous is aborting with status: OUT_OF_RANGE: End of sequence\n",
      "2024-09-11 12:00:51.366337: W tensorflow/core/framework/local_rendezvous.cc:404] Local rendezvous is aborting with status: OUT_OF_RANGE: End of sequence\n",
      "2024-09-11 12:00:51.471159: W tensorflow/core/framework/local_rendezvous.cc:404] Local rendezvous is aborting with status: OUT_OF_RANGE: End of sequence\n",
      "2024-09-11 12:00:51.583616: W tensorflow/core/framework/local_rendezvous.cc:404] Local rendezvous is aborting with status: OUT_OF_RANGE: End of sequence\n",
      "2024-09-11 12:00:51.692348: W tensorflow/core/framework/local_rendezvous.cc:404] Local rendezvous is aborting with status: OUT_OF_RANGE: End of sequence\n",
      "2024-09-11 12:00:51.797647: W tensorflow/core/framework/local_rendezvous.cc:404] Local rendezvous is aborting with status: OUT_OF_RANGE: End of sequence\n",
      "2024-09-11 12:00:51.903042: W tensorflow/core/framework/local_rendezvous.cc:404] Local rendezvous is aborting with status: OUT_OF_RANGE: End of sequence\n",
      "2024-09-11 12:00:52.017542: W tensorflow/core/framework/local_rendezvous.cc:404] Local rendezvous is aborting with status: OUT_OF_RANGE: End of sequence\n",
      "2024-09-11 12:00:52.126016: W tensorflow/core/framework/local_rendezvous.cc:404] Local rendezvous is aborting with status: OUT_OF_RANGE: End of sequence\n",
      "2024-09-11 12:00:52.234134: W tensorflow/core/framework/local_rendezvous.cc:404] Local rendezvous is aborting with status: OUT_OF_RANGE: End of sequence\n",
      "2024-09-11 12:00:52.337729: W tensorflow/core/framework/local_rendezvous.cc:404] Local rendezvous is aborting with status: OUT_OF_RANGE: End of sequence\n",
      "2024-09-11 12:00:52.445280: W tensorflow/core/framework/local_rendezvous.cc:404] Local rendezvous is aborting with status: OUT_OF_RANGE: End of sequence\n",
      "2024-09-11 12:00:52.550281: W tensorflow/core/framework/local_rendezvous.cc:404] Local rendezvous is aborting with status: OUT_OF_RANGE: End of sequence\n",
      "2024-09-11 12:00:52.657313: W tensorflow/core/framework/local_rendezvous.cc:404] Local rendezvous is aborting with status: OUT_OF_RANGE: End of sequence\n",
      "2024-09-11 12:00:52.762708: W tensorflow/core/framework/local_rendezvous.cc:404] Local rendezvous is aborting with status: OUT_OF_RANGE: End of sequence\n",
      "2024-09-11 12:00:52.995060: W tensorflow/core/framework/local_rendezvous.cc:404] Local rendezvous is aborting with status: OUT_OF_RANGE: End of sequence\n",
      "2024-09-11 12:00:53.101315: W tensorflow/core/framework/local_rendezvous.cc:404] Local rendezvous is aborting with status: OUT_OF_RANGE: End of sequence\n",
      "2024-09-11 12:00:53.206885: W tensorflow/core/framework/local_rendezvous.cc:404] Local rendezvous is aborting with status: OUT_OF_RANGE: End of sequence\n",
      "2024-09-11 12:00:53.319541: W tensorflow/core/framework/local_rendezvous.cc:404] Local rendezvous is aborting with status: OUT_OF_RANGE: End of sequence\n",
      "2024-09-11 12:00:53.432381: W tensorflow/core/framework/local_rendezvous.cc:404] Local rendezvous is aborting with status: OUT_OF_RANGE: End of sequence\n",
      "2024-09-11 12:00:53.535295: W tensorflow/core/framework/local_rendezvous.cc:404] Local rendezvous is aborting with status: OUT_OF_RANGE: End of sequence\n",
      "2024-09-11 12:00:53.640099: W tensorflow/core/framework/local_rendezvous.cc:404] Local rendezvous is aborting with status: OUT_OF_RANGE: End of sequence\n",
      "2024-09-11 12:00:53.746141: W tensorflow/core/framework/local_rendezvous.cc:404] Local rendezvous is aborting with status: OUT_OF_RANGE: End of sequence\n",
      "2024-09-11 12:00:53.849683: W tensorflow/core/framework/local_rendezvous.cc:404] Local rendezvous is aborting with status: OUT_OF_RANGE: End of sequence\n",
      "2024-09-11 12:00:53.960235: W tensorflow/core/framework/local_rendezvous.cc:404] Local rendezvous is aborting with status: OUT_OF_RANGE: End of sequence\n",
      "2024-09-11 12:00:54.074639: W tensorflow/core/framework/local_rendezvous.cc:404] Local rendezvous is aborting with status: OUT_OF_RANGE: End of sequence\n",
      "2024-09-11 12:00:54.184465: W tensorflow/core/framework/local_rendezvous.cc:404] Local rendezvous is aborting with status: OUT_OF_RANGE: End of sequence\n",
      "2024-09-11 12:00:54.293480: W tensorflow/core/framework/local_rendezvous.cc:404] Local rendezvous is aborting with status: OUT_OF_RANGE: End of sequence\n",
      "2024-09-11 12:00:54.401913: W tensorflow/core/framework/local_rendezvous.cc:404] Local rendezvous is aborting with status: OUT_OF_RANGE: End of sequence\n",
      "2024-09-11 12:00:54.508442: W tensorflow/core/framework/local_rendezvous.cc:404] Local rendezvous is aborting with status: OUT_OF_RANGE: End of sequence\n",
      "2024-09-11 12:00:54.613034: W tensorflow/core/framework/local_rendezvous.cc:404] Local rendezvous is aborting with status: OUT_OF_RANGE: End of sequence\n",
      "2024-09-11 12:00:54.723847: W tensorflow/core/framework/local_rendezvous.cc:404] Local rendezvous is aborting with status: OUT_OF_RANGE: End of sequence\n",
      "2024-09-11 12:00:54.830997: W tensorflow/core/framework/local_rendezvous.cc:404] Local rendezvous is aborting with status: OUT_OF_RANGE: End of sequence\n",
      "2024-09-11 12:00:54.946655: W tensorflow/core/framework/local_rendezvous.cc:404] Local rendezvous is aborting with status: OUT_OF_RANGE: End of sequence\n",
      "2024-09-11 12:00:55.053887: W tensorflow/core/framework/local_rendezvous.cc:404] Local rendezvous is aborting with status: OUT_OF_RANGE: End of sequence\n",
      "2024-09-11 12:00:55.158280: W tensorflow/core/framework/local_rendezvous.cc:404] Local rendezvous is aborting with status: OUT_OF_RANGE: End of sequence\n"
     ]
    }
   ],
   "source": [
    "expID = 'NKIP_FA_068'\n",
    "dbm = DbManager()\n",
    "dbm.detect_outliers(expID, model_name='outlier_v2.h5')"
   ]
  },
  {
   "cell_type": "code",
   "execution_count": 5,
   "id": "bd08e1d5a319d0fa",
   "metadata": {
    "collapsed": false,
    "ExecuteTime": {
     "end_time": "2024-09-11T10:01:24.317162Z",
     "start_time": "2024-09-11T10:00:55.397040Z"
    }
   },
   "outputs": [],
   "source": [
    "sample = Sample(expID, 0)\n",
    "sample.reload_droplets()\n",
    "sample.visualize_droplets(channel=0)"
   ]
  },
  {
   "cell_type": "code",
   "execution_count": null,
   "id": "e57be55fe7cb8342",
   "metadata": {
    "collapsed": false
   },
   "outputs": [],
   "source": []
  },
  {
   "cell_type": "markdown",
   "id": "62b392b2b9895a4e",
   "metadata": {
    "collapsed": false
   },
   "source": [
    "# Workpackage Generation"
   ]
  },
  {
   "cell_type": "code",
   "execution_count": null,
   "outputs": [],
   "source": [],
   "metadata": {
    "collapsed": false
   },
   "id": "33bcb3e99fe00537"
  },
  {
   "cell_type": "code",
   "execution_count": 3,
   "id": "1da084012ff33ba1",
   "metadata": {
    "collapsed": false,
    "ExecuteTime": {
     "end_time": "2024-09-08T20:10:23.441676Z",
     "start_time": "2024-09-08T20:10:20.817959Z"
    }
   },
   "outputs": [
    {
     "name": "stderr",
     "output_type": "stream",
     "text": [
      "2024-09-08 22:10:21.239744: I tensorflow/core/framework/local_rendezvous.cc:404] Local rendezvous is aborting with status: OUT_OF_RANGE: End of sequence\n",
      "2024-09-08 22:10:21.339381: I tensorflow/core/framework/local_rendezvous.cc:404] Local rendezvous is aborting with status: OUT_OF_RANGE: End of sequence\n",
      "2024-09-08 22:10:21.549281: I tensorflow/core/framework/local_rendezvous.cc:404] Local rendezvous is aborting with status: OUT_OF_RANGE: End of sequence\n",
      "2024-09-08 22:10:21.961074: I tensorflow/core/framework/local_rendezvous.cc:404] Local rendezvous is aborting with status: OUT_OF_RANGE: End of sequence\n",
      "2024-09-08 22:10:22.772556: I tensorflow/core/framework/local_rendezvous.cc:404] Local rendezvous is aborting with status: OUT_OF_RANGE: End of sequence\n"
     ]
    }
   ],
   "source": [
    "dbm = DbManager()\n",
    "dbm.generate_wp(expID='NKIP_FA_065', exclude_query='outlier == True')"
   ]
  },
  {
   "cell_type": "markdown",
   "id": "e52fb701d8cf1cb1",
   "metadata": {
    "collapsed": false
   },
   "source": [
    "# Cell counting"
   ]
  },
  {
   "cell_type": "code",
   "execution_count": 6,
   "id": "c276dccda721909c",
   "metadata": {
    "collapsed": false,
    "ExecuteTime": {
     "end_time": "2024-09-11T10:40:49.230241Z",
     "start_time": "2024-09-11T10:37:24.261820Z"
    }
   },
   "outputs": [
    {
     "name": "stderr",
     "output_type": "stream",
     "text": [
      "WARNING:absl:Compiled the loaded model, but the compiled metrics have yet to be built. `model.compile_metrics` will be empty until you train or evaluate the model.\n",
      "2024-09-11 12:37:29.158046: W tensorflow/core/framework/local_rendezvous.cc:404] Local rendezvous is aborting with status: OUT_OF_RANGE: End of sequence\n"
     ]
    },
    {
     "name": "stdout",
     "output_type": "stream",
     "text": [
      "\u001B[1m1872/1872\u001B[0m \u001B[32m━━━━━━━━━━━━━━━━━━━━\u001B[0m\u001B[37m\u001B[0m \u001B[1m199s\u001B[0m 106ms/step\n"
     ]
    },
    {
     "name": "stderr",
     "output_type": "stream",
     "text": [
      "/Users/fauberma/mambaforge/envs/phenotyping/lib/python3.12/contextlib.py:155: UserWarning: Your input ran out of data; interrupting training. Make sure that your dataset or generator can generate at least `steps_per_epoch * epochs` batches. You may need to use the `.repeat()` function when building your dataset.\n",
      "  self.gen.throw(value)\n",
      "2024-09-11 12:40:48.288219: W tensorflow/core/framework/local_rendezvous.cc:404] Local rendezvous is aborting with status: OUT_OF_RANGE: End of sequence\n"
     ]
    }
   ],
   "source": [
    "dbm = DbManager()\n",
    "dbm.cell_count(expID='NKIP_FA_068', model_name='cell_count_v2.h5')"
   ]
  },
  {
   "cell_type": "code",
   "execution_count": null,
   "id": "bb9912f8ea0cf3f2",
   "metadata": {
    "collapsed": false
   },
   "outputs": [],
   "source": []
  }
 ],
 "metadata": {
  "kernelspec": {
   "display_name": "Python 3 (ipykernel)",
   "language": "python",
   "name": "python3"
  },
  "language_info": {
   "codemirror_mode": {
    "name": "ipython",
    "version": 3
   },
   "file_extension": ".py",
   "mimetype": "text/x-python",
   "name": "python",
   "nbconvert_exporter": "python",
   "pygments_lexer": "ipython3",
   "version": "3.12.0"
  }
 },
 "nbformat": 4,
 "nbformat_minor": 5
}
