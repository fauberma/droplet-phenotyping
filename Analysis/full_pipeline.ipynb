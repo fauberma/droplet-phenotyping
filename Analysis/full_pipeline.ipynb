{
 "cells": [
  {
   "cell_type": "markdown",
   "id": "28790032cc8f8d67",
   "metadata": {
    "collapsed": false
   },
   "source": [
    "# Imports"
   ]
  },
  {
   "cell_type": "code",
   "execution_count": 4,
   "id": "642012ca-a6d0-4376-a5d2-c48b74927fe1",
   "metadata": {
    "ExecuteTime": {
     "end_time": "2024-09-10T20:57:09.321263Z",
     "start_time": "2024-09-10T20:57:09.314460Z"
    }
   },
   "outputs": [],
   "source": [
    "import sys\n",
    "import os\n",
    "sys.path.append(os.path.join(os.getcwd(), os.pardir))"
   ]
  },
  {
   "cell_type": "code",
   "execution_count": 5,
   "id": "9dbb94b41f3c164f",
   "metadata": {
    "collapsed": false,
    "ExecuteTime": {
     "end_time": "2024-09-10T20:57:09.465328Z",
     "start_time": "2024-09-10T20:57:09.462796Z"
    }
   },
   "outputs": [],
   "source": [
    "from Tools.leica_tools import RawLoader\n",
    "from Tools.sample_tools import Sample\n",
    "from Tools.db_tools import DbManager\n"
   ]
  },
  {
   "cell_type": "code",
   "execution_count": 6,
   "outputs": [],
   "source": [
    "raw = RawLoader('NKIP_FA_065')"
   ],
   "metadata": {
    "collapsed": false,
    "ExecuteTime": {
     "end_time": "2024-09-10T20:57:25.562344Z",
     "start_time": "2024-09-10T20:57:25.535383Z"
    }
   },
   "id": "51a979dbd649f088"
  },
  {
   "cell_type": "code",
   "execution_count": 9,
   "outputs": [
    {
     "data": {
      "text/plain": "[{'droplet_size': 70,\n  'size_range': 5,\n  'image_index': 0,\n  't_index': 0,\n  'condition': 'Unsorted',\n  'path': '/Volumes/T7/DMI/NKIP_FA_065/NKIP_FA_065.lif'},\n {'droplet_size': 70,\n  'size_range': 5,\n  'image_index': 1,\n  't_index': 0,\n  'condition': 'Negative',\n  'path': '/Volumes/T7/DMI/NKIP_FA_065/NKIP_FA_065.lif'},\n {'droplet_size': 70,\n  'size_range': 5,\n  'image_index': 2,\n  't_index': 0,\n  'condition': 'Positive',\n  'path': '/Volumes/T7/DMI/NKIP_FA_065/NKIP_FA_065.lif'}]"
     },
     "execution_count": 9,
     "metadata": {},
     "output_type": "execute_result"
    }
   ],
   "source": [
    "raw.frame_df.to_dict(orient='records')"
   ],
   "metadata": {
    "collapsed": false,
    "ExecuteTime": {
     "end_time": "2024-09-10T20:57:46.894120Z",
     "start_time": "2024-09-10T20:57:46.887982Z"
    }
   },
   "id": "3309ae67a7da32c8"
  },
  {
   "cell_type": "markdown",
   "id": "e8923b3feac3bdc",
   "metadata": {
    "collapsed": false
   },
   "source": [
    "# Data prep"
   ]
  },
  {
   "cell_type": "code",
   "execution_count": 4,
   "id": "e5c92142d71e463e",
   "metadata": {
    "collapsed": false,
    "ExecuteTime": {
     "end_time": "2024-09-07T08:10:07.074234Z",
     "start_time": "2024-09-07T08:10:06.979949Z"
    }
   },
   "outputs": [
    {
     "data": {
      "text/plain": "         droplet_size  size_range  image_index  t_index  time  \\\nframeID                                                         \n0                  80           5            0        0     1   \n1                  80           5            1        0     2   \n\n                                                path  \nframeID                                               \n0        /Volumes/T7/DMI/NKIP_FA_067/NKIP_FA_067.lif  \n1        /Volumes/T7/DMI/NKIP_FA_067/NKIP_FA_067.lif  ",
      "text/html": "<div>\n<style scoped>\n    .dataframe tbody tr th:only-of-type {\n        vertical-align: middle;\n    }\n\n    .dataframe tbody tr th {\n        vertical-align: top;\n    }\n\n    .dataframe thead th {\n        text-align: right;\n    }\n</style>\n<table border=\"1\" class=\"dataframe\">\n  <thead>\n    <tr style=\"text-align: right;\">\n      <th></th>\n      <th>droplet_size</th>\n      <th>size_range</th>\n      <th>image_index</th>\n      <th>t_index</th>\n      <th>time</th>\n      <th>path</th>\n    </tr>\n    <tr>\n      <th>frameID</th>\n      <th></th>\n      <th></th>\n      <th></th>\n      <th></th>\n      <th></th>\n      <th></th>\n    </tr>\n  </thead>\n  <tbody>\n    <tr>\n      <th>0</th>\n      <td>80</td>\n      <td>5</td>\n      <td>0</td>\n      <td>0</td>\n      <td>1</td>\n      <td>/Volumes/T7/DMI/NKIP_FA_067/NKIP_FA_067.lif</td>\n    </tr>\n    <tr>\n      <th>1</th>\n      <td>80</td>\n      <td>5</td>\n      <td>1</td>\n      <td>0</td>\n      <td>2</td>\n      <td>/Volumes/T7/DMI/NKIP_FA_067/NKIP_FA_067.lif</td>\n    </tr>\n  </tbody>\n</table>\n</div>"
     },
     "execution_count": 4,
     "metadata": {},
     "output_type": "execute_result"
    }
   ],
   "source": [
    "expID = 'NKIP_FA_067'\n",
    "rawloader = RawLoader(expID)\n",
    "rawloader.frame_df"
   ]
  },
  {
   "cell_type": "markdown",
   "id": "4744df760efd485b",
   "metadata": {
    "collapsed": false
   },
   "source": [
    "# Droplet detection"
   ]
  },
  {
   "cell_type": "markdown",
   "id": "21435bbd1b4041b8",
   "metadata": {
    "collapsed": false
   },
   "source": [
    "Execute a preview run of the droplet detection. An image will be saved to the exp folder in the analyses directory. \n",
    "If droplets are not well detected consider changing the droplet size estimate in setup.xlsx (re-run RawLoader API)."
   ]
  },
  {
   "cell_type": "code",
   "execution_count": null,
   "id": "dabd262fce87cb0c",
   "metadata": {
    "collapsed": false
   },
   "outputs": [],
   "source": [
    "frameID = 0\n",
    "sample = Sample(expID, frameID)\n",
    "sample.detect_droplets(mode='sweep')\n",
    "sample.visualize_droplets(channel=0,save=True)"
   ]
  },
  {
   "cell_type": "markdown",
   "id": "ae78dfa92d330306",
   "metadata": {
    "collapsed": false
   },
   "source": [
    "Run droplet detection through all frames of the experiment. drop_register.csv will be created at the end of the process."
   ]
  },
  {
   "cell_type": "code",
   "execution_count": 5,
   "id": "52e05ddcc4c3f98b",
   "metadata": {
    "collapsed": false,
    "ExecuteTime": {
     "end_time": "2024-09-07T08:10:09.541406Z",
     "start_time": "2024-09-07T08:10:09.233118Z"
    }
   },
   "outputs": [
    {
     "ename": "FileNotFoundError",
     "evalue": "[Errno 2] No such file or directory: '/Volumes/T7/DMI/NKIP_FA_067/NKIP_FA_067.lif'",
     "output_type": "error",
     "traceback": [
      "\u001B[0;31m---------------------------------------------------------------------------\u001B[0m",
      "\u001B[0;31mFileNotFoundError\u001B[0m                         Traceback (most recent call last)",
      "Cell \u001B[0;32mIn[5], line 2\u001B[0m\n\u001B[1;32m      1\u001B[0m dbm \u001B[38;5;241m=\u001B[39m DbManager()\n\u001B[0;32m----> 2\u001B[0m \u001B[43mdbm\u001B[49m\u001B[38;5;241;43m.\u001B[39;49m\u001B[43mdetect_droplets\u001B[49m\u001B[43m(\u001B[49m\u001B[43mexpID\u001B[49m\u001B[43m,\u001B[49m\u001B[43m \u001B[49m\u001B[43mmode\u001B[49m\u001B[38;5;241;43m=\u001B[39;49m\u001B[38;5;124;43m'\u001B[39;49m\u001B[38;5;124;43msweep\u001B[39;49m\u001B[38;5;124;43m'\u001B[39;49m\u001B[43m)\u001B[49m\n",
      "File \u001B[0;32m~/MPG/Scripts/droplet-phenotyping/Tools/db_tools.py:36\u001B[0m, in \u001B[0;36mDbManager.detect_droplets\u001B[0;34m(self, expID, mode)\u001B[0m\n\u001B[1;32m     34\u001B[0m df_list \u001B[38;5;241m=\u001B[39m []\n\u001B[1;32m     35\u001B[0m \u001B[38;5;28;01mfor\u001B[39;00m frameID \u001B[38;5;129;01min\u001B[39;00m rawloader\u001B[38;5;241m.\u001B[39mframe_df\u001B[38;5;241m.\u001B[39mindex:\n\u001B[0;32m---> 36\u001B[0m     df_list\u001B[38;5;241m.\u001B[39mappend(\u001B[43mSample\u001B[49m\u001B[43m(\u001B[49m\u001B[43mexpID\u001B[49m\u001B[43m,\u001B[49m\u001B[43m \u001B[49m\u001B[43mframeID\u001B[49m\u001B[43m)\u001B[49m\u001B[38;5;241;43m.\u001B[39;49m\u001B[43mdetect_droplets\u001B[49m\u001B[43m(\u001B[49m\u001B[43mmode\u001B[49m\u001B[38;5;241;43m=\u001B[39;49m\u001B[43mmode\u001B[49m\u001B[43m,\u001B[49m\u001B[43m \u001B[49m\u001B[43mreturn_df\u001B[49m\u001B[38;5;241;43m=\u001B[39;49m\u001B[38;5;28;43;01mTrue\u001B[39;49;00m\u001B[43m)\u001B[49m)\n\u001B[1;32m     37\u001B[0m droplets \u001B[38;5;241m=\u001B[39m pd\u001B[38;5;241m.\u001B[39mconcat(df_list)\u001B[38;5;241m.\u001B[39mreset_index(drop\u001B[38;5;241m=\u001B[39m\u001B[38;5;28;01mTrue\u001B[39;00m)\u001B[38;5;241m.\u001B[39mrename_axis(\u001B[38;5;124m'\u001B[39m\u001B[38;5;124mGlobalID\u001B[39m\u001B[38;5;124m'\u001B[39m)\n\u001B[1;32m     38\u001B[0m rawloader\u001B[38;5;241m.\u001B[39mupdate_droplet_df(droplets)\n",
      "File \u001B[0;32m~/MPG/Scripts/droplet-phenotyping/Tools/sample_tools.py:31\u001B[0m, in \u001B[0;36mSample.detect_droplets\u001B[0;34m(self, mode, channel_index, return_df)\u001B[0m\n\u001B[1;32m     30\u001B[0m \u001B[38;5;28;01mdef\u001B[39;00m \u001B[38;5;21mdetect_droplets\u001B[39m(\u001B[38;5;28mself\u001B[39m, mode\u001B[38;5;241m=\u001B[39m\u001B[38;5;124m'\u001B[39m\u001B[38;5;124mconstant\u001B[39m\u001B[38;5;124m'\u001B[39m, channel_index\u001B[38;5;241m=\u001B[39m\u001B[38;5;241m0\u001B[39m, return_df\u001B[38;5;241m=\u001B[39m\u001B[38;5;28;01mTrue\u001B[39;00m):\n\u001B[0;32m---> 31\u001B[0m     frame, meta \u001B[38;5;241m=\u001B[39m \u001B[38;5;28;43mself\u001B[39;49m\u001B[38;5;241;43m.\u001B[39;49m\u001B[43mrawloader\u001B[49m\u001B[38;5;241;43m.\u001B[39;49m\u001B[43mget_frame\u001B[49m\u001B[43m(\u001B[49m\u001B[38;5;28;43mself\u001B[39;49m\u001B[38;5;241;43m.\u001B[39;49m\u001B[43mframeID\u001B[49m\u001B[43m)\u001B[49m\n\u001B[1;32m     33\u001B[0m     \u001B[38;5;28;01mif\u001B[39;00m mode \u001B[38;5;241m==\u001B[39m \u001B[38;5;124m'\u001B[39m\u001B[38;5;124mconstant\u001B[39m\u001B[38;5;124m'\u001B[39m:\n\u001B[1;32m     34\u001B[0m         radii \u001B[38;5;241m=\u001B[39m [(meta[\u001B[38;5;124m'\u001B[39m\u001B[38;5;124mdroplet_size\u001B[39m\u001B[38;5;124m'\u001B[39m] \u001B[38;5;241m*\u001B[39m meta[\u001B[38;5;124m'\u001B[39m\u001B[38;5;124mscale\u001B[39m\u001B[38;5;124m'\u001B[39m]) \u001B[38;5;241m/\u001B[39m\u001B[38;5;241m/\u001B[39m \u001B[38;5;241m2\u001B[39m, ]\n",
      "File \u001B[0;32m~/MPG/Scripts/droplet-phenotyping/Tools/leica_tools.py:82\u001B[0m, in \u001B[0;36mRawLoader.get_frame\u001B[0;34m(self, frameID)\u001B[0m\n\u001B[1;32m     81\u001B[0m \u001B[38;5;28;01mdef\u001B[39;00m \u001B[38;5;21mget_frame\u001B[39m(\u001B[38;5;28mself\u001B[39m, frameID):\n\u001B[0;32m---> 82\u001B[0m     meta \u001B[38;5;241m=\u001B[39m \u001B[38;5;28;43mself\u001B[39;49m\u001B[38;5;241;43m.\u001B[39;49m\u001B[43mget_meta\u001B[49m\u001B[43m(\u001B[49m\u001B[43mframeID\u001B[49m\u001B[43m)\u001B[49m\n\u001B[1;32m     83\u001B[0m     lif \u001B[38;5;241m=\u001B[39m LifFile(meta[\u001B[38;5;124m'\u001B[39m\u001B[38;5;124mpath\u001B[39m\u001B[38;5;124m'\u001B[39m])\n\u001B[1;32m     84\u001B[0m     image \u001B[38;5;241m=\u001B[39m lif\u001B[38;5;241m.\u001B[39mget_image(meta[\u001B[38;5;124m'\u001B[39m\u001B[38;5;124mimage_index\u001B[39m\u001B[38;5;124m'\u001B[39m])\n",
      "File \u001B[0;32m~/MPG/Scripts/droplet-phenotyping/Tools/leica_tools.py:96\u001B[0m, in \u001B[0;36mRawLoader.get_meta\u001B[0;34m(self, frameID)\u001B[0m\n\u001B[1;32m     94\u001B[0m \u001B[38;5;28;01mdef\u001B[39;00m \u001B[38;5;21mget_meta\u001B[39m(\u001B[38;5;28mself\u001B[39m, frameID):\n\u001B[1;32m     95\u001B[0m     meta \u001B[38;5;241m=\u001B[39m \u001B[38;5;28mself\u001B[39m\u001B[38;5;241m.\u001B[39mframe_df\u001B[38;5;241m.\u001B[39mloc[frameID, :]\u001B[38;5;241m.\u001B[39mcopy()\n\u001B[0;32m---> 96\u001B[0m     lif \u001B[38;5;241m=\u001B[39m \u001B[43mLifFile\u001B[49m\u001B[43m(\u001B[49m\u001B[43mmeta\u001B[49m\u001B[43m[\u001B[49m\u001B[38;5;124;43m'\u001B[39;49m\u001B[38;5;124;43mpath\u001B[39;49m\u001B[38;5;124;43m'\u001B[39;49m\u001B[43m]\u001B[49m\u001B[43m)\u001B[49m\n\u001B[1;32m     97\u001B[0m     image \u001B[38;5;241m=\u001B[39m lif\u001B[38;5;241m.\u001B[39mget_image(meta[\u001B[38;5;124m'\u001B[39m\u001B[38;5;124mimage_index\u001B[39m\u001B[38;5;124m'\u001B[39m])\n\u001B[1;32m     98\u001B[0m     meta[\u001B[38;5;124m'\u001B[39m\u001B[38;5;124mframeID\u001B[39m\u001B[38;5;124m'\u001B[39m] \u001B[38;5;241m=\u001B[39m frameID\n",
      "File \u001B[0;32m~/mambaforge/envs/phenotyping/lib/python3.12/site-packages/readlif/reader.py:737\u001B[0m, in \u001B[0;36mLifFile.__init__\u001B[0;34m(self, filename)\u001B[0m\n\u001B[1;32m    734\u001B[0m \u001B[38;5;28mself\u001B[39m\u001B[38;5;241m.\u001B[39mfilename \u001B[38;5;241m=\u001B[39m filename\n\u001B[1;32m    736\u001B[0m \u001B[38;5;28;01mif\u001B[39;00m \u001B[38;5;28misinstance\u001B[39m(filename, (\u001B[38;5;28mstr\u001B[39m, \u001B[38;5;28mbytes\u001B[39m, os\u001B[38;5;241m.\u001B[39mPathLike)):\n\u001B[0;32m--> 737\u001B[0m     f \u001B[38;5;241m=\u001B[39m \u001B[38;5;28;43mopen\u001B[39;49m\u001B[43m(\u001B[49m\u001B[43mfilename\u001B[49m\u001B[43m,\u001B[49m\u001B[43m \u001B[49m\u001B[38;5;124;43m\"\u001B[39;49m\u001B[38;5;124;43mrb\u001B[39;49m\u001B[38;5;124;43m\"\u001B[39;49m\u001B[43m)\u001B[49m\n\u001B[1;32m    738\u001B[0m \u001B[38;5;28;01melif\u001B[39;00m \u001B[38;5;28misinstance\u001B[39m(filename, io\u001B[38;5;241m.\u001B[39mIOBase):\n\u001B[1;32m    739\u001B[0m     f \u001B[38;5;241m=\u001B[39m filename\n",
      "\u001B[0;31mFileNotFoundError\u001B[0m: [Errno 2] No such file or directory: '/Volumes/T7/DMI/NKIP_FA_067/NKIP_FA_067.lif'"
     ]
    }
   ],
   "source": [
    "dbm = DbManager()\n",
    "dbm.detect_droplets(expID, mode='sweep')"
   ]
  },
  {
   "cell_type": "code",
   "execution_count": null,
   "outputs": [],
   "source": [],
   "metadata": {
    "collapsed": false
   },
   "id": "7d41fab8088e11f6"
  },
  {
   "cell_type": "markdown",
   "id": "2ae15e52af46d8c",
   "metadata": {
    "collapsed": false
   },
   "source": [
    "# Outlier detection"
   ]
  },
  {
   "cell_type": "code",
   "execution_count": null,
   "id": "9c4d3be52455c8a9",
   "metadata": {
    "collapsed": false
   },
   "outputs": [],
   "source": [
    "expID = 'NKIP_FA_058'\n",
    "dbm = DbManager()\n",
    "dbm.detect_outliers(expID, model_name='outlier_v2.h5')"
   ]
  },
  {
   "cell_type": "code",
   "execution_count": null,
   "id": "bd08e1d5a319d0fa",
   "metadata": {
    "collapsed": false
   },
   "outputs": [],
   "source": [
    "sample = Sample(expID, 0)\n",
    "sample.reload_droplets()\n",
    "sample.visualize_droplets(channel=0)"
   ]
  },
  {
   "cell_type": "code",
   "execution_count": null,
   "id": "e57be55fe7cb8342",
   "metadata": {
    "collapsed": false
   },
   "outputs": [],
   "source": []
  },
  {
   "cell_type": "markdown",
   "id": "62b392b2b9895a4e",
   "metadata": {
    "collapsed": false
   },
   "source": [
    "# Workpackage Generation"
   ]
  },
  {
   "cell_type": "code",
   "execution_count": null,
   "outputs": [],
   "source": [],
   "metadata": {
    "collapsed": false
   },
   "id": "33bcb3e99fe00537"
  },
  {
   "cell_type": "code",
   "execution_count": 3,
   "id": "1da084012ff33ba1",
   "metadata": {
    "collapsed": false,
    "ExecuteTime": {
     "end_time": "2024-09-08T20:10:23.441676Z",
     "start_time": "2024-09-08T20:10:20.817959Z"
    }
   },
   "outputs": [
    {
     "name": "stderr",
     "output_type": "stream",
     "text": [
      "2024-09-08 22:10:21.239744: I tensorflow/core/framework/local_rendezvous.cc:404] Local rendezvous is aborting with status: OUT_OF_RANGE: End of sequence\n",
      "2024-09-08 22:10:21.339381: I tensorflow/core/framework/local_rendezvous.cc:404] Local rendezvous is aborting with status: OUT_OF_RANGE: End of sequence\n",
      "2024-09-08 22:10:21.549281: I tensorflow/core/framework/local_rendezvous.cc:404] Local rendezvous is aborting with status: OUT_OF_RANGE: End of sequence\n",
      "2024-09-08 22:10:21.961074: I tensorflow/core/framework/local_rendezvous.cc:404] Local rendezvous is aborting with status: OUT_OF_RANGE: End of sequence\n",
      "2024-09-08 22:10:22.772556: I tensorflow/core/framework/local_rendezvous.cc:404] Local rendezvous is aborting with status: OUT_OF_RANGE: End of sequence\n"
     ]
    }
   ],
   "source": [
    "dbm = DbManager()\n",
    "dbm.generate_wp(expID='NKIP_FA_065', exclude_query='outlier == True')"
   ]
  },
  {
   "cell_type": "code",
   "execution_count": 8,
   "id": "9acf74385913f907",
   "metadata": {
    "collapsed": false,
    "ExecuteTime": {
     "end_time": "2024-09-08T19:57:26.537136Z",
     "start_time": "2024-09-08T19:57:26.514308Z"
    }
   },
   "outputs": [
    {
     "data": {
      "text/plain": "Empty DataFrame\nColumns: [WP_ID, i, GlobalID, Target, Effector, dead_Target, dead_Effector]\nIndex: []",
      "text/html": "<div>\n<style scoped>\n    .dataframe tbody tr th:only-of-type {\n        vertical-align: middle;\n    }\n\n    .dataframe tbody tr th {\n        vertical-align: top;\n    }\n\n    .dataframe thead th {\n        text-align: right;\n    }\n</style>\n<table border=\"1\" class=\"dataframe\">\n  <thead>\n    <tr style=\"text-align: right;\">\n      <th></th>\n      <th>WP_ID</th>\n      <th>i</th>\n      <th>GlobalID</th>\n      <th>Target</th>\n      <th>Effector</th>\n      <th>dead_Target</th>\n      <th>dead_Effector</th>\n    </tr>\n  </thead>\n  <tbody>\n  </tbody>\n</table>\n</div>"
     },
     "execution_count": 8,
     "metadata": {},
     "output_type": "execute_result"
    }
   ],
   "source": [
    "expID = 'NKIP_FA_065'\n",
    "dbm.get_wps('NKIP_FA_065')"
   ]
  },
  {
   "cell_type": "code",
   "execution_count": 12,
   "outputs": [],
   "source": [
    "wps = dbm.existing_wps.query(f'expID == \"{expID}\"')"
   ],
   "metadata": {
    "collapsed": false,
    "ExecuteTime": {
     "end_time": "2024-09-08T20:01:25.076047Z",
     "start_time": "2024-09-08T20:01:25.073489Z"
    }
   },
   "id": "9669daabd3c3b879"
  },
  {
   "cell_type": "code",
   "execution_count": 19,
   "outputs": [
    {
     "data": {
      "text/plain": "1"
     },
     "execution_count": 19,
     "metadata": {},
     "output_type": "execute_result"
    }
   ],
   "source": [
    "wps.index.size"
   ],
   "metadata": {
    "collapsed": false,
    "ExecuteTime": {
     "end_time": "2024-09-08T20:02:05.785427Z",
     "start_time": "2024-09-08T20:02:05.774016Z"
    }
   },
   "id": "5f4259c622433d02"
  },
  {
   "cell_type": "markdown",
   "id": "e52fb701d8cf1cb1",
   "metadata": {
    "collapsed": false
   },
   "source": [
    "# Cell counting"
   ]
  },
  {
   "cell_type": "code",
   "execution_count": null,
   "id": "c276dccda721909c",
   "metadata": {
    "collapsed": false
   },
   "outputs": [],
   "source": [
    "dbm = DbManager()\n",
    "dbm.cell_count(expID='NKIP_FA_058', model_name='cell_count_v2.h5')"
   ]
  },
  {
   "cell_type": "code",
   "execution_count": null,
   "id": "bb9912f8ea0cf3f2",
   "metadata": {
    "collapsed": false
   },
   "outputs": [],
   "source": []
  }
 ],
 "metadata": {
  "kernelspec": {
   "display_name": "Python 3 (ipykernel)",
   "language": "python",
   "name": "python3"
  },
  "language_info": {
   "codemirror_mode": {
    "name": "ipython",
    "version": 3
   },
   "file_extension": ".py",
   "mimetype": "text/x-python",
   "name": "python",
   "nbconvert_exporter": "python",
   "pygments_lexer": "ipython3",
   "version": "3.12.0"
  }
 },
 "nbformat": 4,
 "nbformat_minor": 5
}
