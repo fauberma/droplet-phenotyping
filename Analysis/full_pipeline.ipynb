{
 "cells": [
  {
   "cell_type": "markdown",
   "id": "28790032cc8f8d67",
   "metadata": {
    "collapsed": false
   },
   "source": [
    "# Imports"
   ]
  },
  {
   "cell_type": "code",
   "execution_count": 1,
   "id": "642012ca-a6d0-4376-a5d2-c48b74927fe1",
   "metadata": {
    "ExecuteTime": {
     "end_time": "2024-07-31T09:44:34.982892Z",
     "start_time": "2024-07-31T09:44:34.979616Z"
    }
   },
   "outputs": [],
   "source": [
    "import sys\n",
    "import os\n",
    "sys.path.append('/Users/fauberma/MPG/Scripts/droplet-phenotyping')"
   ]
  },
  {
   "cell_type": "code",
   "execution_count": 2,
   "id": "9dbb94b41f3c164f",
   "metadata": {
    "collapsed": false,
    "ExecuteTime": {
     "end_time": "2024-07-31T09:44:38.399783Z",
     "start_time": "2024-07-31T09:44:35.363301Z"
    }
   },
   "outputs": [],
   "source": [
    "from Tools.leica_tools import RawLoader\n",
    "from Tools.sample_tools import Sample\n",
    "from Tools.db_tools import DbManager\n"
   ]
  },
  {
   "cell_type": "markdown",
   "id": "e8923b3feac3bdc",
   "metadata": {
    "collapsed": false
   },
   "source": [
    "# Data prep"
   ]
  },
  {
   "cell_type": "code",
   "execution_count": 3,
   "id": "e5c92142d71e463e",
   "metadata": {
    "collapsed": false,
    "ExecuteTime": {
     "end_time": "2024-07-31T09:44:38.491583Z",
     "start_time": "2024-07-31T09:44:38.400419Z"
    }
   },
   "outputs": [
    {
     "data": {
      "text/plain": "         droplet_size  size_range  image_index  t_index  time condition  \\\nframeID                                                                   \n0                  83           5            0        0     2  Positive   \n1                  83           5            1        0     2  Negative   \n2                  83           5            2        0     2  Unsorted   \n3                  83           5            3        0     3  Positive   \n4                  83           5            4        0     3  Negative   \n5                  83           5            5        0     3  Unsorted   \n6                  83           5            3        1     4  Positive   \n7                  83           5            4        1     4  Negative   \n8                  83           5            5        1     4  Unsorted   \n9                  83           5            3        2     5  Positive   \n10                 83           5            4        2     5  Negative   \n11                 83           5            5        2     5  Unsorted   \n12                 83           5            3        3     6  Positive   \n13                 83           5            4        3     6  Negative   \n14                 83           5            5        3     6  Unsorted   \n15                 83           5            3        4     7  Positive   \n16                 83           5            4        4     7  Negative   \n17                 83           5            5        4     7  Unsorted   \n18                 83           5            3        5     8  Positive   \n19                 83           5            4        5     8  Negative   \n20                 83           5            5        5     8  Unsorted   \n\n                                                path  \nframeID                                               \n0        /Volumes/T7/DMI/NKIP_FA_058/NKIP_FA_058.lif  \n1        /Volumes/T7/DMI/NKIP_FA_058/NKIP_FA_058.lif  \n2        /Volumes/T7/DMI/NKIP_FA_058/NKIP_FA_058.lif  \n3        /Volumes/T7/DMI/NKIP_FA_058/NKIP_FA_058.lif  \n4        /Volumes/T7/DMI/NKIP_FA_058/NKIP_FA_058.lif  \n5        /Volumes/T7/DMI/NKIP_FA_058/NKIP_FA_058.lif  \n6        /Volumes/T7/DMI/NKIP_FA_058/NKIP_FA_058.lif  \n7        /Volumes/T7/DMI/NKIP_FA_058/NKIP_FA_058.lif  \n8        /Volumes/T7/DMI/NKIP_FA_058/NKIP_FA_058.lif  \n9        /Volumes/T7/DMI/NKIP_FA_058/NKIP_FA_058.lif  \n10       /Volumes/T7/DMI/NKIP_FA_058/NKIP_FA_058.lif  \n11       /Volumes/T7/DMI/NKIP_FA_058/NKIP_FA_058.lif  \n12       /Volumes/T7/DMI/NKIP_FA_058/NKIP_FA_058.lif  \n13       /Volumes/T7/DMI/NKIP_FA_058/NKIP_FA_058.lif  \n14       /Volumes/T7/DMI/NKIP_FA_058/NKIP_FA_058.lif  \n15       /Volumes/T7/DMI/NKIP_FA_058/NKIP_FA_058.lif  \n16       /Volumes/T7/DMI/NKIP_FA_058/NKIP_FA_058.lif  \n17       /Volumes/T7/DMI/NKIP_FA_058/NKIP_FA_058.lif  \n18       /Volumes/T7/DMI/NKIP_FA_058/NKIP_FA_058.lif  \n19       /Volumes/T7/DMI/NKIP_FA_058/NKIP_FA_058.lif  \n20       /Volumes/T7/DMI/NKIP_FA_058/NKIP_FA_058.lif  ",
      "text/html": "<div>\n<style scoped>\n    .dataframe tbody tr th:only-of-type {\n        vertical-align: middle;\n    }\n\n    .dataframe tbody tr th {\n        vertical-align: top;\n    }\n\n    .dataframe thead th {\n        text-align: right;\n    }\n</style>\n<table border=\"1\" class=\"dataframe\">\n  <thead>\n    <tr style=\"text-align: right;\">\n      <th></th>\n      <th>droplet_size</th>\n      <th>size_range</th>\n      <th>image_index</th>\n      <th>t_index</th>\n      <th>time</th>\n      <th>condition</th>\n      <th>path</th>\n    </tr>\n    <tr>\n      <th>frameID</th>\n      <th></th>\n      <th></th>\n      <th></th>\n      <th></th>\n      <th></th>\n      <th></th>\n      <th></th>\n    </tr>\n  </thead>\n  <tbody>\n    <tr>\n      <th>0</th>\n      <td>83</td>\n      <td>5</td>\n      <td>0</td>\n      <td>0</td>\n      <td>2</td>\n      <td>Positive</td>\n      <td>/Volumes/T7/DMI/NKIP_FA_058/NKIP_FA_058.lif</td>\n    </tr>\n    <tr>\n      <th>1</th>\n      <td>83</td>\n      <td>5</td>\n      <td>1</td>\n      <td>0</td>\n      <td>2</td>\n      <td>Negative</td>\n      <td>/Volumes/T7/DMI/NKIP_FA_058/NKIP_FA_058.lif</td>\n    </tr>\n    <tr>\n      <th>2</th>\n      <td>83</td>\n      <td>5</td>\n      <td>2</td>\n      <td>0</td>\n      <td>2</td>\n      <td>Unsorted</td>\n      <td>/Volumes/T7/DMI/NKIP_FA_058/NKIP_FA_058.lif</td>\n    </tr>\n    <tr>\n      <th>3</th>\n      <td>83</td>\n      <td>5</td>\n      <td>3</td>\n      <td>0</td>\n      <td>3</td>\n      <td>Positive</td>\n      <td>/Volumes/T7/DMI/NKIP_FA_058/NKIP_FA_058.lif</td>\n    </tr>\n    <tr>\n      <th>4</th>\n      <td>83</td>\n      <td>5</td>\n      <td>4</td>\n      <td>0</td>\n      <td>3</td>\n      <td>Negative</td>\n      <td>/Volumes/T7/DMI/NKIP_FA_058/NKIP_FA_058.lif</td>\n    </tr>\n    <tr>\n      <th>5</th>\n      <td>83</td>\n      <td>5</td>\n      <td>5</td>\n      <td>0</td>\n      <td>3</td>\n      <td>Unsorted</td>\n      <td>/Volumes/T7/DMI/NKIP_FA_058/NKIP_FA_058.lif</td>\n    </tr>\n    <tr>\n      <th>6</th>\n      <td>83</td>\n      <td>5</td>\n      <td>3</td>\n      <td>1</td>\n      <td>4</td>\n      <td>Positive</td>\n      <td>/Volumes/T7/DMI/NKIP_FA_058/NKIP_FA_058.lif</td>\n    </tr>\n    <tr>\n      <th>7</th>\n      <td>83</td>\n      <td>5</td>\n      <td>4</td>\n      <td>1</td>\n      <td>4</td>\n      <td>Negative</td>\n      <td>/Volumes/T7/DMI/NKIP_FA_058/NKIP_FA_058.lif</td>\n    </tr>\n    <tr>\n      <th>8</th>\n      <td>83</td>\n      <td>5</td>\n      <td>5</td>\n      <td>1</td>\n      <td>4</td>\n      <td>Unsorted</td>\n      <td>/Volumes/T7/DMI/NKIP_FA_058/NKIP_FA_058.lif</td>\n    </tr>\n    <tr>\n      <th>9</th>\n      <td>83</td>\n      <td>5</td>\n      <td>3</td>\n      <td>2</td>\n      <td>5</td>\n      <td>Positive</td>\n      <td>/Volumes/T7/DMI/NKIP_FA_058/NKIP_FA_058.lif</td>\n    </tr>\n    <tr>\n      <th>10</th>\n      <td>83</td>\n      <td>5</td>\n      <td>4</td>\n      <td>2</td>\n      <td>5</td>\n      <td>Negative</td>\n      <td>/Volumes/T7/DMI/NKIP_FA_058/NKIP_FA_058.lif</td>\n    </tr>\n    <tr>\n      <th>11</th>\n      <td>83</td>\n      <td>5</td>\n      <td>5</td>\n      <td>2</td>\n      <td>5</td>\n      <td>Unsorted</td>\n      <td>/Volumes/T7/DMI/NKIP_FA_058/NKIP_FA_058.lif</td>\n    </tr>\n    <tr>\n      <th>12</th>\n      <td>83</td>\n      <td>5</td>\n      <td>3</td>\n      <td>3</td>\n      <td>6</td>\n      <td>Positive</td>\n      <td>/Volumes/T7/DMI/NKIP_FA_058/NKIP_FA_058.lif</td>\n    </tr>\n    <tr>\n      <th>13</th>\n      <td>83</td>\n      <td>5</td>\n      <td>4</td>\n      <td>3</td>\n      <td>6</td>\n      <td>Negative</td>\n      <td>/Volumes/T7/DMI/NKIP_FA_058/NKIP_FA_058.lif</td>\n    </tr>\n    <tr>\n      <th>14</th>\n      <td>83</td>\n      <td>5</td>\n      <td>5</td>\n      <td>3</td>\n      <td>6</td>\n      <td>Unsorted</td>\n      <td>/Volumes/T7/DMI/NKIP_FA_058/NKIP_FA_058.lif</td>\n    </tr>\n    <tr>\n      <th>15</th>\n      <td>83</td>\n      <td>5</td>\n      <td>3</td>\n      <td>4</td>\n      <td>7</td>\n      <td>Positive</td>\n      <td>/Volumes/T7/DMI/NKIP_FA_058/NKIP_FA_058.lif</td>\n    </tr>\n    <tr>\n      <th>16</th>\n      <td>83</td>\n      <td>5</td>\n      <td>4</td>\n      <td>4</td>\n      <td>7</td>\n      <td>Negative</td>\n      <td>/Volumes/T7/DMI/NKIP_FA_058/NKIP_FA_058.lif</td>\n    </tr>\n    <tr>\n      <th>17</th>\n      <td>83</td>\n      <td>5</td>\n      <td>5</td>\n      <td>4</td>\n      <td>7</td>\n      <td>Unsorted</td>\n      <td>/Volumes/T7/DMI/NKIP_FA_058/NKIP_FA_058.lif</td>\n    </tr>\n    <tr>\n      <th>18</th>\n      <td>83</td>\n      <td>5</td>\n      <td>3</td>\n      <td>5</td>\n      <td>8</td>\n      <td>Positive</td>\n      <td>/Volumes/T7/DMI/NKIP_FA_058/NKIP_FA_058.lif</td>\n    </tr>\n    <tr>\n      <th>19</th>\n      <td>83</td>\n      <td>5</td>\n      <td>4</td>\n      <td>5</td>\n      <td>8</td>\n      <td>Negative</td>\n      <td>/Volumes/T7/DMI/NKIP_FA_058/NKIP_FA_058.lif</td>\n    </tr>\n    <tr>\n      <th>20</th>\n      <td>83</td>\n      <td>5</td>\n      <td>5</td>\n      <td>5</td>\n      <td>8</td>\n      <td>Unsorted</td>\n      <td>/Volumes/T7/DMI/NKIP_FA_058/NKIP_FA_058.lif</td>\n    </tr>\n  </tbody>\n</table>\n</div>"
     },
     "execution_count": 3,
     "metadata": {},
     "output_type": "execute_result"
    }
   ],
   "source": [
    "expID = 'NKIP_FA_058'\n",
    "rawloader = RawLoader(expID)\n",
    "rawloader.frame_df"
   ]
  },
  {
   "cell_type": "markdown",
   "id": "4744df760efd485b",
   "metadata": {
    "collapsed": false
   },
   "source": [
    "# Droplet detection"
   ]
  },
  {
   "cell_type": "markdown",
   "id": "21435bbd1b4041b8",
   "metadata": {
    "collapsed": false
   },
   "source": [
    "Execute a preview run of the droplet detection. An image will be saved to the exp folder in the analyses directory. \n",
    "If droplets are not well detected consider changing the droplet size estimate in setup.xlsx (re-run RawLoader API)."
   ]
  },
  {
   "cell_type": "code",
   "execution_count": 4,
   "id": "dabd262fce87cb0c",
   "metadata": {
    "collapsed": false,
    "ExecuteTime": {
     "end_time": "2024-07-31T09:46:48.154050Z",
     "start_time": "2024-07-31T09:44:39.976716Z"
    }
   },
   "outputs": [
    {
     "name": "stdout",
     "output_type": "stream",
     "text": [
      "5789 droplets in frame 0 detected \n"
     ]
    }
   ],
   "source": [
    "frameID = 0\n",
    "sample = Sample(expID, frameID)\n",
    "sample.detect_droplets(mode='sweep')\n",
    "sample.visualize_droplets(channel=0,save=True)"
   ]
  },
  {
   "cell_type": "markdown",
   "id": "ae78dfa92d330306",
   "metadata": {
    "collapsed": false
   },
   "source": [
    "Run droplet detection through all frames of the experiment. drop_register.csv will be created at the end of the process."
   ]
  },
  {
   "cell_type": "code",
   "execution_count": null,
   "id": "52e05ddcc4c3f98b",
   "metadata": {
    "collapsed": false
   },
   "outputs": [],
   "source": [
    "dbm = DbManager()\n",
    "dbm.generate_drop_register(expID, mode='sweep')\n",
    "dbm.generate_tfrecord(expID)"
   ]
  },
  {
   "cell_type": "code",
   "execution_count": null,
   "id": "a47a9fc7e790852a",
   "metadata": {
    "collapsed": false
   },
   "outputs": [],
   "source": []
  },
  {
   "cell_type": "code",
   "execution_count": null,
   "id": "7fbd3d0b5df6e16f",
   "metadata": {
    "collapsed": false
   },
   "outputs": [],
   "source": [
    "dbm.generate_tfrecord(expID)"
   ]
  },
  {
   "cell_type": "code",
   "execution_count": null,
   "id": "2dababc184e0a990",
   "metadata": {
    "collapsed": false
   },
   "outputs": [],
   "source": []
  },
  {
   "cell_type": "markdown",
   "id": "2ae15e52af46d8c",
   "metadata": {
    "collapsed": false
   },
   "source": [
    "# Outlier detection"
   ]
  },
  {
   "cell_type": "code",
   "execution_count": 5,
   "id": "9c4d3be52455c8a9",
   "metadata": {
    "ExecuteTime": {
     "end_time": "2024-07-15T12:45:34.391612Z",
     "start_time": "2024-07-15T12:43:01.998923Z"
    },
    "collapsed": false
   },
   "outputs": [
    {
     "name": "stderr",
     "output_type": "stream",
     "text": [
      "WARNING:absl:Compiled the loaded model, but the compiled metrics have yet to be built. `model.compile_metrics` will be empty until you train or evaluate the model.\n"
     ]
    },
    {
     "name": "stdout",
     "output_type": "stream",
     "text": [
      "\u001B[1m3385/3385\u001B[0m \u001B[32m━━━━━━━━━━━━━━━━━━━━\u001B[0m\u001B[37m\u001B[0m \u001B[1m119s\u001B[0m 35ms/step\n"
     ]
    },
    {
     "name": "stderr",
     "output_type": "stream",
     "text": [
      "/Users/fauberma/mambaforge/envs/dropcnn/lib/python3.12/contextlib.py:155: UserWarning: Your input ran out of data; interrupting training. Make sure that your dataset or generator can generate at least `steps_per_epoch * epochs` batches. You may need to use the `.repeat()` function when building your dataset.\n",
      "  self.gen.throw(value)\n",
      "2024-07-15 14:45:01.838647: W tensorflow/core/framework/local_rendezvous.cc:404] Local rendezvous is aborting with status: OUT_OF_RANGE: End of sequence\n",
      "2024-07-15 14:45:20.156029: W tensorflow/core/framework/local_rendezvous.cc:404] Local rendezvous is aborting with status: OUT_OF_RANGE: End of sequence\n",
      "2024-07-15 14:45:20.984383: W tensorflow/core/framework/local_rendezvous.cc:404] Local rendezvous is aborting with status: OUT_OF_RANGE: End of sequence\n",
      "2024-07-15 14:45:21.142451: W tensorflow/core/framework/local_rendezvous.cc:404] Local rendezvous is aborting with status: OUT_OF_RANGE: End of sequence\n",
      "2024-07-15 14:45:21.297907: W tensorflow/core/framework/local_rendezvous.cc:404] Local rendezvous is aborting with status: OUT_OF_RANGE: End of sequence\n",
      "2024-07-15 14:45:21.454698: W tensorflow/core/framework/local_rendezvous.cc:404] Local rendezvous is aborting with status: OUT_OF_RANGE: End of sequence\n",
      "2024-07-15 14:45:21.610080: W tensorflow/core/framework/local_rendezvous.cc:404] Local rendezvous is aborting with status: OUT_OF_RANGE: End of sequence\n",
      "2024-07-15 14:45:21.765672: W tensorflow/core/framework/local_rendezvous.cc:404] Local rendezvous is aborting with status: OUT_OF_RANGE: End of sequence\n",
      "2024-07-15 14:45:21.921141: W tensorflow/core/framework/local_rendezvous.cc:404] Local rendezvous is aborting with status: OUT_OF_RANGE: End of sequence\n",
      "2024-07-15 14:45:22.076284: W tensorflow/core/framework/local_rendezvous.cc:404] Local rendezvous is aborting with status: OUT_OF_RANGE: End of sequence\n",
      "2024-07-15 14:45:22.231276: W tensorflow/core/framework/local_rendezvous.cc:404] Local rendezvous is aborting with status: OUT_OF_RANGE: End of sequence\n",
      "2024-07-15 14:45:22.386234: W tensorflow/core/framework/local_rendezvous.cc:404] Local rendezvous is aborting with status: OUT_OF_RANGE: End of sequence\n",
      "2024-07-15 14:45:22.541207: W tensorflow/core/framework/local_rendezvous.cc:404] Local rendezvous is aborting with status: OUT_OF_RANGE: End of sequence\n",
      "2024-07-15 14:45:22.696565: W tensorflow/core/framework/local_rendezvous.cc:404] Local rendezvous is aborting with status: OUT_OF_RANGE: End of sequence\n",
      "2024-07-15 14:45:22.853356: W tensorflow/core/framework/local_rendezvous.cc:404] Local rendezvous is aborting with status: OUT_OF_RANGE: End of sequence\n",
      "2024-07-15 14:45:23.008912: W tensorflow/core/framework/local_rendezvous.cc:404] Local rendezvous is aborting with status: OUT_OF_RANGE: End of sequence\n",
      "2024-07-15 14:45:23.164041: W tensorflow/core/framework/local_rendezvous.cc:404] Local rendezvous is aborting with status: OUT_OF_RANGE: End of sequence\n",
      "2024-07-15 14:45:23.319423: W tensorflow/core/framework/local_rendezvous.cc:404] Local rendezvous is aborting with status: OUT_OF_RANGE: End of sequence\n",
      "2024-07-15 14:45:23.475910: W tensorflow/core/framework/local_rendezvous.cc:404] Local rendezvous is aborting with status: OUT_OF_RANGE: End of sequence\n",
      "2024-07-15 14:45:23.630721: W tensorflow/core/framework/local_rendezvous.cc:404] Local rendezvous is aborting with status: OUT_OF_RANGE: End of sequence\n",
      "2024-07-15 14:45:23.785308: W tensorflow/core/framework/local_rendezvous.cc:404] Local rendezvous is aborting with status: OUT_OF_RANGE: End of sequence\n",
      "2024-07-15 14:45:23.939981: W tensorflow/core/framework/local_rendezvous.cc:404] Local rendezvous is aborting with status: OUT_OF_RANGE: End of sequence\n",
      "2024-07-15 14:45:24.095889: W tensorflow/core/framework/local_rendezvous.cc:404] Local rendezvous is aborting with status: OUT_OF_RANGE: End of sequence\n",
      "2024-07-15 14:45:24.251037: W tensorflow/core/framework/local_rendezvous.cc:404] Local rendezvous is aborting with status: OUT_OF_RANGE: End of sequence\n",
      "2024-07-15 14:45:24.406212: W tensorflow/core/framework/local_rendezvous.cc:404] Local rendezvous is aborting with status: OUT_OF_RANGE: End of sequence\n",
      "2024-07-15 14:45:24.561494: W tensorflow/core/framework/local_rendezvous.cc:404] Local rendezvous is aborting with status: OUT_OF_RANGE: End of sequence\n",
      "2024-07-15 14:45:24.716881: W tensorflow/core/framework/local_rendezvous.cc:404] Local rendezvous is aborting with status: OUT_OF_RANGE: End of sequence\n",
      "2024-07-15 14:45:24.872018: W tensorflow/core/framework/local_rendezvous.cc:404] Local rendezvous is aborting with status: OUT_OF_RANGE: End of sequence\n",
      "2024-07-15 14:45:25.026938: W tensorflow/core/framework/local_rendezvous.cc:404] Local rendezvous is aborting with status: OUT_OF_RANGE: End of sequence\n",
      "2024-07-15 14:45:25.181861: W tensorflow/core/framework/local_rendezvous.cc:404] Local rendezvous is aborting with status: OUT_OF_RANGE: End of sequence\n",
      "2024-07-15 14:45:25.336915: W tensorflow/core/framework/local_rendezvous.cc:404] Local rendezvous is aborting with status: OUT_OF_RANGE: End of sequence\n",
      "2024-07-15 14:45:25.454377: W tensorflow/core/framework/local_rendezvous.cc:404] Local rendezvous is aborting with status: OUT_OF_RANGE: End of sequence\n",
      "2024-07-15 14:45:25.609552: W tensorflow/core/framework/local_rendezvous.cc:404] Local rendezvous is aborting with status: OUT_OF_RANGE: End of sequence\n",
      "2024-07-15 14:45:25.727758: W tensorflow/core/framework/local_rendezvous.cc:404] Local rendezvous is aborting with status: OUT_OF_RANGE: End of sequence\n",
      "2024-07-15 14:45:25.822274: W tensorflow/core/framework/local_rendezvous.cc:404] Local rendezvous is aborting with status: OUT_OF_RANGE: End of sequence\n",
      "2024-07-15 14:45:25.918676: W tensorflow/core/framework/local_rendezvous.cc:404] Local rendezvous is aborting with status: OUT_OF_RANGE: End of sequence\n",
      "2024-07-15 14:45:26.016685: W tensorflow/core/framework/local_rendezvous.cc:404] Local rendezvous is aborting with status: OUT_OF_RANGE: End of sequence\n",
      "2024-07-15 14:45:26.117121: W tensorflow/core/framework/local_rendezvous.cc:404] Local rendezvous is aborting with status: OUT_OF_RANGE: End of sequence\n",
      "2024-07-15 14:45:26.211473: W tensorflow/core/framework/local_rendezvous.cc:404] Local rendezvous is aborting with status: OUT_OF_RANGE: End of sequence\n",
      "2024-07-15 14:45:26.305089: W tensorflow/core/framework/local_rendezvous.cc:404] Local rendezvous is aborting with status: OUT_OF_RANGE: End of sequence\n",
      "2024-07-15 14:45:26.402429: W tensorflow/core/framework/local_rendezvous.cc:404] Local rendezvous is aborting with status: OUT_OF_RANGE: End of sequence\n",
      "2024-07-15 14:45:26.498626: W tensorflow/core/framework/local_rendezvous.cc:404] Local rendezvous is aborting with status: OUT_OF_RANGE: End of sequence\n",
      "2024-07-15 14:45:26.593353: W tensorflow/core/framework/local_rendezvous.cc:404] Local rendezvous is aborting with status: OUT_OF_RANGE: End of sequence\n",
      "2024-07-15 14:45:26.686809: W tensorflow/core/framework/local_rendezvous.cc:404] Local rendezvous is aborting with status: OUT_OF_RANGE: End of sequence\n",
      "2024-07-15 14:45:27.240918: W tensorflow/core/framework/local_rendezvous.cc:404] Local rendezvous is aborting with status: OUT_OF_RANGE: End of sequence\n",
      "2024-07-15 14:45:27.350109: W tensorflow/core/framework/local_rendezvous.cc:404] Local rendezvous is aborting with status: OUT_OF_RANGE: End of sequence\n",
      "2024-07-15 14:45:27.507060: W tensorflow/core/framework/local_rendezvous.cc:404] Local rendezvous is aborting with status: OUT_OF_RANGE: End of sequence\n",
      "2024-07-15 14:45:27.662442: W tensorflow/core/framework/local_rendezvous.cc:404] Local rendezvous is aborting with status: OUT_OF_RANGE: End of sequence\n",
      "2024-07-15 14:45:27.817389: W tensorflow/core/framework/local_rendezvous.cc:404] Local rendezvous is aborting with status: OUT_OF_RANGE: End of sequence\n",
      "2024-07-15 14:45:27.974533: W tensorflow/core/framework/local_rendezvous.cc:404] Local rendezvous is aborting with status: OUT_OF_RANGE: End of sequence\n",
      "2024-07-15 14:45:28.129775: W tensorflow/core/framework/local_rendezvous.cc:404] Local rendezvous is aborting with status: OUT_OF_RANGE: End of sequence\n",
      "2024-07-15 14:45:28.284671: W tensorflow/core/framework/local_rendezvous.cc:404] Local rendezvous is aborting with status: OUT_OF_RANGE: End of sequence\n",
      "2024-07-15 14:45:28.440507: W tensorflow/core/framework/local_rendezvous.cc:404] Local rendezvous is aborting with status: OUT_OF_RANGE: End of sequence\n",
      "2024-07-15 14:45:28.595262: W tensorflow/core/framework/local_rendezvous.cc:404] Local rendezvous is aborting with status: OUT_OF_RANGE: End of sequence\n",
      "2024-07-15 14:45:28.751738: W tensorflow/core/framework/local_rendezvous.cc:404] Local rendezvous is aborting with status: OUT_OF_RANGE: End of sequence\n",
      "2024-07-15 14:45:28.864955: W tensorflow/core/framework/local_rendezvous.cc:404] Local rendezvous is aborting with status: OUT_OF_RANGE: End of sequence\n",
      "2024-07-15 14:45:29.020727: W tensorflow/core/framework/local_rendezvous.cc:404] Local rendezvous is aborting with status: OUT_OF_RANGE: End of sequence\n",
      "2024-07-15 14:45:29.137996: W tensorflow/core/framework/local_rendezvous.cc:404] Local rendezvous is aborting with status: OUT_OF_RANGE: End of sequence\n",
      "2024-07-15 14:45:29.252638: W tensorflow/core/framework/local_rendezvous.cc:404] Local rendezvous is aborting with status: OUT_OF_RANGE: End of sequence\n",
      "2024-07-15 14:45:29.410769: W tensorflow/core/framework/local_rendezvous.cc:404] Local rendezvous is aborting with status: OUT_OF_RANGE: End of sequence\n",
      "2024-07-15 14:45:29.565918: W tensorflow/core/framework/local_rendezvous.cc:404] Local rendezvous is aborting with status: OUT_OF_RANGE: End of sequence\n",
      "2024-07-15 14:45:29.673921: W tensorflow/core/framework/local_rendezvous.cc:404] Local rendezvous is aborting with status: OUT_OF_RANGE: End of sequence\n",
      "2024-07-15 14:45:29.785376: W tensorflow/core/framework/local_rendezvous.cc:404] Local rendezvous is aborting with status: OUT_OF_RANGE: End of sequence\n",
      "2024-07-15 14:45:29.943567: W tensorflow/core/framework/local_rendezvous.cc:404] Local rendezvous is aborting with status: OUT_OF_RANGE: End of sequence\n",
      "2024-07-15 14:45:30.078129: W tensorflow/core/framework/local_rendezvous.cc:404] Local rendezvous is aborting with status: OUT_OF_RANGE: End of sequence\n",
      "2024-07-15 14:45:30.237572: W tensorflow/core/framework/local_rendezvous.cc:404] Local rendezvous is aborting with status: OUT_OF_RANGE: End of sequence\n",
      "2024-07-15 14:45:30.392365: W tensorflow/core/framework/local_rendezvous.cc:404] Local rendezvous is aborting with status: OUT_OF_RANGE: End of sequence\n",
      "2024-07-15 14:45:30.505175: W tensorflow/core/framework/local_rendezvous.cc:404] Local rendezvous is aborting with status: OUT_OF_RANGE: End of sequence\n",
      "2024-07-15 14:45:30.660575: W tensorflow/core/framework/local_rendezvous.cc:404] Local rendezvous is aborting with status: OUT_OF_RANGE: End of sequence\n",
      "2024-07-15 14:45:30.815962: W tensorflow/core/framework/local_rendezvous.cc:404] Local rendezvous is aborting with status: OUT_OF_RANGE: End of sequence\n",
      "2024-07-15 14:45:30.972016: W tensorflow/core/framework/local_rendezvous.cc:404] Local rendezvous is aborting with status: OUT_OF_RANGE: End of sequence\n",
      "2024-07-15 14:45:31.094100: W tensorflow/core/framework/local_rendezvous.cc:404] Local rendezvous is aborting with status: OUT_OF_RANGE: End of sequence\n",
      "2024-07-15 14:45:31.220967: W tensorflow/core/framework/local_rendezvous.cc:404] Local rendezvous is aborting with status: OUT_OF_RANGE: End of sequence\n",
      "2024-07-15 14:45:31.379191: W tensorflow/core/framework/local_rendezvous.cc:404] Local rendezvous is aborting with status: OUT_OF_RANGE: End of sequence\n",
      "2024-07-15 14:45:31.493194: W tensorflow/core/framework/local_rendezvous.cc:404] Local rendezvous is aborting with status: OUT_OF_RANGE: End of sequence\n",
      "2024-07-15 14:45:31.605181: W tensorflow/core/framework/local_rendezvous.cc:404] Local rendezvous is aborting with status: OUT_OF_RANGE: End of sequence\n",
      "2024-07-15 14:45:31.760588: W tensorflow/core/framework/local_rendezvous.cc:404] Local rendezvous is aborting with status: OUT_OF_RANGE: End of sequence\n",
      "2024-07-15 14:45:31.878773: W tensorflow/core/framework/local_rendezvous.cc:404] Local rendezvous is aborting with status: OUT_OF_RANGE: End of sequence\n",
      "2024-07-15 14:45:32.033779: W tensorflow/core/framework/local_rendezvous.cc:404] Local rendezvous is aborting with status: OUT_OF_RANGE: End of sequence\n",
      "2024-07-15 14:45:32.153827: W tensorflow/core/framework/local_rendezvous.cc:404] Local rendezvous is aborting with status: OUT_OF_RANGE: End of sequence\n",
      "2024-07-15 14:45:32.310933: W tensorflow/core/framework/local_rendezvous.cc:404] Local rendezvous is aborting with status: OUT_OF_RANGE: End of sequence\n",
      "2024-07-15 14:45:32.466443: W tensorflow/core/framework/local_rendezvous.cc:404] Local rendezvous is aborting with status: OUT_OF_RANGE: End of sequence\n",
      "2024-07-15 14:45:32.585830: W tensorflow/core/framework/local_rendezvous.cc:404] Local rendezvous is aborting with status: OUT_OF_RANGE: End of sequence\n",
      "2024-07-15 14:45:32.742340: W tensorflow/core/framework/local_rendezvous.cc:404] Local rendezvous is aborting with status: OUT_OF_RANGE: End of sequence\n",
      "2024-07-15 14:45:32.897082: W tensorflow/core/framework/local_rendezvous.cc:404] Local rendezvous is aborting with status: OUT_OF_RANGE: End of sequence\n",
      "2024-07-15 14:45:33.020747: W tensorflow/core/framework/local_rendezvous.cc:404] Local rendezvous is aborting with status: OUT_OF_RANGE: End of sequence\n",
      "2024-07-15 14:45:33.202485: W tensorflow/core/framework/local_rendezvous.cc:404] Local rendezvous is aborting with status: OUT_OF_RANGE: End of sequence\n",
      "2024-07-15 14:45:33.360957: W tensorflow/core/framework/local_rendezvous.cc:404] Local rendezvous is aborting with status: OUT_OF_RANGE: End of sequence\n",
      "2024-07-15 14:45:33.517152: W tensorflow/core/framework/local_rendezvous.cc:404] Local rendezvous is aborting with status: OUT_OF_RANGE: End of sequence\n",
      "2024-07-15 14:45:33.673014: W tensorflow/core/framework/local_rendezvous.cc:404] Local rendezvous is aborting with status: OUT_OF_RANGE: End of sequence\n",
      "2024-07-15 14:45:33.829996: W tensorflow/core/framework/local_rendezvous.cc:404] Local rendezvous is aborting with status: OUT_OF_RANGE: End of sequence\n",
      "2024-07-15 14:45:33.986476: W tensorflow/core/framework/local_rendezvous.cc:404] Local rendezvous is aborting with status: OUT_OF_RANGE: End of sequence\n",
      "2024-07-15 14:45:34.110818: W tensorflow/core/framework/local_rendezvous.cc:404] Local rendezvous is aborting with status: OUT_OF_RANGE: End of sequence\n"
     ]
    }
   ],
   "source": [
    "expID = 'NKIP_FA_058'\n",
    "dbm = DbManager()\n",
    "dbm.detect_outliers(expID, model_name='outlier_v2.h5')"
   ]
  },
  {
   "cell_type": "code",
   "execution_count": null,
   "id": "bd08e1d5a319d0fa",
   "metadata": {
    "collapsed": false
   },
   "outputs": [],
   "source": [
    "sample = Sample(expID, 0)\n",
    "sample.reload_droplets()\n",
    "sample.visualize_droplets(channel=0)"
   ]
  },
  {
   "cell_type": "code",
   "execution_count": null,
   "id": "e57be55fe7cb8342",
   "metadata": {
    "collapsed": false
   },
   "outputs": [],
   "source": []
  },
  {
   "cell_type": "markdown",
   "id": "62b392b2b9895a4e",
   "metadata": {
    "collapsed": false
   },
   "source": [
    "# WP Generation"
   ]
  },
  {
   "cell_type": "code",
   "execution_count": null,
   "id": "1da084012ff33ba1",
   "metadata": {
    "collapsed": false
   },
   "outputs": [],
   "source": [
    "dbm = DbManager()\n",
    "dbm.generate_wp('NKIP_FA_058', exclude_query='outlier == True')"
   ]
  },
  {
   "cell_type": "code",
   "execution_count": null,
   "id": "9acf74385913f907",
   "metadata": {
    "collapsed": false
   },
   "outputs": [],
   "source": []
  },
  {
   "cell_type": "markdown",
   "id": "e52fb701d8cf1cb1",
   "metadata": {
    "collapsed": false
   },
   "source": [
    "# Inference"
   ]
  },
  {
   "cell_type": "code",
   "execution_count": 4,
   "id": "e67ed892d358b79a",
   "metadata": {
    "ExecuteTime": {
     "end_time": "2024-07-18T12:36:28.093048Z",
     "start_time": "2024-07-18T12:36:27.969557Z"
    },
    "collapsed": false
   },
   "outputs": [],
   "source": [
    "expID = 'NKIP_FA_055'\n",
    "dbm = DbManager()"
   ]
  },
  {
   "cell_type": "code",
   "execution_count": 5,
   "id": "c276dccda721909c",
   "metadata": {
    "ExecuteTime": {
     "end_time": "2024-07-18T12:44:36.585655Z",
     "start_time": "2024-07-18T12:36:28.466808Z"
    },
    "collapsed": false
   },
   "outputs": [
    {
     "name": "stderr",
     "output_type": "stream",
     "text": [
      "WARNING:absl:Compiled the loaded model, but the compiled metrics have yet to be built. `model.compile_metrics` will be empty until you train or evaluate the model.\n",
      "2024-07-18 14:36:39.943030: W tensorflow/core/framework/local_rendezvous.cc:404] Local rendezvous is aborting with status: OUT_OF_RANGE: End of sequence\n"
     ]
    },
    {
     "name": "stdout",
     "output_type": "stream",
     "text": [
      "\u001B[1m4538/4538\u001B[0m \u001B[32m━━━━━━━━━━━━━━━━━━━━\u001B[0m\u001B[37m\u001B[0m \u001B[1m474s\u001B[0m 104ms/step\n"
     ]
    },
    {
     "name": "stderr",
     "output_type": "stream",
     "text": [
      "2024-07-18 14:44:33.960091: W tensorflow/core/framework/local_rendezvous.cc:404] Local rendezvous is aborting with status: OUT_OF_RANGE: End of sequence\n",
      "/Users/fauberma/mambaforge/envs/dropcnn/lib/python3.12/contextlib.py:155: UserWarning: Your input ran out of data; interrupting training. Make sure that your dataset or generator can generate at least `steps_per_epoch * epochs` batches. You may need to use the `.repeat()` function when building your dataset.\n",
      "  self.gen.throw(value)\n"
     ]
    }
   ],
   "source": [
    "dbm.cell_count(expID, model_name='cell_count_v2.h5')"
   ]
  },
  {
   "cell_type": "code",
   "execution_count": null,
   "id": "bb9912f8ea0cf3f2",
   "metadata": {
    "collapsed": false
   },
   "outputs": [],
   "source": []
  }
 ],
 "metadata": {
  "kernelspec": {
   "display_name": "Python 3 (ipykernel)",
   "language": "python",
   "name": "python3"
  },
  "language_info": {
   "codemirror_mode": {
    "name": "ipython",
    "version": 3
   },
   "file_extension": ".py",
   "mimetype": "text/x-python",
   "name": "python",
   "nbconvert_exporter": "python",
   "pygments_lexer": "ipython3",
   "version": "3.12.0"
  }
 },
 "nbformat": 4,
 "nbformat_minor": 5
}
