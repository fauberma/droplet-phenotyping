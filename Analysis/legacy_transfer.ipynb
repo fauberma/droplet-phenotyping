{
 "cells": [
  {
   "cell_type": "code",
   "execution_count": 3,
   "id": "d0de49a0",
   "metadata": {},
   "outputs": [],
   "source": [
    "import glob\n",
    "import pandas as pd\n",
    "import sys\n",
    "import os\n",
    "sys.path.append(os.path.join(os.getcwd(), os.pardir))\n",
    "from Tools.exp_tools import Experiment\n",
    "\n",
    "\n",
    "def get_df(path):\n",
    "    df = pd.read_csv(path)\n",
    "    df.rename(\n",
    "        columns={'GlobalID': 'droplet_id', 'Effector': 'effector', 'Target': 'target', 'dead_Effector': 'dead_effector',\n",
    "                 'dead_Target': 'dead_target'}, inplace=True)\n",
    "    df = df.astype({'droplet_id': int})\n",
    "    df.set_index('droplet_id', inplace=True)\n",
    "    df.drop(columns=['i'], inplace=True)\n",
    "    return df"
   ]
  },
  {
   "cell_type": "code",
   "execution_count": 4,
   "id": "a26db60b",
   "metadata": {},
   "outputs": [],
   "source": [
    "exp_id = 'NKIP_FA_082'\n",
    "experiment = Experiment(exp_id)"
   ]
  },
  {
   "cell_type": "code",
   "execution_count": null,
   "id": "bc82a8db",
   "metadata": {},
   "outputs": [],
   "source": [
    "# add droplets to db\n",
    "\n",
    "droplets = pd.read_csv(os.path.join(os.getenv('EXP_DIR'), exp_id, 'droplets.csv'))\n",
    "droplets.rename(columns={'GlobalID': 'droplet_id', 'frameID':'frame_id'}, inplace=True)\n",
    "droplets['experiment_id'] = exp_id\n",
    "\n",
    "experiment.db.add_droplets(droplets)\n",
    "tfrecord_manifest = {\n",
    "    'n_frames': droplets.index.size,\n",
    "    'y_shape': 128,\n",
    "    'x_shape': 128,\n",
    "    'n_channels': experiment.handler.channel_df.index.size,\n",
    "    'channel_info': experiment.handler.channel_df['channel_name'].to_dict(),\n",
    "}\n",
    "experiment.db.update_manifest(tfrecord_manifest)"
   ]
  },
  {
   "cell_type": "code",
   "execution_count": null,
   "id": "7708eeb2",
   "metadata": {},
   "outputs": [],
   "source": [
    "experiment.db.clear_annotations()"
   ]
  },
  {
   "cell_type": "code",
   "execution_count": null,
   "id": "7a1fd7ff",
   "metadata": {},
   "outputs": [],
   "source": [
    "# add cell_count predictions to annotations table\n",
    "prefix = 'cell_count_v3'\n",
    "droplets = pd.read_csv(os.path.join(os.getenv('EXP_DIR'), exp_id, 'droplets.csv'))\n",
    "droplets.rename(columns={'GlobalID': 'droplet_id', 'frameID':'frame_id'}, inplace=True)\n",
    "droplets['experiment_id'] = exp_id\n",
    "droplets.set_index('droplet_id', inplace=True)\n",
    "droplets.rename(columns={f'{prefix}_dead_Effector': 'dead_effector',\n",
    "                         f'{prefix}_Target': 'target',\n",
    "                         f'{prefix}_Effector': 'effector',\n",
    "                         f'{prefix}_dead_Target': 'dead_target'}, inplace=True)\n",
    "selected_annotations = ['dead_effector', 'dead_target', 'effector', 'target']\n",
    "droplets[selected_annotations].head()"
   ]
  },
  {
   "cell_type": "code",
   "execution_count": null,
   "id": "04febc8d",
   "metadata": {},
   "outputs": [],
   "source": [
    "source = 'cell_count_v3'\n",
    "annotations = []\n",
    "\n",
    "for droplet_id, droplet in droplets[selected_annotations].iterrows():\n",
    "    for label_type, value  in droplet.items():\n",
    "        annotations.append({'droplet_id': droplet_id, 'label_type': label_type, 'value': str(int(value)), 'source': source})\n",
    "\n",
    "annotation_df = pd.DataFrame(annotations)\n",
    "print(annotation_df.head())\n",
    "experiment.db.add_annotations(annotation_df)"
   ]
  },
  {
   "cell_type": "code",
   "execution_count": null,
   "id": "5f2af732",
   "metadata": {},
   "outputs": [],
   "source": [
    "# Import workpackages\n",
    "wps = glob.glob(os.path.join(os.getenv('EXP_DIR'), exp_id, '*', 'WP_*.csv'))\n",
    "annotations = []\n",
    "for wp in wps:\n",
    "    wp_id = os.path.basename(wp)\n",
    "    df = get_df(wp).sort_values('droplet_id')\n",
    "\n",
    "    for droplet_id, droplet in df.iterrows():\n",
    "        for label_type, value in droplet.items():\n",
    "            if not pd.isna(value):\n",
    "                annotations.append({'droplet_id': droplet_id, 'label_type': label_type, 'value': str(int(value)), 'ap_id': wp_id, 'status': 'completed'})\n",
    "            else:\n",
    "                annotations.append({'droplet_id': droplet_id, 'label_type': label_type, 'value': None, 'ap_id': wp_id, 'status': 'pending'})\n",
    "    \n",
    "    db_manifest = experiment.db.get_manifest()\n",
    "    if 'annotation_packages' not in db_manifest.keys():\n",
    "        db_manifest['annotation_packages'] = {}\n",
    "    db_manifest['annotation_packages'][wp_id] = \"None\"\n",
    "    experiment.db.update_manifest(db_manifest)\n",
    "\n",
    "annotation_df = pd.DataFrame(annotations)\n",
    "experiment.db.add_annotations(annotation_df)\n",
    "\n"
   ]
  }
 ],
 "metadata": {
  "kernelspec": {
   "display_name": "phenotyping_v1",
   "language": "python",
   "name": "python3"
  },
  "language_info": {
   "codemirror_mode": {
    "name": "ipython",
    "version": 3
   },
   "file_extension": ".py",
   "mimetype": "text/x-python",
   "name": "python",
   "nbconvert_exporter": "python",
   "pygments_lexer": "ipython3",
   "version": "3.12.0"
  }
 },
 "nbformat": 4,
 "nbformat_minor": 5
}
