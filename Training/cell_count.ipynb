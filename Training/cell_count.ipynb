{
 "cells": [
  {
   "cell_type": "code",
   "execution_count": 1,
   "id": "761bef56-6371-4bff-b0de-a91fe371e7d0",
   "metadata": {
    "tags": [],
    "ExecuteTime": {
     "end_time": "2024-07-18T12:42:07.502304Z",
     "start_time": "2024-07-18T12:42:07.458568Z"
    }
   },
   "outputs": [],
   "source": [
    "%load_ext autoreload\n",
    "%autoreload 2"
   ]
  },
  {
   "cell_type": "markdown",
   "id": "9b8ce06a-1c05-4763-a02f-bc20620c88d0",
   "metadata": {
    "tags": []
   },
   "source": [
    "# Functions & Imports"
   ]
  },
  {
   "cell_type": "code",
   "execution_count": 2,
   "id": "b99a359d-0033-4a57-b09b-f933529948c8",
   "metadata": {
    "tags": [],
    "ExecuteTime": {
     "end_time": "2024-07-18T12:42:14.315794Z",
     "start_time": "2024-07-18T12:42:07.519966Z"
    }
   },
   "outputs": [],
   "source": [
    "from Setup.config import config\n",
    "import os\n",
    "import numpy as np\n",
    "import pandas as pd\n",
    "import keras\n",
    "import tensorflow as tf\n",
    "from Tools.leica_tools import RawLoader\n",
    "from Tools.db_tools import DbManager\n",
    "from functools import partial\n",
    "import matplotlib.pyplot as plt\n",
    "from sklearn.metrics import confusion_matrix, ConfusionMatrixDisplay\n",
    "from keras.optimizers import Adam, RMSprop\n",
    "from keras.models import Model, load_model\n",
    "from keras.layers import Input, Conv2D, Flatten, Dense, MaxPooling2D, Dropout, Layer\n",
    "from keras.losses import MeanSquaredError, CategoricalCrossentropy\n",
    "from keras.metrics import CategoricalAccuracy\n",
    "from keras.utils import plot_model"
   ]
  },
  {
   "cell_type": "markdown",
   "source": [
    "# Cell count classification"
   ],
   "metadata": {
    "collapsed": false
   },
   "id": "1eda3bc46ae2b697"
  },
  {
   "cell_type": "code",
   "execution_count": 3,
   "outputs": [],
   "source": [
    "def cell_count(inputs, cls_label):\n",
    "    # Add convolutional layer\n",
    "    conv1 = Conv2D(32, (3, 3), activation='relu', name=cls_label + '_conv1')(inputs)\n",
    "    pool1 = MaxPooling2D(pool_size=(2, 2), name=cls_label + '_pool1')(conv1)\n",
    "\n",
    "    conv2 = Conv2D(64, (3, 3), activation='relu', name=cls_label + '_conv2')(pool1)\n",
    "    pool2 = MaxPooling2D(pool_size=(2, 2), name=cls_label + '_pool2')(conv2)\n",
    "\n",
    "    conv3 = Conv2D(128, (3, 3), activation='relu', name=cls_label + '_conv3')(pool2)\n",
    "    pool3 = MaxPooling2D(pool_size=(2, 2), name=cls_label + '_pool3')(conv3)\n",
    "\n",
    "    # Flatten the output from the convolutional layers\n",
    "    flatten = Flatten(name=cls_label + '_flatten')(pool3)\n",
    "\n",
    "    # Add fully connected layers\n",
    "    dense1 = Dense(512, activation='relu', name=cls_label + '_dense1')(flatten)\n",
    "    dropout1 = Dropout(0.5, name=cls_label + '_dropout1')(dense1)  # Dropout rate of 0.5 (50% dropout rate)\n",
    "\n",
    "    dense2 = Dense(256, activation='relu', name=cls_label + '_dense2')(dropout1)\n",
    "    dropout2 = Dropout(0.5, name=cls_label + '_dropout2')(dense2)  # Dropout rate of 0.5 (50% dropout rate)\n",
    "\n",
    "    dense3 = Dense(128, activation='relu', name=cls_label + '_dense3')(dropout2)\n",
    "    dropout3 = Dropout(0.5, name=cls_label + '_dropout3')(dense3)  # Dropout rate of 0.5 (50% dropout rate)\n",
    "\n",
    "    output = Dense(5, activation='softmax', name=cls_label + '_output')(dropout3)\n",
    "\n",
    "    model = Model(inputs=inputs, outputs=output, name=cls_label + '_model')\n",
    "\n",
    "    return model\n",
    "\n",
    "def get_model(labels):\n",
    "    input = Input(shape=(128,128,4), name='cell_count_input')\n",
    "    models = [cell_count(input, label) for label in labels]\n",
    "    model = Model(inputs=[input], outputs=[m.output for m in models])\n",
    "    model.compile(optimizer=Adam(),\n",
    "                  loss={label+'_output': CategoricalCrossentropy() for label in labels},\n",
    "                  metrics={label+'_output': CategoricalAccuracy() for label in labels})\n",
    "    return model\n",
    "\n",
    "def get_single_model(label):\n",
    "    input = Input(shape=(128,128,4), name='cell_count_input')\n",
    "    model = cell_count(input, label)\n",
    "    model.compile(optimizer=Adam(),\n",
    "                  loss = {f'{label}_output': CategoricalCrossentropy()},\n",
    "                  metrics= {f'{label}_output': CategoricalAccuracy()})\n",
    "    return model"
   ],
   "metadata": {
    "collapsed": false,
    "ExecuteTime": {
     "end_time": "2024-07-18T12:42:14.386785Z",
     "start_time": "2024-07-18T12:42:14.324605Z"
    }
   },
   "id": "cadb08979cf9903b"
  },
  {
   "cell_type": "code",
   "execution_count": 4,
   "outputs": [],
   "source": [
    "def filter_dataset(element, filter_df):\n",
    "    return tf.py_function(lambda x, i: filter_df.loc[(x.numpy().decode(), i.numpy()), 'include'], [element['expID'], element['GlobalID']], tf.bool)\n",
    "    \n",
    "def prepare_data(element, annotations):\n",
    "    globalID = element['GlobalID']  # Assuming 'GlobalID' is a tensor\n",
    "    image = tf.cast(element['frame'], tf.float32)\n",
    "    image = tf.math.log(image+1)\n",
    "    image = (image - tf.reduce_min(image)) /(tf.reduce_max(image) - tf.reduce_min(image))\n",
    "    element['cell_count_input'] = image\n",
    "    \n",
    "    outputs = {}\n",
    "    for ann_key in annotations.columns:\n",
    "        label = tf.py_function(lambda x, i: annotations.loc[(x.numpy().decode(), i.numpy()), ann_key], [element['expID'], globalID], tf.int64)\n",
    "        label.set_shape(())\n",
    "        label = tf.cast(tf.one_hot(label, 5), tf.int64)\n",
    "        outputs[ann_key + '_output'] = label\n",
    "    return element, outputs\n",
    "    \n",
    "def build_dataset(expIDs, annotation_keys):\n",
    "    dataset = dbm.get_datasets(expIDs, shuffle=True)\n",
    "    filter_dfs = []\n",
    "    ann_dfs = []\n",
    "    for expID in expIDs:\n",
    "        drop_register = RawLoader(expID).get_dropregister()\n",
    "        ann_df = dbm.get_wps(expID, allow_partial=False).set_index('GlobalID').filter(annotation_keys)\n",
    "        ann_df = ann_df[ann_df.apply(lambda row: (row != 10).all(), axis=1)].copy()\n",
    "        ann_df[ann_df > 4] = 4\n",
    "        \n",
    "\n",
    "        filter_df = pd.Series({ID: (ID in ann_df.index) for ID in drop_register.index}, name='include').to_frame()\n",
    "        filter_df.set_index(pd.MultiIndex.from_product([[expID], filter_df.index]), inplace=True)\n",
    "        filter_dfs.append(filter_df)\n",
    "        \n",
    "        ann_df.set_index(pd.MultiIndex.from_product([[expID], ann_df.index]), inplace=True)\n",
    "        ann_dfs.append(ann_df)\n",
    "    filter_df = pd.concat(filter_dfs)\n",
    "    ann_df = pd.concat(ann_dfs)\n",
    "    \n",
    "    filtered_dataset = dataset.filter(partial(filter_dataset, filter_df=filter_df))\n",
    "    annotated_dataset = filtered_dataset.map(partial(prepare_data, annotations=ann_df))\n",
    "    return annotated_dataset\n",
    "    \n",
    "    "
   ],
   "metadata": {
    "collapsed": false,
    "ExecuteTime": {
     "end_time": "2024-07-18T12:42:14.421257Z",
     "start_time": "2024-07-18T12:42:14.374410Z"
    }
   },
   "id": "d109eee2abf79eea"
  },
  {
   "cell_type": "code",
   "execution_count": 5,
   "outputs": [],
   "source": [
    "dbm = DbManager()"
   ],
   "metadata": {
    "collapsed": false,
    "ExecuteTime": {
     "end_time": "2024-07-18T12:42:14.847771Z",
     "start_time": "2024-07-18T12:42:14.428549Z"
    }
   },
   "id": "f6ddbfbea7e50967"
  },
  {
   "cell_type": "code",
   "execution_count": 21,
   "outputs": [],
   "source": [
    "expIDs = ['NKIP_FA_052', 'NKIP_FA_055', 'NKIP_FA_056', 'FA_2024_049', 'FA_2024_050', 'AT_2024_007', ]\n",
    "annotation_keys = ['Target', 'Effector', 'dead_Target', 'dead_Effector']\n",
    "dataset = build_dataset(expIDs, annotation_keys)\n",
    "validation_dataset = build_dataset(['NKIP_FA_053'], annotation_keys)"
   ],
   "metadata": {
    "collapsed": false,
    "ExecuteTime": {
     "end_time": "2024-07-18T15:53:59.484349Z",
     "start_time": "2024-07-18T15:53:56.457420Z"
    }
   },
   "id": "502ba335b86d0964"
  },
  {
   "cell_type": "code",
   "execution_count": 22,
   "outputs": [
    {
     "name": "stdout",
     "output_type": "stream",
     "text": [
      "11050 frames in train dataset\n",
      "958 frames in test dataset\n"
     ]
    }
   ],
   "source": [
    "n_elements = dataset.reduce(tf.constant(0), lambda a,b: a+1).numpy()\n",
    "n_elements_val = validation_dataset.reduce(tf.constant(0), lambda a,b: a+1).numpy()\n",
    "print(f'{n_elements} frames in train dataset')\n",
    "print(f'{n_elements_val} frames in test dataset')"
   ],
   "metadata": {
    "collapsed": false,
    "ExecuteTime": {
     "end_time": "2024-07-18T15:55:55.978325Z",
     "start_time": "2024-07-18T15:53:59.484735Z"
    }
   },
   "id": "3c485e82967bf274"
  },
  {
   "cell_type": "code",
   "execution_count": 23,
   "outputs": [],
   "source": [
    "train_final = dataset.repeat(12).batch(32)\n",
    "test_final = validation_dataset.repeat(12).batch(32)"
   ],
   "metadata": {
    "collapsed": false,
    "ExecuteTime": {
     "end_time": "2024-07-18T15:55:56.029356Z",
     "start_time": "2024-07-18T15:55:55.973390Z"
    }
   },
   "id": "856ba1c23856b8a6"
  },
  {
   "cell_type": "code",
   "execution_count": 24,
   "outputs": [],
   "source": [
    "model = get_model(annotation_keys)"
   ],
   "metadata": {
    "collapsed": false,
    "ExecuteTime": {
     "end_time": "2024-07-18T15:55:56.153713Z",
     "start_time": "2024-07-18T15:55:56.030035Z"
    }
   },
   "id": "4a7c4413f045cab8"
  },
  {
   "cell_type": "code",
   "execution_count": 25,
   "outputs": [],
   "source": [
    "model_arch = plot_model(model, to_file='cell_count.png', dpi=100)"
   ],
   "metadata": {
    "collapsed": false,
    "ExecuteTime": {
     "end_time": "2024-07-18T15:55:56.560585Z",
     "start_time": "2024-07-18T15:55:56.154737Z"
    }
   },
   "id": "a3b8ae375ce1594c"
  },
  {
   "cell_type": "code",
   "execution_count": 26,
   "outputs": [
    {
     "name": "stdout",
     "output_type": "stream",
     "text": [
      "Epoch 1/12\n",
      "\u001B[1m375/375\u001B[0m \u001B[32m━━━━━━━━━━━━━━━━━━━━\u001B[0m\u001B[37m\u001B[0m \u001B[1m265s\u001B[0m 699ms/step - Effector_output_categorical_accuracy: 0.5740 - Target_output_categorical_accuracy: 0.4686 - dead_Effector_output_categorical_accuracy: 0.8161 - dead_Target_output_categorical_accuracy: 0.7177 - loss: 3.7179 - val_Effector_output_categorical_accuracy: 0.7812 - val_Target_output_categorical_accuracy: 0.8470 - val_dead_Effector_output_categorical_accuracy: 0.9289 - val_dead_Target_output_categorical_accuracy: 0.9472 - val_loss: 1.4597\n",
      "Epoch 2/12\n",
      "\u001B[1m375/375\u001B[0m \u001B[32m━━━━━━━━━━━━━━━━━━━━\u001B[0m\u001B[37m\u001B[0m \u001B[1m257s\u001B[0m 687ms/step - Effector_output_categorical_accuracy: 0.7441 - Target_output_categorical_accuracy: 0.7312 - dead_Effector_output_categorical_accuracy: 0.8527 - dead_Target_output_categorical_accuracy: 0.8286 - loss: 2.1251 - val_Effector_output_categorical_accuracy: 0.8685 - val_Target_output_categorical_accuracy: 0.8190 - val_dead_Effector_output_categorical_accuracy: 0.9461 - val_dead_Target_output_categorical_accuracy: 0.9450 - val_loss: 1.2456\n",
      "Epoch 3/12\n",
      "\u001B[1m375/375\u001B[0m \u001B[32m━━━━━━━━━━━━━━━━━━━━\u001B[0m\u001B[37m\u001B[0m \u001B[1m259s\u001B[0m 691ms/step - Effector_output_categorical_accuracy: 0.7760 - Target_output_categorical_accuracy: 0.7798 - dead_Effector_output_categorical_accuracy: 0.8609 - dead_Target_output_categorical_accuracy: 0.8425 - loss: 1.9019 - val_Effector_output_categorical_accuracy: 0.8685 - val_Target_output_categorical_accuracy: 0.8297 - val_dead_Effector_output_categorical_accuracy: 0.9494 - val_dead_Target_output_categorical_accuracy: 0.9537 - val_loss: 1.3358\n",
      "Epoch 4/12\n",
      "\u001B[1m375/375\u001B[0m \u001B[32m━━━━━━━━━━━━━━━━━━━━\u001B[0m\u001B[37m\u001B[0m \u001B[1m256s\u001B[0m 684ms/step - Effector_output_categorical_accuracy: 0.7964 - Target_output_categorical_accuracy: 0.8022 - dead_Effector_output_categorical_accuracy: 0.8785 - dead_Target_output_categorical_accuracy: 0.8559 - loss: 1.7568 - val_Effector_output_categorical_accuracy: 0.8351 - val_Target_output_categorical_accuracy: 0.8287 - val_dead_Effector_output_categorical_accuracy: 0.9558 - val_dead_Target_output_categorical_accuracy: 0.9429 - val_loss: 1.2037\n",
      "Epoch 5/12\n",
      "\u001B[1m375/375\u001B[0m \u001B[32m━━━━━━━━━━━━━━━━━━━━\u001B[0m\u001B[37m\u001B[0m \u001B[1m259s\u001B[0m 691ms/step - Effector_output_categorical_accuracy: 0.8028 - Target_output_categorical_accuracy: 0.8168 - dead_Effector_output_categorical_accuracy: 0.8767 - dead_Target_output_categorical_accuracy: 0.8594 - loss: 1.6568 - val_Effector_output_categorical_accuracy: 0.9030 - val_Target_output_categorical_accuracy: 0.8685 - val_dead_Effector_output_categorical_accuracy: 0.9515 - val_dead_Target_output_categorical_accuracy: 0.9558 - val_loss: 0.9654\n",
      "Epoch 6/12\n",
      "\u001B[1m375/375\u001B[0m \u001B[32m━━━━━━━━━━━━━━━━━━━━\u001B[0m\u001B[37m\u001B[0m \u001B[1m251s\u001B[0m 670ms/step - Effector_output_categorical_accuracy: 0.8203 - Target_output_categorical_accuracy: 0.8368 - dead_Effector_output_categorical_accuracy: 0.8917 - dead_Target_output_categorical_accuracy: 0.8658 - loss: 1.5430 - val_Effector_output_categorical_accuracy: 0.8933 - val_Target_output_categorical_accuracy: 0.9170 - val_dead_Effector_output_categorical_accuracy: 0.9472 - val_dead_Target_output_categorical_accuracy: 0.9547 - val_loss: 0.7936\n",
      "Epoch 7/12\n",
      "\u001B[1m375/375\u001B[0m \u001B[32m━━━━━━━━━━━━━━━━━━━━\u001B[0m\u001B[37m\u001B[0m \u001B[1m258s\u001B[0m 689ms/step - Effector_output_categorical_accuracy: 0.8280 - Target_output_categorical_accuracy: 0.8477 - dead_Effector_output_categorical_accuracy: 0.8919 - dead_Target_output_categorical_accuracy: 0.8691 - loss: 1.4794 - val_Effector_output_categorical_accuracy: 0.9235 - val_Target_output_categorical_accuracy: 0.8966 - val_dead_Effector_output_categorical_accuracy: 0.9688 - val_dead_Target_output_categorical_accuracy: 0.9526 - val_loss: 0.7507\n",
      "Epoch 8/12\n",
      "\u001B[1m375/375\u001B[0m \u001B[32m━━━━━━━━━━━━━━━━━━━━\u001B[0m\u001B[37m\u001B[0m \u001B[1m255s\u001B[0m 680ms/step - Effector_output_categorical_accuracy: 0.8332 - Target_output_categorical_accuracy: 0.8625 - dead_Effector_output_categorical_accuracy: 0.8964 - dead_Target_output_categorical_accuracy: 0.8740 - loss: 1.3924 - val_Effector_output_categorical_accuracy: 0.9030 - val_Target_output_categorical_accuracy: 0.9159 - val_dead_Effector_output_categorical_accuracy: 0.9547 - val_dead_Target_output_categorical_accuracy: 0.9580 - val_loss: 0.7818\n",
      "Epoch 9/12\n",
      "\u001B[1m375/375\u001B[0m \u001B[32m━━━━━━━━━━━━━━━━━━━━\u001B[0m\u001B[37m\u001B[0m \u001B[1m254s\u001B[0m 677ms/step - Effector_output_categorical_accuracy: 0.8375 - Target_output_categorical_accuracy: 0.8696 - dead_Effector_output_categorical_accuracy: 0.8983 - dead_Target_output_categorical_accuracy: 0.8877 - loss: 1.3243 - val_Effector_output_categorical_accuracy: 0.9181 - val_Target_output_categorical_accuracy: 0.9116 - val_dead_Effector_output_categorical_accuracy: 0.9526 - val_dead_Target_output_categorical_accuracy: 0.9461 - val_loss: 0.8478\n",
      "Epoch 10/12\n",
      "\u001B[1m375/375\u001B[0m \u001B[32m━━━━━━━━━━━━━━━━━━━━\u001B[0m\u001B[37m\u001B[0m \u001B[1m252s\u001B[0m 674ms/step - Effector_output_categorical_accuracy: 0.8469 - Target_output_categorical_accuracy: 0.8798 - dead_Effector_output_categorical_accuracy: 0.9080 - dead_Target_output_categorical_accuracy: 0.8899 - loss: 1.2481 - val_Effector_output_categorical_accuracy: 0.8912 - val_Target_output_categorical_accuracy: 0.9181 - val_dead_Effector_output_categorical_accuracy: 0.9558 - val_dead_Target_output_categorical_accuracy: 0.9558 - val_loss: 0.8453\n",
      "Epoch 11/12\n",
      "\u001B[1m375/375\u001B[0m \u001B[32m━━━━━━━━━━━━━━━━━━━━\u001B[0m\u001B[37m\u001B[0m \u001B[1m255s\u001B[0m 680ms/step - Effector_output_categorical_accuracy: 0.8601 - Target_output_categorical_accuracy: 0.8856 - dead_Effector_output_categorical_accuracy: 0.9007 - dead_Target_output_categorical_accuracy: 0.8912 - loss: 1.1928 - val_Effector_output_categorical_accuracy: 0.9073 - val_Target_output_categorical_accuracy: 0.8858 - val_dead_Effector_output_categorical_accuracy: 0.9504 - val_dead_Target_output_categorical_accuracy: 0.9526 - val_loss: 1.0088\n",
      "Epoch 12/12\n",
      "\u001B[1m 19/375\u001B[0m \u001B[32m━\u001B[0m\u001B[37m━━━━━━━━━━━━━━━━━━━\u001B[0m \u001B[1m5:10\u001B[0m 872ms/step - Effector_output_categorical_accuracy: 0.8659 - Target_output_categorical_accuracy: 0.9142 - dead_Effector_output_categorical_accuracy: 0.9144 - dead_Target_output_categorical_accuracy: 0.9211 - loss: 0.9979"
     ]
    },
    {
     "name": "stderr",
     "output_type": "stream",
     "text": [
      "2024-07-18 18:43:13.471939: W tensorflow/core/framework/local_rendezvous.cc:404] Local rendezvous is aborting with status: OUT_OF_RANGE: End of sequence\n",
      "\t [[{{node IteratorGetNext}}]]\n",
      "/Users/fauberma/mambaforge/envs/dropcnn/lib/python3.12/contextlib.py:155: UserWarning: Your input ran out of data; interrupting training. Make sure that your dataset or generator can generate at least `steps_per_epoch * epochs` batches. You may need to use the `.repeat()` function when building your dataset.\n",
      "  self.gen.throw(value)\n"
     ]
    },
    {
     "name": "stdout",
     "output_type": "stream",
     "text": [
      "\u001B[1m375/375\u001B[0m \u001B[32m━━━━━━━━━━━━━━━━━━━━\u001B[0m\u001B[37m\u001B[0m \u001B[1m30s\u001B[0m 80ms/step - Effector_output_categorical_accuracy: 0.8508 - Target_output_categorical_accuracy: 0.9070 - dead_Effector_output_categorical_accuracy: 0.9007 - dead_Target_output_categorical_accuracy: 0.9074 - loss: 1.1625 - val_Effector_output_categorical_accuracy: 0.8944 - val_Target_output_categorical_accuracy: 0.9170 - val_dead_Effector_output_categorical_accuracy: 0.9149 - val_dead_Target_output_categorical_accuracy: 0.9601 - val_loss: 0.9750\n"
     ]
    },
    {
     "data": {
      "text/plain": "<keras.src.callbacks.history.History at 0x540707e00>"
     },
     "execution_count": 26,
     "metadata": {},
     "output_type": "execute_result"
    }
   ],
   "source": [
    "model.fit(train_final, validation_data=test_final, batch_size=32, steps_per_epoch=375, epochs=12, validation_steps=29)"
   ],
   "metadata": {
    "collapsed": false,
    "ExecuteTime": {
     "end_time": "2024-07-18T16:43:27.674427Z",
     "start_time": "2024-07-18T15:55:56.561107Z"
    }
   },
   "id": "cbb94a46c8168d5"
  },
  {
   "cell_type": "code",
   "execution_count": 12,
   "outputs": [
    {
     "name": "stderr",
     "output_type": "stream",
     "text": [
      "WARNING:absl:You are saving your model as an HDF5 file via `model.save()` or `keras.saving.save_model(model)`. This file format is considered legacy. We recommend using instead the native Keras format, e.g. `model.save('my_model.keras')` or `keras.saving.save_model(model, 'my_model.keras')`. \n"
     ]
    }
   ],
   "source": [
    "model.save(os.path.join(os.getenv('MODEL_DIR'), 'cell_count_v2.h5'))"
   ],
   "metadata": {
    "collapsed": false,
    "ExecuteTime": {
     "end_time": "2024-07-18T13:50:03.552022Z",
     "start_time": "2024-07-18T13:50:03.134098Z"
    }
   },
   "id": "db8e47eaaeaaa18"
  },
  {
   "cell_type": "markdown",
   "source": [
    "# Evaluate performance"
   ],
   "metadata": {
    "collapsed": false
   },
   "id": "f77174d21bce748f"
  },
  {
   "cell_type": "code",
   "execution_count": 19,
   "outputs": [],
   "source": [
    "dbm = DbManager()\n",
    "expIDs = [ 'NKIP_FA_052', 'NKIP_FA_055', 'NKIP_FA_056', 'FA_2024_049', 'FA_2024_050', 'AT_2024_007',]\n",
    "annotation_keys = ['Target', 'Effector', 'dead_Target', 'dead_Effector']\n",
    "dataset = build_dataset(expIDs, annotation_keys)"
   ],
   "metadata": {
    "collapsed": false,
    "ExecuteTime": {
     "end_time": "2024-07-18T15:53:31.726403Z",
     "start_time": "2024-07-18T15:53:29.047407Z"
    }
   },
   "id": "efe2ffc46768b51e"
  },
  {
   "cell_type": "code",
   "execution_count": 20,
   "outputs": [
    {
     "name": "stderr",
     "output_type": "stream",
     "text": [
      "WARNING:absl:Compiled the loaded model, but the compiled metrics have yet to be built. `model.compile_metrics` will be empty until you train or evaluate the model.\n"
     ]
    },
    {
     "name": "stdout",
     "output_type": "stream",
     "text": [
      "     10/Unknown \u001B[1m4s\u001B[0m 412ms/step"
     ]
    },
    {
     "ename": "KeyboardInterrupt",
     "evalue": "",
     "output_type": "error",
     "traceback": [
      "\u001B[0;31m---------------------------------------------------------------------------\u001B[0m",
      "\u001B[0;31mKeyboardInterrupt\u001B[0m                         Traceback (most recent call last)",
      "Cell \u001B[0;32mIn[20], line 2\u001B[0m\n\u001B[1;32m      1\u001B[0m model \u001B[38;5;241m=\u001B[39m load_model(os\u001B[38;5;241m.\u001B[39mpath\u001B[38;5;241m.\u001B[39mjoin(os\u001B[38;5;241m.\u001B[39mgetenv(\u001B[38;5;124m'\u001B[39m\u001B[38;5;124mMODEL_DIR\u001B[39m\u001B[38;5;124m'\u001B[39m), \u001B[38;5;124m'\u001B[39m\u001B[38;5;124mcell_count_v2.h5\u001B[39m\u001B[38;5;124m'\u001B[39m))\n\u001B[0;32m----> 2\u001B[0m predictions \u001B[38;5;241m=\u001B[39m \u001B[43mmodel\u001B[49m\u001B[38;5;241;43m.\u001B[39;49m\u001B[43mpredict\u001B[49m\u001B[43m(\u001B[49m\u001B[43mdataset\u001B[49m\u001B[38;5;241;43m.\u001B[39;49m\u001B[43mbatch\u001B[49m\u001B[43m(\u001B[49m\u001B[38;5;241;43m32\u001B[39;49m\u001B[43m)\u001B[49m\u001B[43m)\u001B[49m\n\u001B[1;32m      3\u001B[0m y_pred \u001B[38;5;241m=\u001B[39m pd\u001B[38;5;241m.\u001B[39mDataFrame(np\u001B[38;5;241m.\u001B[39margmax(np\u001B[38;5;241m.\u001B[39marray(predictions), axis\u001B[38;5;241m=\u001B[39m\u001B[38;5;241m-\u001B[39m\u001B[38;5;241m1\u001B[39m)\u001B[38;5;241m.\u001B[39mtranspose(), columns\u001B[38;5;241m=\u001B[39mannotation_keys)\n\u001B[1;32m      5\u001B[0m y_true \u001B[38;5;241m=\u001B[39m y_pred\u001B[38;5;241m.\u001B[39mcopy()\n",
      "File \u001B[0;32m~/mambaforge/envs/dropcnn/lib/python3.12/site-packages/keras/src/utils/traceback_utils.py:117\u001B[0m, in \u001B[0;36mfilter_traceback.<locals>.error_handler\u001B[0;34m(*args, **kwargs)\u001B[0m\n\u001B[1;32m    115\u001B[0m filtered_tb \u001B[38;5;241m=\u001B[39m \u001B[38;5;28;01mNone\u001B[39;00m\n\u001B[1;32m    116\u001B[0m \u001B[38;5;28;01mtry\u001B[39;00m:\n\u001B[0;32m--> 117\u001B[0m     \u001B[38;5;28;01mreturn\u001B[39;00m \u001B[43mfn\u001B[49m\u001B[43m(\u001B[49m\u001B[38;5;241;43m*\u001B[39;49m\u001B[43margs\u001B[49m\u001B[43m,\u001B[49m\u001B[43m \u001B[49m\u001B[38;5;241;43m*\u001B[39;49m\u001B[38;5;241;43m*\u001B[39;49m\u001B[43mkwargs\u001B[49m\u001B[43m)\u001B[49m\n\u001B[1;32m    118\u001B[0m \u001B[38;5;28;01mexcept\u001B[39;00m \u001B[38;5;167;01mException\u001B[39;00m \u001B[38;5;28;01mas\u001B[39;00m e:\n\u001B[1;32m    119\u001B[0m     filtered_tb \u001B[38;5;241m=\u001B[39m _process_traceback_frames(e\u001B[38;5;241m.\u001B[39m__traceback__)\n",
      "File \u001B[0;32m~/mambaforge/envs/dropcnn/lib/python3.12/site-packages/keras/src/backend/tensorflow/trainer.py:503\u001B[0m, in \u001B[0;36mTensorFlowTrainer.predict\u001B[0;34m(self, x, batch_size, verbose, steps, callbacks)\u001B[0m\n\u001B[1;32m    501\u001B[0m \u001B[38;5;28;01mfor\u001B[39;00m step, iterator \u001B[38;5;129;01min\u001B[39;00m epoch_iterator\u001B[38;5;241m.\u001B[39menumerate_epoch():\n\u001B[1;32m    502\u001B[0m     callbacks\u001B[38;5;241m.\u001B[39mon_predict_batch_begin(step)\n\u001B[0;32m--> 503\u001B[0m     data \u001B[38;5;241m=\u001B[39m \u001B[43mget_data\u001B[49m\u001B[43m(\u001B[49m\u001B[43miterator\u001B[49m\u001B[43m)\u001B[49m\n\u001B[1;32m    504\u001B[0m     batch_outputs \u001B[38;5;241m=\u001B[39m \u001B[38;5;28mself\u001B[39m\u001B[38;5;241m.\u001B[39mpredict_function(data)\n\u001B[1;32m    505\u001B[0m     outputs \u001B[38;5;241m=\u001B[39m append_to_outputs(batch_outputs, outputs)\n",
      "File \u001B[0;32m~/mambaforge/envs/dropcnn/lib/python3.12/site-packages/keras/src/backend/tensorflow/trainer.py:483\u001B[0m, in \u001B[0;36mTensorFlowTrainer.predict.<locals>.get_data\u001B[0;34m(iterator)\u001B[0m\n\u001B[1;32m    481\u001B[0m \u001B[38;5;28;01mfor\u001B[39;00m _ \u001B[38;5;129;01min\u001B[39;00m \u001B[38;5;28mrange\u001B[39m(\u001B[38;5;28mself\u001B[39m\u001B[38;5;241m.\u001B[39msteps_per_execution):\n\u001B[1;32m    482\u001B[0m     \u001B[38;5;28;01mtry\u001B[39;00m:\n\u001B[0;32m--> 483\u001B[0m         single_step_data \u001B[38;5;241m=\u001B[39m \u001B[38;5;28;43mnext\u001B[39;49m\u001B[43m(\u001B[49m\u001B[43miterator\u001B[49m\u001B[43m)\u001B[49m\n\u001B[1;32m    484\u001B[0m     \u001B[38;5;28;01mexcept\u001B[39;00m (\u001B[38;5;167;01mStopIteration\u001B[39;00m, tf\u001B[38;5;241m.\u001B[39merrors\u001B[38;5;241m.\u001B[39mOutOfRangeError) \u001B[38;5;28;01mas\u001B[39;00m e:\n\u001B[1;32m    485\u001B[0m         \u001B[38;5;28;01mif\u001B[39;00m \u001B[38;5;28mhasattr\u001B[39m(data, \u001B[38;5;124m\"\u001B[39m\u001B[38;5;124m__len__\u001B[39m\u001B[38;5;124m\"\u001B[39m) \u001B[38;5;129;01mand\u001B[39;00m \u001B[38;5;28mlen\u001B[39m(data) \u001B[38;5;241m>\u001B[39m \u001B[38;5;241m0\u001B[39m:\n\u001B[1;32m    486\u001B[0m             \u001B[38;5;66;03m# Suppress the error when still have remaining data.\u001B[39;00m\n",
      "File \u001B[0;32m~/mambaforge/envs/dropcnn/lib/python3.12/site-packages/tensorflow/python/data/ops/iterator_ops.py:809\u001B[0m, in \u001B[0;36mOwnedIterator.__next__\u001B[0;34m(self)\u001B[0m\n\u001B[1;32m    807\u001B[0m \u001B[38;5;28;01mdef\u001B[39;00m \u001B[38;5;21m__next__\u001B[39m(\u001B[38;5;28mself\u001B[39m):\n\u001B[1;32m    808\u001B[0m   \u001B[38;5;28;01mtry\u001B[39;00m:\n\u001B[0;32m--> 809\u001B[0m     \u001B[38;5;28;01mreturn\u001B[39;00m \u001B[38;5;28;43mself\u001B[39;49m\u001B[38;5;241;43m.\u001B[39;49m\u001B[43m_next_internal\u001B[49m\u001B[43m(\u001B[49m\u001B[43m)\u001B[49m\n\u001B[1;32m    810\u001B[0m   \u001B[38;5;28;01mexcept\u001B[39;00m errors\u001B[38;5;241m.\u001B[39mOutOfRangeError:\n\u001B[1;32m    811\u001B[0m     \u001B[38;5;28;01mraise\u001B[39;00m \u001B[38;5;167;01mStopIteration\u001B[39;00m\n",
      "File \u001B[0;32m~/mambaforge/envs/dropcnn/lib/python3.12/site-packages/tensorflow/python/data/ops/iterator_ops.py:772\u001B[0m, in \u001B[0;36mOwnedIterator._next_internal\u001B[0;34m(self)\u001B[0m\n\u001B[1;32m    769\u001B[0m \u001B[38;5;66;03m# TODO(b/77291417): This runs in sync mode as iterators use an error status\u001B[39;00m\n\u001B[1;32m    770\u001B[0m \u001B[38;5;66;03m# to communicate that there is no more data to iterate over.\u001B[39;00m\n\u001B[1;32m    771\u001B[0m \u001B[38;5;28;01mwith\u001B[39;00m context\u001B[38;5;241m.\u001B[39mexecution_mode(context\u001B[38;5;241m.\u001B[39mSYNC):\n\u001B[0;32m--> 772\u001B[0m   ret \u001B[38;5;241m=\u001B[39m \u001B[43mgen_dataset_ops\u001B[49m\u001B[38;5;241;43m.\u001B[39;49m\u001B[43miterator_get_next\u001B[49m\u001B[43m(\u001B[49m\n\u001B[1;32m    773\u001B[0m \u001B[43m      \u001B[49m\u001B[38;5;28;43mself\u001B[39;49m\u001B[38;5;241;43m.\u001B[39;49m\u001B[43m_iterator_resource\u001B[49m\u001B[43m,\u001B[49m\n\u001B[1;32m    774\u001B[0m \u001B[43m      \u001B[49m\u001B[43moutput_types\u001B[49m\u001B[38;5;241;43m=\u001B[39;49m\u001B[38;5;28;43mself\u001B[39;49m\u001B[38;5;241;43m.\u001B[39;49m\u001B[43m_flat_output_types\u001B[49m\u001B[43m,\u001B[49m\n\u001B[1;32m    775\u001B[0m \u001B[43m      \u001B[49m\u001B[43moutput_shapes\u001B[49m\u001B[38;5;241;43m=\u001B[39;49m\u001B[38;5;28;43mself\u001B[39;49m\u001B[38;5;241;43m.\u001B[39;49m\u001B[43m_flat_output_shapes\u001B[49m\u001B[43m)\u001B[49m\n\u001B[1;32m    777\u001B[0m   \u001B[38;5;28;01mtry\u001B[39;00m:\n\u001B[1;32m    778\u001B[0m     \u001B[38;5;66;03m# Fast path for the case `self._structure` is not a nested structure.\u001B[39;00m\n\u001B[1;32m    779\u001B[0m     \u001B[38;5;28;01mreturn\u001B[39;00m \u001B[38;5;28mself\u001B[39m\u001B[38;5;241m.\u001B[39m_element_spec\u001B[38;5;241m.\u001B[39m_from_compatible_tensor_list(ret)  \u001B[38;5;66;03m# pylint: disable=protected-access\u001B[39;00m\n",
      "File \u001B[0;32m~/mambaforge/envs/dropcnn/lib/python3.12/site-packages/tensorflow/python/ops/gen_dataset_ops.py:3081\u001B[0m, in \u001B[0;36miterator_get_next\u001B[0;34m(iterator, output_types, output_shapes, name)\u001B[0m\n\u001B[1;32m   3079\u001B[0m \u001B[38;5;28;01mif\u001B[39;00m tld\u001B[38;5;241m.\u001B[39mis_eager:\n\u001B[1;32m   3080\u001B[0m   \u001B[38;5;28;01mtry\u001B[39;00m:\n\u001B[0;32m-> 3081\u001B[0m     _result \u001B[38;5;241m=\u001B[39m \u001B[43mpywrap_tfe\u001B[49m\u001B[38;5;241;43m.\u001B[39;49m\u001B[43mTFE_Py_FastPathExecute\u001B[49m\u001B[43m(\u001B[49m\n\u001B[1;32m   3082\u001B[0m \u001B[43m      \u001B[49m\u001B[43m_ctx\u001B[49m\u001B[43m,\u001B[49m\u001B[43m \u001B[49m\u001B[38;5;124;43m\"\u001B[39;49m\u001B[38;5;124;43mIteratorGetNext\u001B[39;49m\u001B[38;5;124;43m\"\u001B[39;49m\u001B[43m,\u001B[49m\u001B[43m \u001B[49m\u001B[43mname\u001B[49m\u001B[43m,\u001B[49m\u001B[43m \u001B[49m\u001B[43miterator\u001B[49m\u001B[43m,\u001B[49m\u001B[43m \u001B[49m\u001B[38;5;124;43m\"\u001B[39;49m\u001B[38;5;124;43moutput_types\u001B[39;49m\u001B[38;5;124;43m\"\u001B[39;49m\u001B[43m,\u001B[49m\u001B[43m \u001B[49m\u001B[43moutput_types\u001B[49m\u001B[43m,\u001B[49m\n\u001B[1;32m   3083\u001B[0m \u001B[43m      \u001B[49m\u001B[38;5;124;43m\"\u001B[39;49m\u001B[38;5;124;43moutput_shapes\u001B[39;49m\u001B[38;5;124;43m\"\u001B[39;49m\u001B[43m,\u001B[49m\u001B[43m \u001B[49m\u001B[43moutput_shapes\u001B[49m\u001B[43m)\u001B[49m\n\u001B[1;32m   3084\u001B[0m     \u001B[38;5;28;01mreturn\u001B[39;00m _result\n\u001B[1;32m   3085\u001B[0m   \u001B[38;5;28;01mexcept\u001B[39;00m _core\u001B[38;5;241m.\u001B[39m_NotOkStatusException \u001B[38;5;28;01mas\u001B[39;00m e:\n",
      "\u001B[0;31mKeyboardInterrupt\u001B[0m: "
     ]
    }
   ],
   "source": [
    "model = load_model(os.path.join(os.getenv('MODEL_DIR'), 'cell_count_v2.h5'))\n",
    "predictions = model.predict(dataset.batch(32))\n",
    "y_pred = pd.DataFrame(np.argmax(np.array(predictions), axis=-1).transpose(), columns=annotation_keys)\n",
    "\n",
    "y_true = y_pred.copy()\n",
    "for i, (element, output) in enumerate(dataset.as_numpy_iterator()):\n",
    "    y_true.iloc[i, :] = np.array([np.argmax(output[f'{key}_output']) for key in annotation_keys])"
   ],
   "metadata": {
    "collapsed": false,
    "ExecuteTime": {
     "end_time": "2024-07-18T15:53:37.029393Z",
     "start_time": "2024-07-18T15:53:31.727199Z"
    }
   },
   "id": "8dcbbaa102a568e0"
  },
  {
   "cell_type": "code",
   "execution_count": 18,
   "outputs": [
    {
     "data": {
      "text/plain": "Text(0.5, 0, 'Predicted number of cells')"
     },
     "execution_count": 18,
     "metadata": {},
     "output_type": "execute_result"
    },
    {
     "data": {
      "text/plain": "<Figure size 400x400 with 4 Axes>",
      "image/png": "[encoded data removed]"
     },
     "metadata": {},
     "output_type": "display_data"
    }
   ],
   "source": [
    "ann2title = {'Target': 'Target',\n",
    "             'Effector': 'Effector',\n",
    "             'dead_Target': 'Dead Target',\n",
    "             'dead_Effector': 'Dead Effector'}\n",
    "\n",
    "fig,axs = plt.subplots(ncols=2, nrows=2, figsize=(4,4), dpi=100, sharey=True, sharex=True)\n",
    "for ax, ann in zip(axs.flatten(), annotation_keys):\n",
    "    ConfusionMatrixDisplay.from_predictions(y_true=y_true[ann], y_pred=y_pred[ann], labels=np.arange(5),cmap='Blues',ax=ax,colorbar=False, normalize='true', values_format='.2f', text_kw={'fontsize': 7})\n",
    "    ax.grid(False)\n",
    "    ax.set_ylabel('')\n",
    "    ax.set_xlabel('')\n",
    "    ax.set_title(ann2title[ann])\n",
    "\n",
    "axs.flatten()[0].set_ylabel('True number of cells')\n",
    "axs.flatten()[2].set_ylabel('True number of cells')\n",
    "axs.flatten()[2].set_xlabel('Predicted number of cells')\n",
    "axs.flatten()[3].set_xlabel('Predicted number of cells')"
   ],
   "metadata": {
    "collapsed": false,
    "ExecuteTime": {
     "end_time": "2024-07-18T13:55:41.467961Z",
     "start_time": "2024-07-18T13:55:41.207876Z"
    }
   },
   "id": "cace808ce5c8fe8e"
  },
  {
   "cell_type": "code",
   "execution_count": null,
   "outputs": [],
   "source": [],
   "metadata": {
    "collapsed": false
   },
   "id": "a235b8e62e44927a"
  }
 ],
 "metadata": {
  "kernelspec": {
   "display_name": "Python 3 (ipykernel)",
   "language": "python",
   "name": "python3"
  },
  "language_info": {
   "codemirror_mode": {
    "name": "ipython",
    "version": 3
   },
   "file_extension": ".py",
   "mimetype": "text/x-python",
   "name": "python",
   "nbconvert_exporter": "python",
   "pygments_lexer": "ipython3",
   "version": "3.10.9"
  }
 },
 "nbformat": 4,
 "nbformat_minor": 5
}
