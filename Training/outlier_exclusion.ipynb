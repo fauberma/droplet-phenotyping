{
 "cells": [
  {
   "cell_type": "code",
   "execution_count": 1,
   "outputs": [],
   "source": [
    "%load_ext autoreload\n",
    "%autoreload 2"
   ],
   "metadata": {
    "collapsed": false,
    "ExecuteTime": {
     "end_time": "2024-09-13T16:59:33.678593Z",
     "start_time": "2024-09-13T16:59:33.663371Z"
    }
   },
   "id": "7c817509be757d53"
  },
  {
   "cell_type": "code",
   "execution_count": 2,
   "outputs": [],
   "source": [
    "import sys\n",
    "import os\n",
    "sys.path.append(os.path.join(os.getcwd(), os.pardir))\n",
    "import numpy as np\n",
    "import pandas as pd\n",
    "import tensorflow as tf\n",
    "from Tools.leica_tools import RawLoader\n",
    "from Tools.db_tools import DbManager\n",
    "from functools import partial\n",
    "from sklearn.cluster import KMeans\n",
    "import matplotlib.pyplot as plt\n",
    "from matplotlib.backends.backend_pdf import PdfPages\n",
    "from keras.api.models import Model\n",
    "from keras.api.layers import Input, Conv2D, Flatten, Dense, MaxPooling2D, Dropout\n",
    "from keras.api.losses import BinaryCrossentropy\n",
    "from keras.api.metrics import BinaryAccuracy\n",
    "from keras.api.optimizers import Adam\n",
    "from keras.api.utils import plot_model"
   ],
   "metadata": {
    "collapsed": false,
    "ExecuteTime": {
     "end_time": "2024-09-13T16:59:41.925634Z",
     "start_time": "2024-09-13T16:59:33.673400Z"
    }
   },
   "id": "8bb86d62ebc32413"
  },
  {
   "cell_type": "code",
   "execution_count": null,
   "outputs": [],
   "source": [],
   "metadata": {
    "collapsed": false
   },
   "id": "7ae77287f8a69b1d"
  },
  {
   "cell_type": "markdown",
   "source": [
    "# KMeans detection"
   ],
   "metadata": {
    "collapsed": false
   },
   "id": "69fd6f744e4b5275"
  },
  {
   "cell_type": "code",
   "execution_count": 83,
   "outputs": [],
   "source": [
    "expID = 'NKIP_FA_070'\n",
    "os.mkdir(os.path.join(os.getenv('EXP_DIR'), expID, 'KMeans'))"
   ],
   "metadata": {
    "collapsed": false,
    "ExecuteTime": {
     "end_time": "2024-09-13T12:42:03.796599Z",
     "start_time": "2024-09-13T12:42:03.761455Z"
    }
   },
   "id": "78e968be5c623b5c"
  },
  {
   "cell_type": "code",
   "execution_count": 84,
   "outputs": [],
   "source": [
    "rawloader = RawLoader(expID)\n",
    "dbm = DbManager()\n",
    "droplet_df = rawloader.get_droplet_df()"
   ],
   "metadata": {
    "collapsed": false,
    "ExecuteTime": {
     "end_time": "2024-09-13T12:42:04.632740Z",
     "start_time": "2024-09-13T12:42:04.396557Z"
    }
   },
   "id": "ddd8cce1976de047"
  },
  {
   "cell_type": "code",
   "execution_count": 85,
   "outputs": [
    {
     "name": "stderr",
     "output_type": "stream",
     "text": [
      "2024-09-13 14:43:08.090525: W tensorflow/core/framework/local_rendezvous.cc:404] Local rendezvous is aborting with status: OUT_OF_RANGE: End of sequence\n"
     ]
    }
   ],
   "source": [
    "ds, spec = dbm.get_dataset(expID, return_spec=True)\n",
    "bins = 256\n",
    "histograms = np.zeros((spec['n_frames'], bins))\n",
    "globalIDs = np.zeros(spec['n_frames'])\n",
    "for i, element in enumerate(ds.as_numpy_iterator()):\n",
    "    globalIDs[i] = element['GlobalID']\n",
    "    frame = element['frame']\n",
    "    hist, bins = np.histogram(frame[:, :, 0].flatten(), bins=bins, range=(0, 65535), density=True)\n",
    "    histograms[i, :] = hist / np.sum(hist)"
   ],
   "metadata": {
    "collapsed": false,
    "ExecuteTime": {
     "end_time": "2024-09-13T12:43:08.093985Z",
     "start_time": "2024-09-13T12:42:05.874618Z"
    }
   },
   "id": "c682f113c34e67d1"
  },
  {
   "cell_type": "code",
   "execution_count": 90,
   "outputs": [
    {
     "name": "stdout",
     "output_type": "stream",
     "text": [
      "Group 0 labeled with 23239 droplets\n",
      "Group 1 labeled with 1763 droplets\n",
      "Group 2 labeled with 21308 droplets\n",
      "Group 3 labeled with 11892 droplets\n",
      "Group 4 labeled with 9151 droplets\n",
      "Group 5 labeled with 10754 droplets\n",
      "Group 6 labeled with 16396 droplets\n",
      "Group 7 labeled with 102 droplets\n"
     ]
    }
   ],
   "source": [
    "n_clusters = 8\n",
    "kmeans = KMeans(n_clusters=n_clusters, random_state=42)\n",
    "clusters = kmeans.fit_predict(histograms)\n",
    "cluster_labels, counts = np.unique(clusters, return_counts=True)\n",
    "for l, c in zip(cluster_labels, counts):\n",
    "    print(f'Group {l} labeled with {c} droplets')\n",
    "cluster_df =  pd.DataFrame(clusters, index=pd.Index(globalIDs, name='GlobalID').astype(int), columns=['cluster'])"
   ],
   "metadata": {
    "collapsed": false,
    "ExecuteTime": {
     "end_time": "2024-09-13T12:46:34.350425Z",
     "start_time": "2024-09-13T12:46:32.936195Z"
    }
   },
   "id": "17b8a30711f769ca"
  },
  {
   "cell_type": "code",
   "execution_count": 91,
   "outputs": [
    {
     "name": "stderr",
     "output_type": "stream",
     "text": [
      "2024-09-13 14:46:42.735798: W tensorflow/core/framework/local_rendezvous.cc:404] Local rendezvous is aborting with status: OUT_OF_RANGE: End of sequence\n",
      "2024-09-13 14:46:42.860892: W tensorflow/core/framework/local_rendezvous.cc:404] Local rendezvous is aborting with status: OUT_OF_RANGE: End of sequence\n",
      "2024-09-13 14:46:42.993043: W tensorflow/core/framework/local_rendezvous.cc:404] Local rendezvous is aborting with status: OUT_OF_RANGE: End of sequence\n",
      "2024-09-13 14:46:43.109358: W tensorflow/core/framework/local_rendezvous.cc:404] Local rendezvous is aborting with status: OUT_OF_RANGE: End of sequence\n",
      "2024-09-13 14:46:43.225087: W tensorflow/core/framework/local_rendezvous.cc:404] Local rendezvous is aborting with status: OUT_OF_RANGE: End of sequence\n",
      "2024-09-13 14:46:43.349648: W tensorflow/core/framework/local_rendezvous.cc:404] Local rendezvous is aborting with status: OUT_OF_RANGE: End of sequence\n",
      "2024-09-13 14:46:43.470581: W tensorflow/core/framework/local_rendezvous.cc:404] Local rendezvous is aborting with status: OUT_OF_RANGE: End of sequence\n",
      "2024-09-13 14:46:43.595054: W tensorflow/core/framework/local_rendezvous.cc:404] Local rendezvous is aborting with status: OUT_OF_RANGE: End of sequence\n",
      "2024-09-13 14:46:43.718592: W tensorflow/core/framework/local_rendezvous.cc:404] Local rendezvous is aborting with status: OUT_OF_RANGE: End of sequence\n",
      "2024-09-13 14:46:43.836129: W tensorflow/core/framework/local_rendezvous.cc:404] Local rendezvous is aborting with status: OUT_OF_RANGE: End of sequence\n",
      "2024-09-13 14:46:43.960542: W tensorflow/core/framework/local_rendezvous.cc:404] Local rendezvous is aborting with status: OUT_OF_RANGE: End of sequence\n",
      "2024-09-13 14:46:44.074121: W tensorflow/core/framework/local_rendezvous.cc:404] Local rendezvous is aborting with status: OUT_OF_RANGE: End of sequence\n",
      "2024-09-13 14:46:44.195736: W tensorflow/core/framework/local_rendezvous.cc:404] Local rendezvous is aborting with status: OUT_OF_RANGE: End of sequence\n",
      "2024-09-13 14:46:44.316297: W tensorflow/core/framework/local_rendezvous.cc:404] Local rendezvous is aborting with status: OUT_OF_RANGE: End of sequence\n",
      "2024-09-13 14:46:44.520403: W tensorflow/core/framework/local_rendezvous.cc:404] Local rendezvous is aborting with status: OUT_OF_RANGE: End of sequence\n",
      "2024-09-13 14:46:44.646155: W tensorflow/core/framework/local_rendezvous.cc:404] Local rendezvous is aborting with status: OUT_OF_RANGE: End of sequence\n",
      "2024-09-13 14:46:44.772377: W tensorflow/core/framework/local_rendezvous.cc:404] Local rendezvous is aborting with status: OUT_OF_RANGE: End of sequence\n",
      "2024-09-13 14:46:44.891941: W tensorflow/core/framework/local_rendezvous.cc:404] Local rendezvous is aborting with status: OUT_OF_RANGE: End of sequence\n",
      "2024-09-13 14:46:45.018795: W tensorflow/core/framework/local_rendezvous.cc:404] Local rendezvous is aborting with status: OUT_OF_RANGE: End of sequence\n",
      "2024-09-13 14:46:45.133721: W tensorflow/core/framework/local_rendezvous.cc:404] Local rendezvous is aborting with status: OUT_OF_RANGE: End of sequence\n",
      "2024-09-13 14:46:45.254669: W tensorflow/core/framework/local_rendezvous.cc:404] Local rendezvous is aborting with status: OUT_OF_RANGE: End of sequence\n",
      "2024-09-13 14:46:45.376867: W tensorflow/core/framework/local_rendezvous.cc:404] Local rendezvous is aborting with status: OUT_OF_RANGE: End of sequence\n",
      "2024-09-13 14:46:45.493965: W tensorflow/core/framework/local_rendezvous.cc:404] Local rendezvous is aborting with status: OUT_OF_RANGE: End of sequence\n",
      "2024-09-13 14:46:45.618701: W tensorflow/core/framework/local_rendezvous.cc:404] Local rendezvous is aborting with status: OUT_OF_RANGE: End of sequence\n",
      "2024-09-13 14:46:45.739258: W tensorflow/core/framework/local_rendezvous.cc:404] Local rendezvous is aborting with status: OUT_OF_RANGE: End of sequence\n",
      "2024-09-13 14:46:45.862532: W tensorflow/core/framework/local_rendezvous.cc:404] Local rendezvous is aborting with status: OUT_OF_RANGE: End of sequence\n",
      "2024-09-13 14:46:45.983243: W tensorflow/core/framework/local_rendezvous.cc:404] Local rendezvous is aborting with status: OUT_OF_RANGE: End of sequence\n",
      "2024-09-13 14:46:46.111760: W tensorflow/core/framework/local_rendezvous.cc:404] Local rendezvous is aborting with status: OUT_OF_RANGE: End of sequence\n",
      "2024-09-13 14:46:46.234899: W tensorflow/core/framework/local_rendezvous.cc:404] Local rendezvous is aborting with status: OUT_OF_RANGE: End of sequence\n",
      "2024-09-13 14:46:46.353220: W tensorflow/core/framework/local_rendezvous.cc:404] Local rendezvous is aborting with status: OUT_OF_RANGE: End of sequence\n",
      "2024-09-13 14:46:46.558848: W tensorflow/core/framework/local_rendezvous.cc:404] Local rendezvous is aborting with status: OUT_OF_RANGE: End of sequence\n",
      "2024-09-13 14:46:46.678922: W tensorflow/core/framework/local_rendezvous.cc:404] Local rendezvous is aborting with status: OUT_OF_RANGE: End of sequence\n",
      "2024-09-13 14:46:46.801021: W tensorflow/core/framework/local_rendezvous.cc:404] Local rendezvous is aborting with status: OUT_OF_RANGE: End of sequence\n",
      "2024-09-13 14:46:46.921788: W tensorflow/core/framework/local_rendezvous.cc:404] Local rendezvous is aborting with status: OUT_OF_RANGE: End of sequence\n",
      "2024-09-13 14:46:47.050327: W tensorflow/core/framework/local_rendezvous.cc:404] Local rendezvous is aborting with status: OUT_OF_RANGE: End of sequence\n",
      "2024-09-13 14:46:47.178976: W tensorflow/core/framework/local_rendezvous.cc:404] Local rendezvous is aborting with status: OUT_OF_RANGE: End of sequence\n",
      "2024-09-13 14:46:47.308812: W tensorflow/core/framework/local_rendezvous.cc:404] Local rendezvous is aborting with status: OUT_OF_RANGE: End of sequence\n",
      "2024-09-13 14:46:47.432149: W tensorflow/core/framework/local_rendezvous.cc:404] Local rendezvous is aborting with status: OUT_OF_RANGE: End of sequence\n",
      "2024-09-13 14:46:47.554883: W tensorflow/core/framework/local_rendezvous.cc:404] Local rendezvous is aborting with status: OUT_OF_RANGE: End of sequence\n",
      "2024-09-13 14:46:47.677557: W tensorflow/core/framework/local_rendezvous.cc:404] Local rendezvous is aborting with status: OUT_OF_RANGE: End of sequence\n",
      "2024-09-13 14:46:47.805353: W tensorflow/core/framework/local_rendezvous.cc:404] Local rendezvous is aborting with status: OUT_OF_RANGE: End of sequence\n",
      "2024-09-13 14:46:47.922140: W tensorflow/core/framework/local_rendezvous.cc:404] Local rendezvous is aborting with status: OUT_OF_RANGE: End of sequence\n",
      "2024-09-13 14:46:48.042831: W tensorflow/core/framework/local_rendezvous.cc:404] Local rendezvous is aborting with status: OUT_OF_RANGE: End of sequence\n",
      "2024-09-13 14:46:48.154534: W tensorflow/core/framework/local_rendezvous.cc:404] Local rendezvous is aborting with status: OUT_OF_RANGE: End of sequence\n",
      "2024-09-13 14:46:48.282345: W tensorflow/core/framework/local_rendezvous.cc:404] Local rendezvous is aborting with status: OUT_OF_RANGE: End of sequence\n",
      "2024-09-13 14:46:48.400988: W tensorflow/core/framework/local_rendezvous.cc:404] Local rendezvous is aborting with status: OUT_OF_RANGE: End of sequence\n",
      "2024-09-13 14:46:48.772508: W tensorflow/core/framework/local_rendezvous.cc:404] Local rendezvous is aborting with status: OUT_OF_RANGE: End of sequence\n",
      "2024-09-13 14:46:48.881572: W tensorflow/core/framework/local_rendezvous.cc:404] Local rendezvous is aborting with status: OUT_OF_RANGE: End of sequence\n",
      "2024-09-13 14:46:48.993488: W tensorflow/core/framework/local_rendezvous.cc:404] Local rendezvous is aborting with status: OUT_OF_RANGE: End of sequence\n",
      "2024-09-13 14:46:49.104540: W tensorflow/core/framework/local_rendezvous.cc:404] Local rendezvous is aborting with status: OUT_OF_RANGE: End of sequence\n",
      "2024-09-13 14:46:49.217155: W tensorflow/core/framework/local_rendezvous.cc:404] Local rendezvous is aborting with status: OUT_OF_RANGE: End of sequence\n",
      "2024-09-13 14:46:49.329915: W tensorflow/core/framework/local_rendezvous.cc:404] Local rendezvous is aborting with status: OUT_OF_RANGE: End of sequence\n",
      "2024-09-13 14:46:49.443091: W tensorflow/core/framework/local_rendezvous.cc:404] Local rendezvous is aborting with status: OUT_OF_RANGE: End of sequence\n",
      "2024-09-13 14:46:49.562035: W tensorflow/core/framework/local_rendezvous.cc:404] Local rendezvous is aborting with status: OUT_OF_RANGE: End of sequence\n",
      "2024-09-13 14:46:49.668689: W tensorflow/core/framework/local_rendezvous.cc:404] Local rendezvous is aborting with status: OUT_OF_RANGE: End of sequence\n",
      "2024-09-13 14:46:49.776232: W tensorflow/core/framework/local_rendezvous.cc:404] Local rendezvous is aborting with status: OUT_OF_RANGE: End of sequence\n",
      "2024-09-13 14:46:49.886836: W tensorflow/core/framework/local_rendezvous.cc:404] Local rendezvous is aborting with status: OUT_OF_RANGE: End of sequence\n",
      "2024-09-13 14:46:49.997373: W tensorflow/core/framework/local_rendezvous.cc:404] Local rendezvous is aborting with status: OUT_OF_RANGE: End of sequence\n",
      "2024-09-13 14:46:50.104862: W tensorflow/core/framework/local_rendezvous.cc:404] Local rendezvous is aborting with status: OUT_OF_RANGE: End of sequence\n",
      "2024-09-13 14:46:50.218777: W tensorflow/core/framework/local_rendezvous.cc:404] Local rendezvous is aborting with status: OUT_OF_RANGE: End of sequence\n",
      "2024-09-13 14:46:50.275001: W tensorflow/core/framework/local_rendezvous.cc:404] Local rendezvous is aborting with status: OUT_OF_RANGE: End of sequence\n",
      "2024-09-13 14:46:50.478946: W tensorflow/core/framework/local_rendezvous.cc:404] Local rendezvous is aborting with status: OUT_OF_RANGE: End of sequence\n",
      "2024-09-13 14:46:50.593304: W tensorflow/core/framework/local_rendezvous.cc:404] Local rendezvous is aborting with status: OUT_OF_RANGE: End of sequence\n",
      "2024-09-13 14:46:50.707115: W tensorflow/core/framework/local_rendezvous.cc:404] Local rendezvous is aborting with status: OUT_OF_RANGE: End of sequence\n",
      "2024-09-13 14:46:50.814280: W tensorflow/core/framework/local_rendezvous.cc:404] Local rendezvous is aborting with status: OUT_OF_RANGE: End of sequence\n",
      "2024-09-13 14:46:50.918579: W tensorflow/core/framework/local_rendezvous.cc:404] Local rendezvous is aborting with status: OUT_OF_RANGE: End of sequence\n",
      "2024-09-13 14:46:51.034783: W tensorflow/core/framework/local_rendezvous.cc:404] Local rendezvous is aborting with status: OUT_OF_RANGE: End of sequence\n",
      "2024-09-13 14:46:51.145330: W tensorflow/core/framework/local_rendezvous.cc:404] Local rendezvous is aborting with status: OUT_OF_RANGE: End of sequence\n",
      "2024-09-13 14:46:51.257060: W tensorflow/core/framework/local_rendezvous.cc:404] Local rendezvous is aborting with status: OUT_OF_RANGE: End of sequence\n",
      "2024-09-13 14:46:51.378383: W tensorflow/core/framework/local_rendezvous.cc:404] Local rendezvous is aborting with status: OUT_OF_RANGE: End of sequence\n",
      "2024-09-13 14:46:51.501787: W tensorflow/core/framework/local_rendezvous.cc:404] Local rendezvous is aborting with status: OUT_OF_RANGE: End of sequence\n",
      "2024-09-13 14:46:51.615487: W tensorflow/core/framework/local_rendezvous.cc:404] Local rendezvous is aborting with status: OUT_OF_RANGE: End of sequence\n",
      "2024-09-13 14:46:51.719671: W tensorflow/core/framework/local_rendezvous.cc:404] Local rendezvous is aborting with status: OUT_OF_RANGE: End of sequence\n",
      "2024-09-13 14:46:51.819560: W tensorflow/core/framework/local_rendezvous.cc:404] Local rendezvous is aborting with status: OUT_OF_RANGE: End of sequence\n",
      "2024-09-13 14:46:51.926587: W tensorflow/core/framework/local_rendezvous.cc:404] Local rendezvous is aborting with status: OUT_OF_RANGE: End of sequence\n",
      "2024-09-13 14:46:52.125954: W tensorflow/core/framework/local_rendezvous.cc:404] Local rendezvous is aborting with status: OUT_OF_RANGE: End of sequence\n",
      "2024-09-13 14:46:52.231203: W tensorflow/core/framework/local_rendezvous.cc:404] Local rendezvous is aborting with status: OUT_OF_RANGE: End of sequence\n",
      "2024-09-13 14:46:52.338990: W tensorflow/core/framework/local_rendezvous.cc:404] Local rendezvous is aborting with status: OUT_OF_RANGE: End of sequence\n",
      "2024-09-13 14:46:52.447869: W tensorflow/core/framework/local_rendezvous.cc:404] Local rendezvous is aborting with status: OUT_OF_RANGE: End of sequence\n",
      "2024-09-13 14:46:52.556469: W tensorflow/core/framework/local_rendezvous.cc:404] Local rendezvous is aborting with status: OUT_OF_RANGE: End of sequence\n",
      "2024-09-13 14:46:52.665455: W tensorflow/core/framework/local_rendezvous.cc:404] Local rendezvous is aborting with status: OUT_OF_RANGE: End of sequence\n",
      "2024-09-13 14:46:52.775812: W tensorflow/core/framework/local_rendezvous.cc:404] Local rendezvous is aborting with status: OUT_OF_RANGE: End of sequence\n",
      "2024-09-13 14:46:52.884347: W tensorflow/core/framework/local_rendezvous.cc:404] Local rendezvous is aborting with status: OUT_OF_RANGE: End of sequence\n",
      "2024-09-13 14:46:52.989255: W tensorflow/core/framework/local_rendezvous.cc:404] Local rendezvous is aborting with status: OUT_OF_RANGE: End of sequence\n",
      "2024-09-13 14:46:53.099290: W tensorflow/core/framework/local_rendezvous.cc:404] Local rendezvous is aborting with status: OUT_OF_RANGE: End of sequence\n",
      "2024-09-13 14:46:53.198444: W tensorflow/core/framework/local_rendezvous.cc:404] Local rendezvous is aborting with status: OUT_OF_RANGE: End of sequence\n",
      "2024-09-13 14:46:53.305037: W tensorflow/core/framework/local_rendezvous.cc:404] Local rendezvous is aborting with status: OUT_OF_RANGE: End of sequence\n",
      "2024-09-13 14:46:53.504719: W tensorflow/core/framework/local_rendezvous.cc:404] Local rendezvous is aborting with status: OUT_OF_RANGE: End of sequence\n",
      "2024-09-13 14:46:53.611219: W tensorflow/core/framework/local_rendezvous.cc:404] Local rendezvous is aborting with status: OUT_OF_RANGE: End of sequence\n",
      "2024-09-13 14:46:53.722474: W tensorflow/core/framework/local_rendezvous.cc:404] Local rendezvous is aborting with status: OUT_OF_RANGE: End of sequence\n",
      "2024-09-13 14:46:53.834570: W tensorflow/core/framework/local_rendezvous.cc:404] Local rendezvous is aborting with status: OUT_OF_RANGE: End of sequence\n",
      "2024-09-13 14:46:53.940859: W tensorflow/core/framework/local_rendezvous.cc:404] Local rendezvous is aborting with status: OUT_OF_RANGE: End of sequence\n",
      "2024-09-13 14:46:54.048601: W tensorflow/core/framework/local_rendezvous.cc:404] Local rendezvous is aborting with status: OUT_OF_RANGE: End of sequence\n",
      "2024-09-13 14:46:54.154233: W tensorflow/core/framework/local_rendezvous.cc:404] Local rendezvous is aborting with status: OUT_OF_RANGE: End of sequence\n",
      "2024-09-13 14:46:54.261071: W tensorflow/core/framework/local_rendezvous.cc:404] Local rendezvous is aborting with status: OUT_OF_RANGE: End of sequence\n",
      "2024-09-13 14:46:54.368672: W tensorflow/core/framework/local_rendezvous.cc:404] Local rendezvous is aborting with status: OUT_OF_RANGE: End of sequence\n",
      "2024-09-13 14:46:54.480850: W tensorflow/core/framework/local_rendezvous.cc:404] Local rendezvous is aborting with status: OUT_OF_RANGE: End of sequence\n",
      "2024-09-13 14:46:54.592035: W tensorflow/core/framework/local_rendezvous.cc:404] Local rendezvous is aborting with status: OUT_OF_RANGE: End of sequence\n",
      "2024-09-13 14:46:54.705547: W tensorflow/core/framework/local_rendezvous.cc:404] Local rendezvous is aborting with status: OUT_OF_RANGE: End of sequence\n",
      "2024-09-13 14:46:54.825197: W tensorflow/core/framework/local_rendezvous.cc:404] Local rendezvous is aborting with status: OUT_OF_RANGE: End of sequence\n",
      "2024-09-13 14:46:54.933684: W tensorflow/core/framework/local_rendezvous.cc:404] Local rendezvous is aborting with status: OUT_OF_RANGE: End of sequence\n",
      "2024-09-13 14:46:55.115699: W tensorflow/core/framework/local_rendezvous.cc:404] Local rendezvous is aborting with status: OUT_OF_RANGE: End of sequence\n",
      "2024-09-13 14:46:55.216946: W tensorflow/core/framework/local_rendezvous.cc:404] Local rendezvous is aborting with status: OUT_OF_RANGE: End of sequence\n",
      "2024-09-13 14:46:55.322067: W tensorflow/core/framework/local_rendezvous.cc:404] Local rendezvous is aborting with status: OUT_OF_RANGE: End of sequence\n",
      "2024-09-13 14:46:55.428207: W tensorflow/core/framework/local_rendezvous.cc:404] Local rendezvous is aborting with status: OUT_OF_RANGE: End of sequence\n",
      "2024-09-13 14:46:55.529491: W tensorflow/core/framework/local_rendezvous.cc:404] Local rendezvous is aborting with status: OUT_OF_RANGE: End of sequence\n",
      "2024-09-13 14:46:55.636535: W tensorflow/core/framework/local_rendezvous.cc:404] Local rendezvous is aborting with status: OUT_OF_RANGE: End of sequence\n",
      "2024-09-13 14:46:55.746958: W tensorflow/core/framework/local_rendezvous.cc:404] Local rendezvous is aborting with status: OUT_OF_RANGE: End of sequence\n",
      "2024-09-13 14:46:55.852556: W tensorflow/core/framework/local_rendezvous.cc:404] Local rendezvous is aborting with status: OUT_OF_RANGE: End of sequence\n",
      "2024-09-13 14:46:55.954454: W tensorflow/core/framework/local_rendezvous.cc:404] Local rendezvous is aborting with status: OUT_OF_RANGE: End of sequence\n",
      "2024-09-13 14:46:56.051303: W tensorflow/core/framework/local_rendezvous.cc:404] Local rendezvous is aborting with status: OUT_OF_RANGE: End of sequence\n",
      "2024-09-13 14:46:56.146906: W tensorflow/core/framework/local_rendezvous.cc:404] Local rendezvous is aborting with status: OUT_OF_RANGE: End of sequence\n",
      "2024-09-13 14:46:56.258140: W tensorflow/core/framework/local_rendezvous.cc:404] Local rendezvous is aborting with status: OUT_OF_RANGE: End of sequence\n"
     ]
    }
   ],
   "source": [
    "\n",
    "with PdfPages(os.path.join(os.getenv('EXP_DIR'), expID, 'KMeans', f'KMeans_{n_clusters}c.pdf')) as pdf:\n",
    "    for c in cluster_labels:\n",
    "        fig, axs = plt.subplots(figsize=(4,4), ncols=4, nrows=4)\n",
    "        IDs = cluster_df.query(f'cluster == {c}').sample(16).index\n",
    "        frames = dbm.filter_db(expID, IDs)[:, :, :, 0]\n",
    "        for i, ax in enumerate(axs.flatten()):\n",
    "            ax.imshow(frames[i]/65535, cmap='gray', vmin=0, vmax=1)\n",
    "            ax.grid(False)\n",
    "            ax.set_yticks([])\n",
    "            ax.set_xticks([])\n",
    "        fig.suptitle(f'Samples of cluster {c}', fontsize=15)\n",
    "        pdf.savefig(fig)\n",
    "        plt.close()"
   ],
   "metadata": {
    "collapsed": false,
    "ExecuteTime": {
     "end_time": "2024-09-13T12:46:56.386651Z",
     "start_time": "2024-09-13T12:46:42.520136Z"
    }
   },
   "id": "3cf05cf62b6ca8eb"
  },
  {
   "cell_type": "code",
   "execution_count": 92,
   "outputs": [],
   "source": [
    "cluster_df['outlier_KMeans'] = False\n",
    "cluster_df.loc[cluster_df.query('cluster == 1 | cluster == 4 | cluster == 7').index, 'outlier_KMeans'] = True"
   ],
   "metadata": {
    "collapsed": false,
    "ExecuteTime": {
     "end_time": "2024-09-13T12:47:52.349547Z",
     "start_time": "2024-09-13T12:47:52.315723Z"
    }
   },
   "id": "4da7184edb52ca71"
  },
  {
   "cell_type": "code",
   "execution_count": 93,
   "outputs": [],
   "source": [
    "rawloader.update_droplet_df(droplet_df.join(cluster_df))"
   ],
   "metadata": {
    "collapsed": false,
    "ExecuteTime": {
     "end_time": "2024-09-13T12:47:53.278364Z",
     "start_time": "2024-09-13T12:47:52.906434Z"
    }
   },
   "id": "17f9c24faeacfed0"
  },
  {
   "cell_type": "code",
   "execution_count": null,
   "outputs": [],
   "source": [],
   "metadata": {
    "collapsed": false
   },
   "id": "14e8adb9a975c0ce"
  },
  {
   "cell_type": "markdown",
   "source": [
    "# CNN Training"
   ],
   "metadata": {
    "collapsed": false
   },
   "id": "9f216efb50d3b9bb"
  },
  {
   "cell_type": "code",
   "execution_count": 3,
   "outputs": [],
   "source": [
    "dbm = DbManager()"
   ],
   "metadata": {
    "collapsed": false,
    "ExecuteTime": {
     "end_time": "2024-09-13T16:59:42.150016Z",
     "start_time": "2024-09-13T16:59:41.925786Z"
    }
   },
   "id": "b466c49dd248454d"
  },
  {
   "cell_type": "code",
   "execution_count": 4,
   "outputs": [],
   "source": [
    "def outlier_class():\n",
    "    inputs = Input(shape=(128,128,1), name='outlier_input')\n",
    "    \n",
    "    # Add convolutional layer\n",
    "    conv1 = Conv2D(32, (3, 3), activation='relu', name='outlier_conv1')(inputs)\n",
    "    pool1 = MaxPooling2D(pool_size=(2, 2), name='outlier_pool1')(conv1)\n",
    "    \n",
    "    conv2 = Conv2D(64, (3, 3), activation='relu', name='outlier_conv2')(pool1)\n",
    "    pool2 = MaxPooling2D(pool_size=(2, 2), name='outlier_pool2')(conv2)\n",
    "    \n",
    "    conv3 = Conv2D(128, (3, 3), activation='relu', name='outlier_conv3')(pool2)\n",
    "    pool3 = MaxPooling2D(pool_size=(2, 2), name='outlier_pool3')(conv3)\n",
    "    \n",
    "    # Flatten the output from the convolutional layers\n",
    "    flatten = Flatten(name='outlier_flatten')(pool3)\n",
    "    \n",
    "    # Add fully connected layers\n",
    "    dense1 = Dense(512, activation='relu', name='outlier_dense1')(flatten)\n",
    "    dropout1 = Dropout(0.5, name='outlier_dropout1')(dense1)  # Dropout rate of 0.5 (50% dropout rate)\n",
    "    \n",
    "    dense2 = Dense(256, activation='relu', name='outlier_dense2')(dropout1)\n",
    "    dropout2 = Dropout(0.5, name='outlier_dropout2')(dense2)  # Dropout rate of 0.5 (50% dropout rate)\n",
    "    \n",
    "    dense3 = Dense(128, activation='relu', name='outlier_dense3')(dropout2)\n",
    "    dropout3 = Dropout(0.5, name='outlier_dropout3')(dense3)  # Dropout rate of 0.5 (50% dropout rate)\n",
    "    \n",
    "    output = Dense(2, activation='softmax', name='outlier_output')(dropout3)  # Binary classification with sigmoid activation\n",
    "    \n",
    "    model = Model(inputs=inputs, outputs=output, name='outlier_model')\n",
    "\n",
    "    return model"
   ],
   "metadata": {
    "collapsed": false,
    "ExecuteTime": {
     "end_time": "2024-09-13T16:59:43.005601Z",
     "start_time": "2024-09-13T16:59:42.978719Z"
    }
   },
   "id": "e532e65387e45435"
  },
  {
   "cell_type": "code",
   "execution_count": 5,
   "outputs": [],
   "source": [
    "def prepare_data(element, outlier_data):\n",
    "    globalID = element['GlobalID']\n",
    "    expID = element['expID']\n",
    "    element['outlier_input'] = tf.cast(element['frame'][:, :, tf.constant(0)], tf.float32) / 65535\n",
    "    \n",
    "    outputs = {}\n",
    "    label = tf.py_function(lambda x, i: outlier_data.loc[(x.numpy().decode(), i.numpy()), 'outlier_KMeans'], [expID, globalID], tf.int64)\n",
    "    label.set_shape(())\n",
    "    label = tf.cast(tf.one_hot(label, 2), tf.int64)\n",
    "    outputs['outlier_output'] = label\n",
    "    return element, outputs\n",
    "\n",
    "def build_dataset(expIDs):\n",
    "    dataset = dbm.get_datasets(expIDs, shuffle=True)\n",
    "\n",
    "    outlier_dfs = []\n",
    "    for expID in expIDs:\n",
    "        droplet_df = RawLoader(expID).get_droplet_df()\n",
    "        outlier_df = droplet_df[['outlier_KMeans',]].copy()\n",
    "        outlier_df.set_index(pd.MultiIndex.from_product([[expID], outlier_df.index]), inplace=True)  \n",
    "        outlier_dfs.append(outlier_df)\n",
    "    outlier_df = pd.concat(outlier_dfs)\n",
    "\n",
    "    annotated_dataset = dataset.map(partial(prepare_data, outlier_data=outlier_df))\n",
    "    return annotated_dataset"
   ],
   "metadata": {
    "collapsed": false,
    "ExecuteTime": {
     "end_time": "2024-09-13T16:59:43.865724Z",
     "start_time": "2024-09-13T16:59:43.827821Z"
    }
   },
   "id": "f781b1285b39f39c"
  },
  {
   "cell_type": "code",
   "execution_count": 6,
   "outputs": [],
   "source": [
    "#expIDs = ['NKIP_FA_052','NKIP_FA_053', 'NKIP_FA_055', 'NKIP_FA_056'] # outlier_v2 datasets\n",
    "expIDs = ['NKIP_FA_052','NKIP_FA_053', 'NKIP_FA_055', 'NKIP_FA_056', 'NKIP_FA_063', 'NKIP_FA_064', 'NKIP_FA_065', 'NKIP_FA_066','NKIP_FA_067','NKIP_FA_069','NKIP_FA_070'] # outlier_v3 dataset\n",
    "dataset = build_dataset(expIDs)\n",
    "validation_dataset = build_dataset(['NKIP_FA_051'])"
   ],
   "metadata": {
    "collapsed": false,
    "ExecuteTime": {
     "end_time": "2024-09-13T16:59:47.155186Z",
     "start_time": "2024-09-13T16:59:45.549185Z"
    }
   },
   "id": "49b919de6c229c08"
  },
  {
   "cell_type": "code",
   "execution_count": 101,
   "outputs": [
    {
     "name": "stdout",
     "output_type": "stream",
     "text": [
      "970996 frames in train dataset\n",
      "126699 frames in test dataset\n"
     ]
    }
   ],
   "source": [
    "n_elements = dataset.reduce(tf.constant(0), lambda a,b: a+1).numpy()\n",
    "n_elements_val = validation_dataset.reduce(tf.constant(0), lambda a,b: a+1).numpy()\n",
    "print(f'{n_elements} frames in train dataset')\n",
    "print(f'{n_elements_val} frames in test dataset')"
   ],
   "metadata": {
    "collapsed": false,
    "ExecuteTime": {
     "end_time": "2024-09-13T12:51:19.026312Z",
     "start_time": "2024-09-13T12:48:35.477189Z"
    }
   },
   "id": "dc9bb097ab8fa226"
  },
  {
   "cell_type": "code",
   "execution_count": 8,
   "outputs": [],
   "source": [
    "train_final = dataset.shuffle(15000).repeat(2).batch(32)\n",
    "test_final = validation_dataset.repeat(2).batch(32)"
   ],
   "metadata": {
    "collapsed": false,
    "ExecuteTime": {
     "end_time": "2024-09-13T17:00:18.021544Z",
     "start_time": "2024-09-13T17:00:17.984380Z"
    }
   },
   "id": "504c438ed809a3b2"
  },
  {
   "cell_type": "code",
   "execution_count": 9,
   "outputs": [],
   "source": [
    "model = outlier_class()"
   ],
   "metadata": {
    "collapsed": false,
    "ExecuteTime": {
     "end_time": "2024-09-13T17:00:19.576120Z",
     "start_time": "2024-09-13T17:00:19.493618Z"
    }
   },
   "id": "b1a907e707f7b7dd"
  },
  {
   "cell_type": "code",
   "execution_count": null,
   "outputs": [],
   "source": [
    "model_arch = plot_model(model, to_file='outlier_exclusion.png', dpi=100)"
   ],
   "metadata": {
    "collapsed": false
   },
   "id": "a959080bf498668d"
  },
  {
   "cell_type": "code",
   "execution_count": 10,
   "outputs": [],
   "source": [
    "model.compile(optimizer=Adam(),\n",
    "              loss={'outlier_output': BinaryCrossentropy()},\n",
    "              metrics={'outlier_output': BinaryAccuracy()})"
   ],
   "metadata": {
    "collapsed": false,
    "ExecuteTime": {
     "end_time": "2024-09-13T17:00:21.871707Z",
     "start_time": "2024-09-13T17:00:21.840961Z"
    }
   },
   "id": "7ba34d593d864d2b"
  },
  {
   "cell_type": "code",
   "execution_count": 11,
   "outputs": [
    {
     "name": "stdout",
     "output_type": "stream",
     "text": [
      "Epoch 1/2\n",
      "\u001B[1m30343/30343\u001B[0m \u001B[32m━━━━━━━━━━━━━━━━━━━━\u001B[0m\u001B[37m\u001B[0m \u001B[1m3623s\u001B[0m 119ms/step - binary_accuracy: 0.9581 - loss: 0.1162 - val_binary_accuracy: 0.9546 - val_loss: 0.1143\n",
      "Epoch 2/2\n",
      "\u001B[1m30343/30343\u001B[0m \u001B[32m━━━━━━━━━━━━━━━━━━━━\u001B[0m\u001B[37m\u001B[0m \u001B[1m3610s\u001B[0m 119ms/step - binary_accuracy: 0.9733 - loss: 0.0731 - val_binary_accuracy: 0.9575 - val_loss: 0.1135\n"
     ]
    },
    {
     "name": "stderr",
     "output_type": "stream",
     "text": [
      "2024-09-13 21:00:55.376150: W tensorflow/core/framework/local_rendezvous.cc:404] Local rendezvous is aborting with status: OUT_OF_RANGE: End of sequence\n",
      "\t [[{{node IteratorGetNext}}]]\n",
      "/Users/fauberma/mambaforge/envs/phenotyping/lib/python3.12/contextlib.py:155: UserWarning: Your input ran out of data; interrupting training. Make sure that your dataset or generator can generate at least `steps_per_epoch * epochs` batches. You may need to use the `.repeat()` function when building your dataset.\n",
      "  self.gen.throw(value)\n"
     ]
    },
    {
     "data": {
      "text/plain": "<keras.src.callbacks.history.History at 0x31756fad0>"
     },
     "execution_count": 11,
     "metadata": {},
     "output_type": "execute_result"
    }
   ],
   "source": [
    "model.fit(train_final, validation_data=test_final, batch_size=32, steps_per_epoch=30343, epochs=2, validation_steps=4701)"
   ],
   "metadata": {
    "collapsed": false,
    "ExecuteTime": {
     "end_time": "2024-09-13T19:02:44.149665Z",
     "start_time": "2024-09-13T17:00:23.124309Z"
    }
   },
   "id": "2714bcd47cd7a4bb"
  },
  {
   "cell_type": "code",
   "execution_count": 12,
   "outputs": [
    {
     "name": "stderr",
     "output_type": "stream",
     "text": [
      "WARNING:absl:You are saving your model as an HDF5 file via `model.save()` or `keras.saving.save_model(model)`. This file format is considered legacy. We recommend using instead the native Keras format, e.g. `model.save('my_model.keras')` or `keras.saving.save_model(model, 'my_model.keras')`. \n"
     ]
    }
   ],
   "source": [
    "model.save(os.path.join(os.getenv('MODEL_DIR'),'outlier_exclusion', 'outlier_v3.h5'))"
   ],
   "metadata": {
    "collapsed": false,
    "ExecuteTime": {
     "end_time": "2024-09-13T19:06:52.968170Z",
     "start_time": "2024-09-13T19:06:52.803242Z"
    }
   },
   "id": "3edd584400b82f05"
  },
  {
   "cell_type": "code",
   "execution_count": null,
   "outputs": [],
   "source": [
    "# Define a function to normalize your data\n",
    "def prepare_data(element, outlier_df):\n",
    "    globalID = element['GlobalID']  # Assuming 'GlobalID' is a tensor\n",
    "    expID = element['expID']\n",
    "    frame = tf.cast(element['frame'][:, :, tf.constant(0)], tf.float32) / 65535\n",
    "\n",
    "    #label = tf.py_function(lambda x: outlier_vec.get(x.numpy()), [globalID], tf.int64)\n",
    "    label = tf.py_function(lambda x, i: outlier_df.loc[(x.numpy().decode(), i.numpy()), 'outlier_KMeans'], [expID, globalID], tf.int64)\n",
    "    label.set_shape(())\n",
    "    label = tf.cast(tf.one_hot(label, 2), tf.int64)\n",
    "    element['outlier_output'] = label\n",
    "    element['outlier_input'] = frame\n",
    "    return element, element\n"
   ],
   "metadata": {
    "collapsed": false
   },
   "id": "415fff4d6e04febc"
  },
  {
   "cell_type": "code",
   "execution_count": null,
   "outputs": [],
   "source": [
    "def get_data(expID):\n",
    "    rawloader = RawLoader(expID)\n",
    "    drop_register = rawloader.get_dropregister()\n",
    "    outlier_df = drop_register[['outlier_KMeans',]].copy().reset_index()\n",
    "    outlier_df['expID'] = expID\n",
    "    outlier_df.set_index(['expID', 'GlobalID'], inplace=True)\n",
    "    dataset = dbm.get_dataset(expID)\n",
    "    return dataset, outlier_df"
   ],
   "metadata": {
    "collapsed": false
   },
   "id": "65cac676efdc9eb9"
  },
  {
   "cell_type": "code",
   "execution_count": null,
   "outputs": [],
   "source": [],
   "metadata": {
    "collapsed": false
   },
   "id": "8f3ea94a8c77809b"
  },
  {
   "cell_type": "markdown",
   "source": [
    "# Inference"
   ],
   "metadata": {
    "collapsed": false
   },
   "id": "7773f05c69a9d5c8"
  },
  {
   "cell_type": "code",
   "execution_count": null,
   "outputs": [],
   "source": [
    "expID = 'AT_2024_007'\n",
    "rawloader = RawLoader(expID)\n",
    "drop_register = rawloader.get_dropregister()\n",
    "label_dict = drop_register['outlier'].to_dict()"
   ],
   "metadata": {
    "collapsed": false
   },
   "id": "76260aa75a96b732"
  },
  {
   "cell_type": "code",
   "execution_count": null,
   "outputs": [],
   "source": [
    "dataset = dbm.get_dataset(expID)\n",
    "normalized_dataset = dataset.map(partial(normalize, label_dict=label_dict)).batch(32)\n",
    "y_predict_raw = model.predict(normalized_dataset)\n"
   ],
   "metadata": {
    "collapsed": false
   },
   "id": "324ae77a88f373a0"
  },
  {
   "cell_type": "code",
   "execution_count": null,
   "outputs": [],
   "source": [
    "globalIDs = [e['GlobalID'] for e in dataset.as_numpy_iterator()]\n",
    "y_predict = np.argmax(y_predict_raw,axis=1).astype(bool)\n",
    "drop_register.loc[globalIDs, 'outlier'] = y_predict\n",
    "rawloader.update_dropregister(drop_register)"
   ],
   "metadata": {
    "collapsed": false
   },
   "id": "cd0f1bd07b3ff79d"
  },
  {
   "cell_type": "code",
   "execution_count": null,
   "outputs": [],
   "source": [
    "from sklearn.cluster import KMeans\n",
    "import matplotlib.pyplot as plt\n",
    "from matplotlib.backends.backend_pdf import PdfPages"
   ],
   "metadata": {
    "collapsed": false
   },
   "id": "59fd680109baeb1c"
  },
  {
   "cell_type": "code",
   "execution_count": null,
   "outputs": [],
   "source": [
    "with PdfPages(os.path.join(rawloader.an_dir, 'outlier_summary.pdf')) as pdf:\n",
    "    for outlier in [True, False]:\n",
    "        fig, axs = plt.subplots(figsize=(8,8), ncols=8, nrows=8)\n",
    "        subset = drop_register.query(f'outlier == {outlier}').copy()\n",
    "        size = subset.index.size\n",
    "        IDs = subset.sample(min(size,64)).index\n",
    "        frames = dbm.filter_db(expID, IDs)[:, :, :, 0]\n",
    "        for i, ax in enumerate(axs.flatten()):\n",
    "            ax.imshow(frames[i]/65535, cmap='gray', vmin=0, vmax=1)\n",
    "            ax.grid(False)\n",
    "            ax.set_yticks([])\n",
    "            ax.set_xticks([])\n",
    "        if outlier:\n",
    "            fig.suptitle(f'Samples of detected outliers ({size} in total)', fontsize=15)\n",
    "        else:\n",
    "            fig.suptitle(f'Samples of detected non-outliers ({size} in total)', fontsize=15)\n",
    "        pdf.savefig(fig)\n",
    "        plt.close()"
   ],
   "metadata": {
    "collapsed": false
   },
   "id": "d0ecfe2610becb6e"
  },
  {
   "cell_type": "code",
   "execution_count": null,
   "outputs": [],
   "source": [],
   "metadata": {
    "collapsed": false
   },
   "id": "7ed6b46039b394a"
  }
 ],
 "metadata": {
  "kernelspec": {
   "display_name": "Python 3",
   "language": "python",
   "name": "python3"
  },
  "language_info": {
   "codemirror_mode": {
    "name": "ipython",
    "version": 2
   },
   "file_extension": ".py",
   "mimetype": "text/x-python",
   "name": "python",
   "nbconvert_exporter": "python",
   "pygments_lexer": "ipython2",
   "version": "2.7.6"
  }
 },
 "nbformat": 4,
 "nbformat_minor": 5
}
